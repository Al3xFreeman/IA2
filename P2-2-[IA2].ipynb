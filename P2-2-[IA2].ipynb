{
 "cells": [
  {
   "cell_type": "code",
   "execution_count": 2,
   "metadata": {},
   "outputs": [],
   "source": [
    "from sklearn.datasets import fetch_20newsgroups"
   ]
  },
  {
   "cell_type": "code",
   "execution_count": 3,
   "metadata": {},
   "outputs": [
    {
     "name": "stdout",
     "output_type": "stream",
     "text": [
      "Training texts: 11314\n",
      "Test texts: 7532\n"
     ]
    }
   ],
   "source": [
    "train_data = fetch_20newsgroups(subset='train', shuffle=True, random_state=42)\n",
    "test_data = fetch_20newsgroups(subset='test')\n",
    "\n",
    "print(\"Training texts:\", len(train_data.data))\n",
    "print(\"Test texts:\", len(test_data.data))"
   ]
  },
  {
   "cell_type": "code",
   "execution_count": 6,
   "metadata": {},
   "outputs": [],
   "source": [
    "from sklearn.feature_extraction.text import CountVectorizer"
   ]
  },
  {
   "cell_type": "code",
   "execution_count": 8,
   "metadata": {},
   "outputs": [],
   "source": [
    "# Pasamos el fichero a una lista (una línea por item)\n",
    "with open('words.txt') as f:\n",
    "    dictionary = f.read().splitlines()"
   ]
  },
  {
   "cell_type": "code",
   "execution_count": 9,
   "metadata": {},
   "outputs": [],
   "source": [
    "vectorizer = CountVectorizer(binary= False, vocabulary=dictionary, stop_words='english', ngram_range = (1,1))"
   ]
  },
  {
   "cell_type": "code",
   "execution_count": 10,
   "metadata": {},
   "outputs": [],
   "source": [
    "from sklearn.metrics.pairwise import cosine_similarity"
   ]
  },
  {
   "cell_type": "code",
   "execution_count": 15,
   "metadata": {
    "scrolled": false
   },
   "outputs": [
    {
     "data": {
      "text/plain": [
       "['DESCR', 'data', 'filenames', 'target', 'target_names']"
      ]
     },
     "execution_count": 15,
     "metadata": {},
     "output_type": "execute_result"
    }
   ],
   "source": [
    "dir(train_data)"
   ]
  },
  {
   "cell_type": "code",
   "execution_count": 38,
   "metadata": {
    "scrolled": false
   },
   "outputs": [
    {
     "data": {
      "text/plain": [
       "array([ 7,  4,  4,  1, 14, 16, 13,  3,  2,  4,  8, 19,  4, 14,  6,  0,  1,\n",
       "        7, 12,  5,  0, 10,  6,  2,  4,  1, 12,  9, 15,  7,  6, 13, 12, 17,\n",
       "       18, 10,  8, 11,  8, 16,  9,  4,  3,  9,  9,  4,  4,  8, 12, 14,  5,\n",
       "       15,  2, 13, 17, 11,  7, 10,  2, 14, 12,  5,  4,  6,  7,  0, 11, 16,\n",
       "        0,  6, 17,  7, 12,  7,  3, 12, 11,  7,  2,  2,  0, 16,  1,  2,  7,\n",
       "        3,  2,  1, 10, 12, 12, 17, 12,  2,  8,  8, 18,  5,  0,  1])"
      ]
     },
     "execution_count": 38,
     "metadata": {},
     "output_type": "execute_result"
    }
   ],
   "source": [
    "train_data.target[0:100]"
   ]
  },
  {
   "cell_type": "code",
   "execution_count": 329,
   "metadata": {},
   "outputs": [
    {
     "data": {
      "text/plain": [
       "{0, 1, 2, 3, 4, 5, 6, 7, 8, 9, 10, 11, 12, 13, 14, 15, 16, 17, 18, 19}"
      ]
     },
     "execution_count": 329,
     "metadata": {},
     "output_type": "execute_result"
    }
   ],
   "source": [
    "set(train_data.target)"
   ]
  },
  {
   "cell_type": "code",
   "execution_count": 330,
   "metadata": {},
   "outputs": [
    {
     "data": {
      "text/plain": [
       "{'alt.atheism',\n",
       " 'comp.graphics',\n",
       " 'comp.os.ms-windows.misc',\n",
       " 'comp.sys.ibm.pc.hardware',\n",
       " 'comp.sys.mac.hardware',\n",
       " 'comp.windows.x',\n",
       " 'misc.forsale',\n",
       " 'rec.autos',\n",
       " 'rec.motorcycles',\n",
       " 'rec.sport.baseball',\n",
       " 'rec.sport.hockey',\n",
       " 'sci.crypt',\n",
       " 'sci.electronics',\n",
       " 'sci.med',\n",
       " 'sci.space',\n",
       " 'soc.religion.christian',\n",
       " 'talk.politics.guns',\n",
       " 'talk.politics.mideast',\n",
       " 'talk.politics.misc',\n",
       " 'talk.religion.misc'}"
      ]
     },
     "execution_count": 330,
     "metadata": {},
     "output_type": "execute_result"
    }
   ],
   "source": [
    "set(train_data.target_names)"
   ]
  },
  {
   "cell_type": "markdown",
   "metadata": {},
   "source": [
    "Esto es para saber que hay suficientes elementos de cada tipo, por lo que podremos hacer selecciones aleatorias hasta tener 3 de cada"
   ]
  },
  {
   "cell_type": "code",
   "execution_count": 182,
   "metadata": {},
   "outputs": [],
   "source": [
    "import numpy as np"
   ]
  },
  {
   "cell_type": "code",
   "execution_count": 48,
   "metadata": {
    "scrolled": true
   },
   "outputs": [
    {
     "data": {
      "text/plain": [
       "{0: 480,\n",
       " 1: 584,\n",
       " 2: 591,\n",
       " 3: 590,\n",
       " 4: 578,\n",
       " 5: 593,\n",
       " 6: 585,\n",
       " 7: 594,\n",
       " 8: 598,\n",
       " 9: 597,\n",
       " 10: 600,\n",
       " 11: 595,\n",
       " 12: 591,\n",
       " 13: 594,\n",
       " 14: 593,\n",
       " 15: 599,\n",
       " 16: 546,\n",
       " 17: 564,\n",
       " 18: 465,\n",
       " 19: 377}"
      ]
     },
     "execution_count": 48,
     "metadata": {},
     "output_type": "execute_result"
    }
   ],
   "source": [
    "unique, counts = np.unique(train_data.target, return_counts=True)\n",
    "dict(zip(unique, counts))"
   ]
  },
  {
   "cell_type": "code",
   "execution_count": 18,
   "metadata": {
    "scrolled": true
   },
   "outputs": [
    {
     "data": {
      "text/plain": [
       "['alt.atheism',\n",
       " 'comp.graphics',\n",
       " 'comp.os.ms-windows.misc',\n",
       " 'comp.sys.ibm.pc.hardware',\n",
       " 'comp.sys.mac.hardware',\n",
       " 'comp.windows.x',\n",
       " 'misc.forsale',\n",
       " 'rec.autos',\n",
       " 'rec.motorcycles',\n",
       " 'rec.sport.baseball',\n",
       " 'rec.sport.hockey',\n",
       " 'sci.crypt',\n",
       " 'sci.electronics',\n",
       " 'sci.med',\n",
       " 'sci.space',\n",
       " 'soc.religion.christian',\n",
       " 'talk.politics.guns',\n",
       " 'talk.politics.mideast',\n",
       " 'talk.politics.misc',\n",
       " 'talk.religion.misc']"
      ]
     },
     "execution_count": 18,
     "metadata": {},
     "output_type": "execute_result"
    }
   ],
   "source": [
    "train_data.target_names"
   ]
  },
  {
   "cell_type": "code",
   "execution_count": 20,
   "metadata": {},
   "outputs": [],
   "source": [
    "import numpy as np\n",
    "import numpy.ma as ma\n",
    "\n",
    "def write_terms (feature_names, data, vector_data, index):\n",
    "    '''\n",
    "    Escribe los términos presentes en un mensaje representado como bolsa de palabras.\n",
    "    \n",
    "    - feature_names: terminos usados para vectorizar\n",
    "    - data: lista de mensajes original (si data==None no se muestra el mensaje original)\n",
    "    - vector_data: matriz (dispersa) de mensaje vectorizados\n",
    "    - index: posición del mensaje a mostrar\n",
    "    '''\n",
    "    # máscara para seleccionar sólo el mensaje en posición index\n",
    "    mask=vector_data[index,:]>0\n",
    "    \n",
    "    # términos que aparecen en ese mensaje vectorizado\n",
    "    terminos = ma.array(feature_names, mask = ~(mask[0].toarray()))\n",
    "    \n",
    "    # mostrar mensaje original\n",
    "    if data:\n",
    "        print('Mensaje', index, ':', data[index])\n",
    "    \n",
    "    # mostrar términos que aparecen en el mensaje vectorizado\n",
    "    print('Mensaje', index, 'vectorizado:', terminos.compressed(),'\\n')"
   ]
  },
  {
   "cell_type": "code",
   "execution_count": 21,
   "metadata": {},
   "outputs": [],
   "source": [
    "train_vector_data = vectorizer.fit_transform(train_data.data)"
   ]
  },
  {
   "cell_type": "code",
   "execution_count": 334,
   "metadata": {},
   "outputs": [
    {
     "name": "stdout",
     "output_type": "stream",
     "text": [
      "  (0, 4151)\t1\n",
      "  (0, 52160)\t1\n",
      "  (0, 53807)\t1\n",
      "  (0, 56907)\t1\n",
      "  (0, 78575)\t1\n",
      "  (0, 112523)\t1\n",
      "  (0, 112565)\t1\n",
      "  (0, 124009)\t1\n",
      "  (0, 124372)\t1\n",
      "  (0, 149051)\t1\n",
      "  (0, 177802)\t1\n",
      "  (0, 184493)\t1\n",
      "  (0, 185287)\t1\n",
      "  (0, 190955)\t1\n",
      "  (0, 208543)\t1\n",
      "  (0, 213043)\t1\n",
      "  (0, 218699)\t1\n",
      "  (0, 221810)\t1\n",
      "  (0, 221819)\t1\n",
      "  (0, 225798)\t1\n",
      "  (0, 242690)\t1\n",
      "  (0, 251793)\t1\n",
      "  (0, 271493)\t1\n",
      "  (0, 306014)\t1\n",
      "  (0, 314710)\t1\n",
      "  :\t:\n",
      "  (11313, 12051)\t1\n",
      "  (11313, 31047)\t1\n",
      "  (11313, 110477)\t1\n",
      "  (11313, 124009)\t1\n",
      "  (11313, 163078)\t1\n",
      "  (11313, 170696)\t1\n",
      "  (11313, 192874)\t1\n",
      "  (11313, 217697)\t1\n",
      "  (11313, 218699)\t1\n",
      "  (11313, 239824)\t1\n",
      "  (11313, 265072)\t2\n",
      "  (11313, 271493)\t1\n",
      "  (11313, 306014)\t1\n",
      "  (11313, 340787)\t1\n",
      "  (11313, 359935)\t1\n",
      "  (11313, 360545)\t1\n",
      "  (11313, 365530)\t1\n",
      "  (11313, 385115)\t2\n",
      "  (11313, 389038)\t1\n",
      "  (11313, 391937)\t1\n",
      "  (11313, 398618)\t1\n",
      "  (11313, 400462)\t1\n",
      "  (11313, 410906)\t1\n",
      "  (11313, 413140)\t1\n",
      "  (11313, 419956)\t1\n"
     ]
    }
   ],
   "source": [
    "print(train_vector_data)"
   ]
  },
  {
   "cell_type": "code",
   "execution_count": 22,
   "metadata": {},
   "outputs": [],
   "source": [
    "feature_names = vectorizer.get_feature_names()"
   ]
  },
  {
   "cell_type": "code",
   "execution_count": 31,
   "metadata": {
    "scrolled": true
   },
   "outputs": [
    {
     "name": "stdout",
     "output_type": "stream",
     "text": [
      "number\n"
     ]
    }
   ],
   "source": [
    "print(feature_names[265072])"
   ]
  },
  {
   "cell_type": "code",
   "execution_count": 35,
   "metadata": {
    "scrolled": true
   },
   "outputs": [
    {
     "name": "stdout",
     "output_type": "stream",
     "text": [
      "Mensaje 1 vectorizado: ['acceleration' 'adapters' 'answered' 'article' 'attained' 'brave' 'cards'\n",
      " 'clock' 'days' 'detailing' 'disk' 'especially' 'experiences' 'final'\n",
      " 'floppy' 'floppies' 'functionality' 'heat' 'hour' 'keywords' 'knowledge'\n",
      " 'lines' 'message' 'network' 'number' 'organization' 'oscillator'\n",
      " 'posting' 'procedure' 'rated' 'reports' 'requested' 'send' 'shared'\n",
      " 'sinks' 'souls' 'speed' 'subject' 'summary' 'summarizing' 'thanks'\n",
      " 'upgrade' 'upgraded' 'usage'] \n",
      "\n"
     ]
    }
   ],
   "source": [
    "write_terms(feature_names, None, train_vector_data, 1)"
   ]
  },
  {
   "cell_type": "code",
   "execution_count": 262,
   "metadata": {},
   "outputs": [
    {
     "data": {
      "text/plain": [
       "scipy.sparse.csr.csr_matrix"
      ]
     },
     "execution_count": 262,
     "metadata": {},
     "output_type": "execute_result"
    }
   ],
   "source": [
    "type(train_vector_data)"
   ]
  },
  {
   "cell_type": "markdown",
   "metadata": {},
   "source": [
    "Procedemos a elegir 3 mensajes de cada tipo"
   ]
  },
  {
   "cell_type": "code",
   "execution_count": 263,
   "metadata": {},
   "outputs": [],
   "source": [
    "import random"
   ]
  },
  {
   "cell_type": "code",
   "execution_count": 190,
   "metadata": {},
   "outputs": [
    {
     "data": {
      "text/plain": [
       "19"
      ]
     },
     "execution_count": 190,
     "metadata": {},
     "output_type": "execute_result"
    }
   ],
   "source": [
    "len(selected)"
   ]
  },
  {
   "cell_type": "code",
   "execution_count": 324,
   "metadata": {},
   "outputs": [],
   "source": [
    "#while the last element of the sum of all the previous elements (which is the sum of the total selectec texts) \n",
    "#    is less than the desired amount, it will keep choosing candidates\n",
    "\n",
    "selected = [0]*len(train_data.target_names)\n",
    "\n",
    "number_samples = 3\n",
    "\n",
    "selected_index = [0]*len(train_data.target_names)*number_samples\n",
    "\n",
    "while (np.cumsum(selected)[-1] < len(selected)*number_samples):\n",
    "\n",
    "    #Indice aleatorio de la lista de mensajes\n",
    "    index = random.randint(0, len(train_data.target))\n",
    "    #cat = numero de la categoria a la que pertenece el índice elegido\n",
    "    cat = train_data.target[index]\n",
    "    #Comprobamos que no haya ya 3 elementos de la categoría a la que pertenezca el index y lo añadimos a la cuenta y a la lista de índices\n",
    "    #La lista de índices estará ordenada por categorías\n",
    "    if(selected[cat] < 3):\n",
    "        selected_index[cat*number_samples + selected[cat]] = index\n",
    "        selected[cat] += 1"
   ]
  },
  {
   "cell_type": "code",
   "execution_count": 325,
   "metadata": {},
   "outputs": [
    {
     "data": {
      "text/plain": [
       "[3, 3, 3, 3, 3, 3, 3, 3, 3, 3, 3, 3, 3, 3, 3, 3, 3, 3, 3, 3]"
      ]
     },
     "execution_count": 325,
     "metadata": {},
     "output_type": "execute_result"
    }
   ],
   "source": [
    "selected"
   ]
  },
  {
   "cell_type": "code",
   "execution_count": 326,
   "metadata": {
    "scrolled": true
   },
   "outputs": [
    {
     "data": {
      "text/plain": [
       "60"
      ]
     },
     "execution_count": 326,
     "metadata": {},
     "output_type": "execute_result"
    }
   ],
   "source": [
    "np.cumsum(selected)[-1]"
   ]
  },
  {
   "cell_type": "code",
   "execution_count": 327,
   "metadata": {},
   "outputs": [
    {
     "data": {
      "text/plain": [
       "60"
      ]
     },
     "execution_count": 327,
     "metadata": {},
     "output_type": "execute_result"
    }
   ],
   "source": [
    "len(selected_index)"
   ]
  },
  {
   "cell_type": "code",
   "execution_count": 328,
   "metadata": {
    "scrolled": true
   },
   "outputs": [
    {
     "data": {
      "text/plain": [
       "[2252,\n",
       " 648,\n",
       " 1054,\n",
       " 3496,\n",
       " 4017,\n",
       " 2472,\n",
       " 8424,\n",
       " 6318,\n",
       " 9744,\n",
       " 7022,\n",
       " 11193,\n",
       " 8097,\n",
       " 5928,\n",
       " 8737,\n",
       " 3815,\n",
       " 3850,\n",
       " 7063,\n",
       " 10923,\n",
       " 6330,\n",
       " 8413,\n",
       " 3780,\n",
       " 2834,\n",
       " 9789,\n",
       " 11077,\n",
       " 3519,\n",
       " 8821,\n",
       " 3910,\n",
       " 10579,\n",
       " 10810,\n",
       " 7588,\n",
       " 4286,\n",
       " 4783,\n",
       " 9175,\n",
       " 2899,\n",
       " 3783,\n",
       " 2388,\n",
       " 9137,\n",
       " 3014,\n",
       " 8743,\n",
       " 9489,\n",
       " 4761,\n",
       " 2360,\n",
       " 6387,\n",
       " 10371,\n",
       " 10839,\n",
       " 5696,\n",
       " 2590,\n",
       " 11253,\n",
       " 10698,\n",
       " 7333,\n",
       " 8503,\n",
       " 4288,\n",
       " 6442,\n",
       " 8847,\n",
       " 8532,\n",
       " 3316,\n",
       " 9622,\n",
       " 4805,\n",
       " 7312,\n",
       " 692]"
      ]
     },
     "execution_count": 328,
     "metadata": {},
     "output_type": "execute_result"
    }
   ],
   "source": [
    "selected_index"
   ]
  },
  {
   "cell_type": "code",
   "execution_count": 331,
   "metadata": {},
   "outputs": [],
   "source": [
    "from sklearn.metrics.pairwise import cosine_similarity"
   ]
  },
  {
   "cell_type": "code",
   "execution_count": 348,
   "metadata": {},
   "outputs": [
    {
     "data": {
      "text/plain": [
       "scipy.sparse.csr.csr_matrix"
      ]
     },
     "execution_count": 348,
     "metadata": {},
     "output_type": "execute_result"
    }
   ],
   "source": [
    "type(train_vector_data[2252])"
   ]
  },
  {
   "cell_type": "code",
   "execution_count": 357,
   "metadata": {},
   "outputs": [
    {
     "name": "stdout",
     "output_type": "stream",
     "text": [
      "[2252, 648, 1054]\n"
     ]
    }
   ],
   "source": [
    "indices = selected_index[0:3]\n",
    "print(indices)\n",
    "out1 = train_vector_data.tocsc()[indices,:]"
   ]
  },
  {
   "cell_type": "code",
   "execution_count": 358,
   "metadata": {},
   "outputs": [
    {
     "name": "stdout",
     "output_type": "stream",
     "text": [
      "  (2, 9)\t1\n",
      "  (1, 1425)\t1\n",
      "  (0, 1517)\t1\n",
      "  (1, 1804)\t1\n",
      "  (2, 3763)\t1\n",
      "  (2, 4194)\t1\n",
      "  (2, 6470)\t1\n",
      "  (2, 6989)\t2\n",
      "  (0, 11102)\t1\n",
      "  (1, 14528)\t1\n",
      "  (2, 20371)\t1\n",
      "  (2, 21179)\t1\n",
      "  (1, 25101)\t1\n",
      "  (2, 25101)\t2\n",
      "  (0, 25101)\t1\n",
      "  (0, 26597)\t1\n",
      "  (0, 27385)\t1\n",
      "  (0, 27387)\t1\n",
      "  (1, 28166)\t1\n",
      "  (2, 36460)\t1\n",
      "  (1, 38124)\t2\n",
      "  (2, 56946)\t1\n",
      "  (2, 59997)\t1\n",
      "  (1, 61234)\t1\n",
      "  (2, 61477)\t1\n",
      "  :\t:\n",
      "  (2, 389038)\t2\n",
      "  (0, 389038)\t1\n",
      "  (0, 391187)\t1\n",
      "  (2, 404001)\t1\n",
      "  (1, 405626)\t1\n",
      "  (2, 405626)\t1\n",
      "  (2, 405634)\t1\n",
      "  (0, 406443)\t1\n",
      "  (1, 406503)\t1\n",
      "  (2, 407247)\t1\n",
      "  (1, 408810)\t1\n",
      "  (1, 428525)\t1\n",
      "  (1, 445173)\t1\n",
      "  (1, 448144)\t1\n",
      "  (2, 448756)\t2\n",
      "  (1, 448800)\t1\n",
      "  (2, 453242)\t2\n",
      "  (2, 459301)\t1\n",
      "  (2, 461063)\t1\n",
      "  (2, 463885)\t1\n",
      "  (0, 463885)\t1\n",
      "  (2, 463913)\t1\n",
      "  (1, 463924)\t1\n",
      "  (1, 463986)\t2\n",
      "  (2, 463986)\t1\n"
     ]
    }
   ],
   "source": [
    "print(out1)"
   ]
  },
  {
   "cell_type": "code",
   "execution_count": 343,
   "metadata": {},
   "outputs": [],
   "source": [
    "cosSim = cosine_similarity(train_vector_data[2252], train_vector_data)"
   ]
  },
  {
   "cell_type": "code",
   "execution_count": 346,
   "metadata": {},
   "outputs": [
    {
     "name": "stdout",
     "output_type": "stream",
     "text": [
      "[0.08141255 0.05307449 0.12856801 ... 0.04450431 0.11214033 0.06394568]\n"
     ]
    }
   ],
   "source": [
    "print(max(cosSim))"
   ]
  }
 ],
 "metadata": {
  "kernelspec": {
   "display_name": "Python 3",
   "language": "python",
   "name": "python3"
  },
  "language_info": {
   "codemirror_mode": {
    "name": "ipython",
    "version": 3
   },
   "file_extension": ".py",
   "mimetype": "text/x-python",
   "name": "python",
   "nbconvert_exporter": "python",
   "pygments_lexer": "ipython3",
   "version": "3.7.4"
  }
 },
 "nbformat": 4,
 "nbformat_minor": 2
}
