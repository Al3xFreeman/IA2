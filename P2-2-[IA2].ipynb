{
 "cells": [
  {
   "cell_type": "code",
   "execution_count": null,
   "metadata": {},
   "outputs": [],
   "source": []
  },
  {
   "cell_type": "code",
   "execution_count": null,
   "metadata": {},
   "outputs": [],
   "source": []
  },
  {
   "cell_type": "code",
   "execution_count": 1,
   "metadata": {},
   "outputs": [],
   "source": [
    "from sklearn.datasets import fetch_20newsgroups"
   ]
  },
  {
   "cell_type": "code",
   "execution_count": 2,
   "metadata": {},
   "outputs": [
    {
     "name": "stdout",
     "output_type": "stream",
     "text": [
      "Training texts: 11314\n",
      "Test texts: 7532\n"
     ]
    }
   ],
   "source": [
    "train_data = fetch_20newsgroups(subset='train', shuffle=True, random_state=42)\n",
    "test_data = fetch_20newsgroups(subset='test')\n",
    "\n",
    "print(\"Training texts:\", len(train_data.data))\n",
    "print(\"Test texts:\", len(test_data.data))"
   ]
  },
  {
   "cell_type": "code",
   "execution_count": 3,
   "metadata": {},
   "outputs": [],
   "source": [
    "from sklearn.feature_extraction.text import CountVectorizer"
   ]
  },
  {
   "cell_type": "code",
   "execution_count": 4,
   "metadata": {},
   "outputs": [],
   "source": [
    "# Pasamos el fichero a una lista (una línea por item)\n",
    "with open('words.txt') as f:\n",
    "    dictionary = f.read().splitlines()"
   ]
  },
  {
   "cell_type": "code",
   "execution_count": 5,
   "metadata": {},
   "outputs": [],
   "source": [
    "vectorizer = CountVectorizer(binary= False, vocabulary=dictionary, stop_words='english', ngram_range = (1,1))"
   ]
  },
  {
   "cell_type": "code",
   "execution_count": 6,
   "metadata": {},
   "outputs": [],
   "source": [
    "from sklearn.metrics.pairwise import cosine_similarity"
   ]
  },
  {
   "cell_type": "code",
   "execution_count": 11,
   "metadata": {},
   "outputs": [],
   "source": [
    "import numpy as np"
   ]
  },
  {
   "cell_type": "code",
   "execution_count": 14,
   "metadata": {},
   "outputs": [],
   "source": [
    "import numpy as np\n",
    "import numpy.ma as ma\n",
    "\n",
    "def write_terms (feature_names, data, vector_data, index):\n",
    "    '''\n",
    "    Escribe los términos presentes en un mensaje representado como bolsa de palabras.\n",
    "    \n",
    "    - feature_names: terminos usados para vectorizar\n",
    "    - data: lista de mensajes original (si data==None no se muestra el mensaje original)\n",
    "    - vector_data: matriz (dispersa) de mensaje vectorizados\n",
    "    - index: posición del mensaje a mostrar\n",
    "    '''\n",
    "    # máscara para seleccionar sólo el mensaje en posición index\n",
    "    mask=vector_data[index,:]>0\n",
    "    \n",
    "    # términos que aparecen en ese mensaje vectorizado\n",
    "    terminos = ma.array(feature_names, mask = ~(mask[0].toarray()))\n",
    "    \n",
    "    # mostrar mensaje original\n",
    "    if data:\n",
    "        print('Mensaje', index, ':', data[index])\n",
    "    \n",
    "    # mostrar términos que aparecen en el mensaje vectorizado\n",
    "    print('Mensaje', index, 'vectorizado:', terminos.compressed(),'\\n')"
   ]
  },
  {
   "cell_type": "code",
   "execution_count": 15,
   "metadata": {},
   "outputs": [],
   "source": [
    "train_vector_data = vectorizer.fit_transform(train_data.data)\n",
    "test_vector_data = vectorizer.fit_transform(test_data.data)"
   ]
  },
  {
   "cell_type": "code",
   "execution_count": 17,
   "metadata": {},
   "outputs": [],
   "source": [
    "feature_names = vectorizer.get_feature_names()"
   ]
  },
  {
   "cell_type": "code",
   "execution_count": 19,
   "metadata": {
    "scrolled": true
   },
   "outputs": [
    {
     "name": "stdout",
     "output_type": "stream",
     "text": [
      "Mensaje 1 vectorizado: ['acceleration' 'adapters' 'answered' 'article' 'attained' 'brave' 'cards'\n",
      " 'clock' 'days' 'detailing' 'disk' 'especially' 'experiences' 'final'\n",
      " 'floppy' 'floppies' 'functionality' 'heat' 'hour' 'keywords' 'knowledge'\n",
      " 'lines' 'message' 'network' 'number' 'organization' 'oscillator'\n",
      " 'posting' 'procedure' 'rated' 'reports' 'requested' 'send' 'shared'\n",
      " 'sinks' 'souls' 'speed' 'subject' 'summary' 'summarizing' 'thanks'\n",
      " 'upgrade' 'upgraded' 'usage'] \n",
      "\n"
     ]
    }
   ],
   "source": [
    "write_terms(feature_names, None, train_vector_data, 1)"
   ]
  },
  {
   "cell_type": "markdown",
   "metadata": {},
   "source": [
    "Procedemos a elegir 3 mensajes de cada tipo"
   ]
  },
  {
   "cell_type": "code",
   "execution_count": 21,
   "metadata": {},
   "outputs": [],
   "source": [
    "import random"
   ]
  },
  {
   "cell_type": "code",
   "execution_count": 22,
   "metadata": {
    "scrolled": true
   },
   "outputs": [
    {
     "data": {
      "text/plain": [
       "7532"
      ]
     },
     "execution_count": 22,
     "metadata": {},
     "output_type": "execute_result"
    }
   ],
   "source": [
    "len(test_data.target)"
   ]
  },
  {
   "cell_type": "code",
   "execution_count": 23,
   "metadata": {},
   "outputs": [
    {
     "data": {
      "text/plain": [
       "15"
      ]
     },
     "execution_count": 23,
     "metadata": {},
     "output_type": "execute_result"
    }
   ],
   "source": [
    "test_data.target[103]"
   ]
  },
  {
   "cell_type": "code",
   "execution_count": 24,
   "metadata": {},
   "outputs": [],
   "source": [
    "#while the last element of the sum of all the previous elements (which is the sum of the total selectec texts) \n",
    "#    is less than the desired amount, it will keep choosing candidates\n",
    "\n",
    "selected = [0]*len(test_data.target_names)\n",
    "\n",
    "number_samples = 3\n",
    "\n",
    "selected_index = [0]*len(test_data.target_names)*number_samples\n",
    "\n",
    "while (np.cumsum(selected)[-1] < len(selected)*number_samples):\n",
    "\n",
    "    #Indice aleatorio de la lista de mensajes\n",
    "    index = random.randint(0, len(test_data.target))\n",
    "    #cat = numero de la categoria a la que pertenece el índice elegido\n",
    "    cat = test_data.target[index]\n",
    "    #Comprobamos que no haya ya 3 elementos de la categoría a la que pertenezca el index y lo añadimos a la cuenta y a la lista de índices\n",
    "    #La lista de índices estará ordenada por categorías\n",
    "    if(selected[cat] < 3):\n",
    "        selected_index[cat*number_samples + selected[cat]] = index\n",
    "        selected[cat] += 1"
   ]
  },
  {
   "cell_type": "markdown",
   "metadata": {},
   "source": [
    "Igual merece más la pena ponerlo en una matriz de N*M siendo N el número de elementos por cada clase y M el número de clases"
   ]
  },
  {
   "cell_type": "code",
   "execution_count": 28,
   "metadata": {
    "scrolled": true
   },
   "outputs": [
    {
     "data": {
      "text/plain": [
       "[2670,\n",
       " 400,\n",
       " 6328,\n",
       " 1204,\n",
       " 7116,\n",
       " 4182,\n",
       " 4505,\n",
       " 5625,\n",
       " 3610,\n",
       " 4562,\n",
       " 354,\n",
       " 5535,\n",
       " 5762,\n",
       " 4214,\n",
       " 4980,\n",
       " 2557,\n",
       " 4002,\n",
       " 1928,\n",
       " 6554,\n",
       " 3541,\n",
       " 961,\n",
       " 293,\n",
       " 5871,\n",
       " 903,\n",
       " 4714,\n",
       " 4001,\n",
       " 88,\n",
       " 6062,\n",
       " 4958,\n",
       " 6488,\n",
       " 5753,\n",
       " 765,\n",
       " 6762,\n",
       " 5982,\n",
       " 1932,\n",
       " 3182,\n",
       " 4460,\n",
       " 4231,\n",
       " 4671,\n",
       " 3882,\n",
       " 2280,\n",
       " 3374,\n",
       " 3476,\n",
       " 1685,\n",
       " 7301,\n",
       " 4689,\n",
       " 824,\n",
       " 4044,\n",
       " 2600,\n",
       " 6665,\n",
       " 1535,\n",
       " 308,\n",
       " 6889,\n",
       " 1773,\n",
       " 1704,\n",
       " 1704,\n",
       " 7293,\n",
       " 2233,\n",
       " 576,\n",
       " 7404]"
      ]
     },
     "execution_count": 28,
     "metadata": {},
     "output_type": "execute_result"
    }
   ],
   "source": [
    "selected_index"
   ]
  },
  {
   "cell_type": "code",
   "execution_count": 29,
   "metadata": {},
   "outputs": [],
   "source": [
    "new_shape = np.reshape(selected_index, [20,3])"
   ]
  },
  {
   "cell_type": "code",
   "execution_count": 30,
   "metadata": {},
   "outputs": [
    {
     "name": "stdout",
     "output_type": "stream",
     "text": [
      "[[2670  400 6328]\n",
      " [1204 7116 4182]\n",
      " [4505 5625 3610]\n",
      " [4562  354 5535]\n",
      " [5762 4214 4980]\n",
      " [2557 4002 1928]\n",
      " [6554 3541  961]\n",
      " [ 293 5871  903]\n",
      " [4714 4001   88]\n",
      " [6062 4958 6488]\n",
      " [5753  765 6762]\n",
      " [5982 1932 3182]\n",
      " [4460 4231 4671]\n",
      " [3882 2280 3374]\n",
      " [3476 1685 7301]\n",
      " [4689  824 4044]\n",
      " [2600 6665 1535]\n",
      " [ 308 6889 1773]\n",
      " [1704 1704 7293]\n",
      " [2233  576 7404]]\n"
     ]
    }
   ],
   "source": [
    "print(new_shape)"
   ]
  },
  {
   "cell_type": "code",
   "execution_count": 32,
   "metadata": {},
   "outputs": [],
   "source": [
    "from sklearn.metrics.pairwise import cosine_similarity"
   ]
  },
  {
   "cell_type": "code",
   "execution_count": 35,
   "metadata": {},
   "outputs": [],
   "source": [
    "cosSim1 = cosine_similarity(train_vector_data[2252], train_vector_data)"
   ]
  },
  {
   "cell_type": "markdown",
   "metadata": {},
   "source": [
    "A ver, entonces, lo que creo que hay que hacer es:\n",
    "\n",
    "    1) Hacer el cosine similarity para cada una de las 60 indices que hemos elegido.\n",
    "    2) Agruparlos de 3 en 3 ya que es el número de muestras que nos dicen que cojamos (ponerlo como un parámetro)\n",
    "    3) Ordenar los 20 arrays, en total cada uno tendrá (número de textos)*3 elementos\n",
    "    4) Cuando tengamos todos los elementos ordenador hacemos lo de la exhaustividad (recall, es decir de entre todos los que han dado positivo (que se parecen al texto objetivo) cuantos son realmente de la misma categoría(True Pos/(True Pos + False Neg))) entre valores de 3 y 10. Eso significa que tenemos que ver para los mejores X valores (entre 3 y 10) cuantos son de la misma categoría que la clase que estamos comparando\n",
    "    5) Hacer la media de los "
   ]
  },
  {
   "cell_type": "markdown",
   "metadata": {},
   "source": [
    "Nononono a ver"
   ]
  },
  {
   "cell_type": "markdown",
   "metadata": {},
   "source": [
    "Lo que piden de:  la precisión de la lista de resultados con nivel de exhaustividad 3 y 10.\n",
    "\n",
    "Lo que hay que hacer es: De los X valores que más se parezcan entre los X primeros recuperados. Por lo que símplemente es coger y decir: Si para un nivel de exhaustividad 7, cogemos los 7 elementos que más se parezcan a los textos que hemos metido, después comprobamos de esos 7 cuantos son de la clase a la que perteneces los mensajes seleccionados antes.\n",
    "\n",
    "Entonces, después cogemos esos 8 resultados (los valores de 3 a 10) y hacemos la media. Eso para cada clase.\n",
    "\n",
    "Así podemos ver cual es la clase que más parecidos tiene o algo así (?)\n",
    "\n",
    "\n",
    "Y luego hay que hacer lo mismo pero con el TF-IDF"
   ]
  },
  {
   "cell_type": "markdown",
   "metadata": {},
   "source": [
    "la duda que luego voy a preguntar es que si lo de exhaustivodad de nivel 5 por ejemplo, significa realmente que solo hay que coger los 5 elementos más TOP, me parece raro porque hay miles y miles y quedarse con tan pocos se me hace raro"
   ]
  },
  {
   "cell_type": "markdown",
   "metadata": {},
   "source": [
    "Intentar hacer la movida con funciones para que quede guay y bien indicado"
   ]
  },
  {
   "cell_type": "code",
   "execution_count": 44,
   "metadata": {},
   "outputs": [],
   "source": [
    "from sklearn.metrics.pairwise import cosine_similarity\n",
    "import pandas as pd"
   ]
  },
  {
   "cell_type": "code",
   "execution_count": 46,
   "metadata": {},
   "outputs": [],
   "source": [
    "def sortSimilarityIndex(cosSim):\n",
    "    \n",
    "    for i, category in enumerate(cosSim):\n",
    "        for j, sim in enumerate(category):\n",
    "            cosSim[i][j] = np.argsort(-sim)\n",
    "    return cosSim"
   ]
  },
  {
   "cell_type": "code",
   "execution_count": 47,
   "metadata": {},
   "outputs": [],
   "source": [
    "def cosSim_calc2(indexes, test_vector, train_vector):\n",
    "    cosSim = np.zeros(indexes.shape, object)\n",
    "    for i, indexList in enumerate(indexes):\n",
    "        for j, index in enumerate(indexList):\n",
    "            cosSim[i][j] = cosine_similarity(test_vector[index], train_vector)[0]\n",
    "    return cosSim"
   ]
  },
  {
   "cell_type": "code",
   "execution_count": 48,
   "metadata": {
    "scrolled": false
   },
   "outputs": [],
   "source": [
    "cos_sim2 = cosSim_calc2(new_shape,test_vector_data, train_vector_data)"
   ]
  },
  {
   "cell_type": "code",
   "execution_count": 50,
   "metadata": {
    "scrolled": true
   },
   "outputs": [],
   "source": [
    "cos = sortSimilarityIndex(cos_sim2)"
   ]
  },
  {
   "cell_type": "code",
   "execution_count": 53,
   "metadata": {
    "collapsed": true
   },
   "outputs": [
    {
     "name": "stdout",
     "output_type": "stream",
     "text": [
      "[[array([ 7883,  3787,  6500, ..., 10433,  1541,  1554], dtype=int64)\n",
      "  array([4586,  833, 1634, ..., 1541, 3382, 9412], dtype=int64)\n",
      "  array([7368, 4885, 5200, ...,  144, 1541, 9412], dtype=int64)]\n",
      " [array([   12,  5652,  4994, ...,  1541, 10433,  9412], dtype=int64)\n",
      "  array([ 7071,  6672, 10029, ...,   144,  1541,  9412], dtype=int64)\n",
      "  array([4913, 2285, 5302, ...,  144, 9412, 1541], dtype=int64)]\n",
      " [array([4588, 7226, 5692, ..., 1541, 8519, 9412], dtype=int64)\n",
      "  array([4817, 5521, 8320, ...,  144, 1541, 9412], dtype=int64)\n",
      "  array([8489, 1547, 1603, ..., 8519, 1541, 9412], dtype=int64)]\n",
      " [array([8506, 9358, 3533, ..., 1541, 8519, 9412], dtype=int64)\n",
      "  array([5046, 7746, 9999, ...,  144, 1541, 9412], dtype=int64)\n",
      "  array([ 662, 7722, 8654, ...,  144, 1541, 9412], dtype=int64)]\n",
      " [array([6680, 4278, 9692, ...,  144, 8519, 9412], dtype=int64)\n",
      "  array([ 6487,  3292,  1421, ..., 10126,  3382,  9412], dtype=int64)\n",
      "  array([ 335, 1373, 5235, ...,  144, 1541, 9412], dtype=int64)]\n",
      " [array([4147, 3698, 6678, ...,  144, 1541, 9412], dtype=int64)\n",
      "  array([ 4688,  8835,  3713, ..., 10275,  1541,  9412], dtype=int64)\n",
      "  array([ 3404, 10305,   290, ...,   144,  9412,  1541], dtype=int64)]\n",
      " [array([10150,  2080,  1594, ...,  9412,  8519,  3382], dtype=int64)\n",
      "  array([ 8484,   176,  4474, ..., 10433,  8519,  9412], dtype=int64)\n",
      "  array([2055, 1018,  929, ..., 1292,  144, 1541], dtype=int64)]\n",
      " [array([ 8484,  4474,  8537, ...,   144, 10433,  1541], dtype=int64)\n",
      "  array([8484, 4757, 1967, ...,  144, 9412, 1541], dtype=int64)\n",
      "  array([4351, 9750, 1265, ..., 3629, 6209, 9412], dtype=int64)]\n",
      " [array([ 2965, 10243,  6323, ...,   144,  1541,  9412], dtype=int64)\n",
      "  array([ 2626, 10169,   713, ...,  1541,  3382,  9412], dtype=int64)\n",
      "  array([ 9737,  5410, 10379, ...,  9412, 10433,  8519], dtype=int64)]\n",
      " [array([5531, 2964, 6480, ..., 3382,  144, 1541], dtype=int64)\n",
      "  array([ 9268,  5531,  6480, ...,  1554, 10433,  3629], dtype=int64)\n",
      "  array([4871, 3318, 1316, ..., 1492,  144, 1541], dtype=int64)]\n",
      " [array([8999, 8152, 1631, ..., 1541, 3382, 9412], dtype=int64)\n",
      "  array([ 5031,  9756, 10483, ...,  3382,  9412,   750], dtype=int64)\n",
      "  array([ 3351,  6902,  7325, ...,  1541,  3382, 10433], dtype=int64)]\n",
      " [array([6705, 1321, 3541, ...,  144, 1541, 9412], dtype=int64)\n",
      "  array([ 929, 8484, 1018, ..., 8519, 3382, 9412], dtype=int64)\n",
      "  array([8201,  286, 8772, ..., 8519, 1541, 9412], dtype=int64)]\n",
      " [array([3968, 8487, 2979, ...,  144, 1541, 9412], dtype=int64)\n",
      "  array([ 3436,  8484, 10169, ...,  4582,   144,  1541], dtype=int64)\n",
      "  array([4063, 3399, 3689, ...,  144, 1541, 9412], dtype=int64)]\n",
      " [array([5456, 7148, 1158, ...,  144, 1541, 9412], dtype=int64)\n",
      "  array([4988, 2835,  729, ..., 9412,  144, 1541], dtype=int64)\n",
      "  array([2231, 8122, 8464, ...,  144, 1541, 9412], dtype=int64)]\n",
      " [array([9577, 7345,  391, ..., 1541, 9412, 8519], dtype=int64)\n",
      "  array([ 3562, 10558,  4829, ...,   144,  1541,  9412], dtype=int64)\n",
      "  array([ 9986, 10726,  7545, ...,   144,  1541,  9412], dtype=int64)]\n",
      " [array([ 1793,  5764, 10192, ...,  7910,   545,  8519], dtype=int64)\n",
      "  array([8075, 9894, 4901, ...,  144, 1541, 9412], dtype=int64)\n",
      "  array([ 7599, 10321,  7332, ...,   144,  1541,  9412], dtype=int64)]\n",
      " [array([7162, 1475, 1322, ...,  144, 1541, 9412], dtype=int64)\n",
      "  array([ 5744, 10087,   734, ...,   144,  1541,  9412], dtype=int64)\n",
      "  array([  177,  3821, 10227, ...,   144,  1541,  9412], dtype=int64)]\n",
      " [array([2415, 5611, 4144, ...,  144, 1541, 9412], dtype=int64)\n",
      "  array([ 8496,  3244, 10106, ...,  9412,   144,  1541], dtype=int64)\n",
      "  array([4045, 6783, 3868, ..., 4582,  144, 9412], dtype=int64)]\n",
      " [array([9437,  250, 4696, ..., 4582,  144, 9412], dtype=int64)\n",
      "  array([9437,  250, 4696, ..., 4582,  144, 9412], dtype=int64)\n",
      "  array([ 8484, 10169,   713, ...,  8519,  3382,  9412], dtype=int64)]\n",
      " [array([2840, 6552, 9623, ..., 9412,  144, 1541], dtype=int64)\n",
      "  array([3907, 8261, 8751, ..., 3629, 1541, 9412], dtype=int64)\n",
      "  array([ 157, 5316,  913, ..., 4090, 4515, 9412], dtype=int64)]]\n"
     ]
    }
   ],
   "source": [
    "print(cos)"
   ]
  },
  {
   "cell_type": "code",
   "execution_count": 56,
   "metadata": {
    "collapsed": true
   },
   "outputs": [
    {
     "name": "stdout",
     "output_type": "stream",
     "text": [
      "[2670, 400, 6328, 1204, 7116, 4182, 4505, 5625, 3610, 4562, 354, 5535, 5762, 4214, 4980, 2557, 4002, 1928, 6554, 3541, 961, 293, 5871, 903, 4714, 4001, 88, 6062, 4958, 6488, 5753, 765, 6762, 5982, 1932, 3182, 4460, 4231, 4671, 3882, 2280, 3374, 3476, 1685, 7301, 4689, 824, 4044, 2600, 6665, 1535, 308, 6889, 1773, 1704, 1704, 7293, 2233, 576, 7404]\n",
      "60\n",
      "11314 20\n",
      "0\n",
      "0.8742442937592402\n",
      "1\n",
      "0.4196271637081413\n",
      "2\n",
      "0.6859943405700353\n",
      "3\n",
      "0.7655147691170537\n",
      "4\n",
      "0.5139561687500467\n",
      "5\n",
      "0.5066736905472307\n",
      "6\n",
      "0.42562826537937437\n",
      "7\n",
      "0.36514837167011077\n",
      "8\n",
      "0.5591491340752626\n",
      "9\n",
      "0.523632454313116\n",
      "10\n",
      "0.8340576562282994\n",
      "11\n",
      "0.6274558051381586\n",
      "12\n",
      "0.5998866106008964\n",
      "13\n",
      "0.3714427594782296\n",
      "14\n",
      "0.6982972487551755\n",
      "15\n",
      "0.40089186286863654\n",
      "16\n",
      "0.45112017423725\n",
      "17\n",
      "0.7956640830660473\n",
      "18\n",
      "0.44543540318737407\n",
      "19\n",
      "0.41780135648225064\n"
     ]
    }
   ],
   "source": [
    "cos_sim = cosSim_calc(selected_index, 3, len(train_data.data))"
   ]
  },
  {
   "cell_type": "markdown",
   "metadata": {},
   "source": [
    "Ahora toca hacer los niveles de exhaustividad con la información bien colocadita que tenemos aquí\n",
    "\n",
    "Lo que vamos a hacer es dejar en una matriz de N*M los resultados del recall\n",
    "    Siendo N=número de clases y M=niveles de exhaustividad"
   ]
  },
  {
   "cell_type": "code",
   "execution_count": 203,
   "metadata": {},
   "outputs": [],
   "source": [
    "def nivelesExhaustividad(data, niveles):\n",
    "    #exhaustN = np.zeros(data.shape, object)\n",
    "    exhaust = []\n",
    "    \n",
    "    for nivel in niveles:\n",
    "        exhaustN = np.zeros(data.shape, object)\n",
    "        for i, indexList in enumerate(data):\n",
    "            for j, index in enumerate(indexList):\n",
    "                exhaustN[i][j] = data[i][j][:nivel:1]\n",
    "        exhaust.append(exhaustN)\n",
    "        \n",
    "        exhaustNP = np.array(exhaust)\n",
    "        \n",
    "    return exhaustNP"
   ]
  },
  {
   "cell_type": "code",
   "execution_count": 213,
   "metadata": {},
   "outputs": [],
   "source": [
    "niveles = [3,10, 40]\n",
    "exhaustIndex = nivelesExhaustividad(cos, niveles)"
   ]
  },
  {
   "cell_type": "code",
   "execution_count": 205,
   "metadata": {
    "collapsed": true
   },
   "outputs": [
    {
     "name": "stdout",
     "output_type": "stream",
     "text": [
      "[[[array([7883, 3787, 6500], dtype=int64)\n",
      "   array([4586,  833, 1634], dtype=int64)\n",
      "   array([7368, 4885, 5200], dtype=int64)]\n",
      "  [array([  12, 5652, 4994], dtype=int64)\n",
      "   array([ 7071,  6672, 10029], dtype=int64)\n",
      "   array([4913, 2285, 5302], dtype=int64)]\n",
      "  [array([4588, 7226, 5692], dtype=int64)\n",
      "   array([4817, 5521, 8320], dtype=int64)\n",
      "   array([8489, 1547, 1603], dtype=int64)]\n",
      "  [array([8506, 9358, 3533], dtype=int64)\n",
      "   array([5046, 7746, 9999], dtype=int64)\n",
      "   array([ 662, 7722, 8654], dtype=int64)]\n",
      "  [array([6680, 4278, 9692], dtype=int64)\n",
      "   array([6487, 3292, 1421], dtype=int64)\n",
      "   array([ 335, 1373, 5235], dtype=int64)]\n",
      "  [array([4147, 3698, 6678], dtype=int64)\n",
      "   array([4688, 8835, 3713], dtype=int64)\n",
      "   array([ 3404, 10305,   290], dtype=int64)]\n",
      "  [array([10150,  2080,  1594], dtype=int64)\n",
      "   array([8484,  176, 4474], dtype=int64)\n",
      "   array([2055, 1018,  929], dtype=int64)]\n",
      "  [array([8484, 4474, 8537], dtype=int64)\n",
      "   array([8484, 4757, 1967], dtype=int64)\n",
      "   array([4351, 9750, 1265], dtype=int64)]\n",
      "  [array([ 2965, 10243,  6323], dtype=int64)\n",
      "   array([ 2626, 10169,   713], dtype=int64)\n",
      "   array([ 9737,  5410, 10379], dtype=int64)]\n",
      "  [array([5531, 2964, 6480], dtype=int64)\n",
      "   array([9268, 5531, 6480], dtype=int64)\n",
      "   array([4871, 3318, 1316], dtype=int64)]\n",
      "  [array([8999, 8152, 1631], dtype=int64)\n",
      "   array([ 5031,  9756, 10483], dtype=int64)\n",
      "   array([3351, 6902, 7325], dtype=int64)]\n",
      "  [array([6705, 1321, 3541], dtype=int64)\n",
      "   array([ 929, 8484, 1018], dtype=int64)\n",
      "   array([8201,  286, 8772], dtype=int64)]\n",
      "  [array([3968, 8487, 2979], dtype=int64)\n",
      "   array([ 3436,  8484, 10169], dtype=int64)\n",
      "   array([4063, 3399, 3689], dtype=int64)]\n",
      "  [array([5456, 7148, 1158], dtype=int64)\n",
      "   array([4988, 2835,  729], dtype=int64)\n",
      "   array([2231, 8122, 8464], dtype=int64)]\n",
      "  [array([9577, 7345,  391], dtype=int64)\n",
      "   array([ 3562, 10558,  4829], dtype=int64)\n",
      "   array([ 9986, 10726,  7545], dtype=int64)]\n",
      "  [array([ 1793,  5764, 10192], dtype=int64)\n",
      "   array([8075, 9894, 4901], dtype=int64)\n",
      "   array([ 7599, 10321,  7332], dtype=int64)]\n",
      "  [array([7162, 1475, 1322], dtype=int64)\n",
      "   array([ 5744, 10087,   734], dtype=int64)\n",
      "   array([  177,  3821, 10227], dtype=int64)]\n",
      "  [array([2415, 5611, 4144], dtype=int64)\n",
      "   array([ 8496,  3244, 10106], dtype=int64)\n",
      "   array([4045, 6783, 3868], dtype=int64)]\n",
      "  [array([9437,  250, 4696], dtype=int64)\n",
      "   array([9437,  250, 4696], dtype=int64)\n",
      "   array([ 8484, 10169,   713], dtype=int64)]\n",
      "  [array([2840, 6552, 9623], dtype=int64)\n",
      "   array([3907, 8261, 8751], dtype=int64)\n",
      "   array([ 157, 5316,  913], dtype=int64)]]\n",
      "\n",
      " [[array([7883, 3787, 6500, 7217], dtype=int64)\n",
      "   array([4586,  833, 1634, 8456], dtype=int64)\n",
      "   array([7368, 4885, 5200, 2095], dtype=int64)]\n",
      "  [array([  12, 5652, 4994, 9797], dtype=int64)\n",
      "   array([ 7071,  6672, 10029,   337], dtype=int64)\n",
      "   array([4913, 2285, 5302, 5221], dtype=int64)]\n",
      "  [array([4588, 7226, 5692, 5124], dtype=int64)\n",
      "   array([4817, 5521, 8320, 9121], dtype=int64)\n",
      "   array([8489, 1547, 1603, 9356], dtype=int64)]\n",
      "  [array([8506, 9358, 3533, 1794], dtype=int64)\n",
      "   array([5046, 7746, 9999, 7722], dtype=int64)\n",
      "   array([ 662, 7722, 8654, 7728], dtype=int64)]\n",
      "  [array([6680, 4278, 9692, 5924], dtype=int64)\n",
      "   array([6487, 3292, 1421, 3078], dtype=int64)\n",
      "   array([ 335, 1373, 5235, 7996], dtype=int64)]\n",
      "  [array([4147, 3698, 6678, 7967], dtype=int64)\n",
      "   array([4688, 8835, 3713, 9692], dtype=int64)\n",
      "   array([ 3404, 10305,   290, 10946], dtype=int64)]\n",
      "  [array([10150,  2080,  1594,  3780], dtype=int64)\n",
      "   array([8484,  176, 4474, 8880], dtype=int64)\n",
      "   array([2055, 1018,  929, 3723], dtype=int64)]\n",
      "  [array([ 8484,  4474,  8537, 10169], dtype=int64)\n",
      "   array([8484, 4757, 1967, 9458], dtype=int64)\n",
      "   array([4351, 9750, 1265, 7183], dtype=int64)]\n",
      "  [array([ 2965, 10243,  6323,  3894], dtype=int64)\n",
      "   array([ 2626, 10169,   713,  8484], dtype=int64)\n",
      "   array([ 9737,  5410, 10379,  7927], dtype=int64)]\n",
      "  [array([5531, 2964, 6480, 5216], dtype=int64)\n",
      "   array([9268, 5531, 6480, 8609], dtype=int64)\n",
      "   array([4871, 3318, 1316, 7829], dtype=int64)]\n",
      "  [array([8999, 8152, 1631, 8914], dtype=int64)\n",
      "   array([ 5031,  9756, 10483,  8416], dtype=int64)\n",
      "   array([3351, 6902, 7325, 6416], dtype=int64)]\n",
      "  [array([6705, 1321, 3541, 4427], dtype=int64)\n",
      "   array([  929,  8484,  1018, 10169], dtype=int64)\n",
      "   array([8201,  286, 8772,  972], dtype=int64)]\n",
      "  [array([3968, 8487, 2979, 7996], dtype=int64)\n",
      "   array([ 3436,  8484, 10169,  1883], dtype=int64)\n",
      "   array([4063, 3399, 3689, 8456], dtype=int64)]\n",
      "  [array([5456, 7148, 1158, 7098], dtype=int64)\n",
      "   array([4988, 2835,  729,  818], dtype=int64)\n",
      "   array([2231, 8122, 8464, 6837], dtype=int64)]\n",
      "  [array([9577, 7345,  391, 8431], dtype=int64)\n",
      "   array([ 3562, 10558,  4829,  5551], dtype=int64)\n",
      "   array([ 9986, 10726,  7545,  2800], dtype=int64)]\n",
      "  [array([ 1793,  5764, 10192,  9966], dtype=int64)\n",
      "   array([8075, 9894, 4901, 1911], dtype=int64)\n",
      "   array([ 7599, 10321,  7332,  3588], dtype=int64)]\n",
      "  [array([7162, 1475, 1322, 9005], dtype=int64)\n",
      "   array([ 5744, 10087,   734,  3596], dtype=int64)\n",
      "   array([  177,  3821, 10227,  7872], dtype=int64)]\n",
      "  [array([2415, 5611, 4144, 8435], dtype=int64)\n",
      "   array([ 8496,  3244, 10106,  4051], dtype=int64)\n",
      "   array([4045, 6783, 3868, 6948], dtype=int64)]\n",
      "  [array([9437,  250, 4696, 5734], dtype=int64)\n",
      "   array([9437,  250, 4696, 5734], dtype=int64)\n",
      "   array([ 8484, 10169,   713,  4474], dtype=int64)]\n",
      "  [array([2840, 6552, 9623, 8754], dtype=int64)\n",
      "   array([3907, 8261, 8751, 1141], dtype=int64)\n",
      "   array([ 157, 5316,  913, 8754], dtype=int64)]]\n",
      "\n",
      " [[array([ 7883,  3787,  6500,  7217, 10053,  1614,  2421,  8807,  2840,\n",
      "        3156], dtype=int64)\n",
      "   array([ 4586,   833,  1634,  8456,  3399,   595,  3647, 10519,    20,\n",
      "        1548], dtype=int64)\n",
      "   array([ 7368,  4885,  5200,  2095,  2402, 10836,  5968,  8007,  3138,\n",
      "        8795], dtype=int64)]\n",
      "  [array([   12,  5652,  4994,  9797,  6959,  5436, 10714,  7844, 10676,\n",
      "        8282], dtype=int64)\n",
      "   array([ 7071,  6672, 10029,   337,  3488,  5941,  6360,  5186,  2864,\n",
      "        8872], dtype=int64)\n",
      "   array([ 4913,  2285,  5302,  5221,  3689, 10857,   347,  1348,  2979,\n",
      "        4489], dtype=int64)]\n",
      "  [array([4588, 7226, 5692, 5124, 7899, 5897, 3126, 9040, 1327, 4365],\n",
      "      dtype=int64)\n",
      "   array([ 4817,  5521,  8320,  9121,  5470, 10957,   909,  3585,   132,\n",
      "        4644], dtype=int64)\n",
      "   array([ 8489,  1547,  1603,  9356,  1244,  4887,  1782,  7683,   820,\n",
      "       10096], dtype=int64)]\n",
      "  [array([ 8506,  9358,  3533,  1794,  4901,  6381,   686, 11256,  9789,\n",
      "         520], dtype=int64)\n",
      "   array([5046, 7746, 9999, 7722, 3375, 1709, 3027, 6139, 5967, 6702],\n",
      "      dtype=int64)\n",
      "   array([  662,  7722,  8654,  7728, 10706,  3375,  1811,  5792,  3027,\n",
      "        7294], dtype=int64)]\n",
      "  [array([ 6680,  4278,  9692,  5924,  4453,  7052,  9797, 10956,  2657,\n",
      "        1034], dtype=int64)\n",
      "   array([ 6487,  3292,  1421,  3078,  7845, 10974,  9156,  5830,  2213,\n",
      "        2746], dtype=int64)\n",
      "   array([ 335, 1373, 5235, 7996, 5434, 6062, 5357, 6131,  407, 9927],\n",
      "      dtype=int64)]\n",
      "  [array([4147, 3698, 6678, 7967,  820, 7683, 1244, 1782, 4887, 1603],\n",
      "      dtype=int64)\n",
      "   array([4688, 8835, 3713, 9692, 9260,  335, 4636,  985, 7594,  640],\n",
      "      dtype=int64)\n",
      "   array([ 3404, 10305,   290, 10946, 10228,  8257,  2595,  1000,  3718,\n",
      "        9043], dtype=int64)]\n",
      "  [array([10150,  2080,  1594,  3780,  4153,  4484,  9701,  2320,   165,\n",
      "        6048], dtype=int64)\n",
      "   array([ 8484,   176,  4474,  8880,  5571,  3682,  1816,  2965,  7495,\n",
      "       11089], dtype=int64)\n",
      "   array([2055, 1018,  929, 3723, 9825, 9261, 7709, 2540, 8901, 2841],\n",
      "      dtype=int64)]\n",
      "  [array([ 8484,  4474,  8537, 10169, 11232,   790, 10760,  1204,  4917,\n",
      "        8545], dtype=int64)\n",
      "   array([8484, 4757, 1967, 9458, 9956, 6884, 8537, 6415, 4656, 6213],\n",
      "      dtype=int64)\n",
      "   array([4351, 9750, 1265, 7183, 2116, 9503, 5969, 9227, 4027, 9921],\n",
      "      dtype=int64)]\n",
      "  [array([ 2965, 10243,  6323,  3894,  7175,  1725,  2833,  8841,   773,\n",
      "        3162], dtype=int64)\n",
      "   array([ 2626, 10169,   713,  8484,  1967,  6884,  7571,  9857,  6213,\n",
      "        8545], dtype=int64)\n",
      "   array([ 9737,  5410, 10379,  7927,  5685,    94,  4533,  1618,  9642,\n",
      "       10848], dtype=int64)]\n",
      "  [array([ 5531,  2964,  6480,  5216,  7824,  7951,  7650,  6016, 11231,\n",
      "       10556], dtype=int64)\n",
      "   array([ 9268,  5531,  6480,  8609,  4380,  5216, 10161,  7949, 10556,\n",
      "        6016], dtype=int64)\n",
      "   array([ 4871,  3318,  1316,  7829,  5791,  2828, 11160,  7033, 10455,\n",
      "        2833], dtype=int64)]\n",
      "  [array([ 8999,  8152,  1631,  8914, 10292,  2331, 10253,  8571, 10431,\n",
      "        7439], dtype=int64)\n",
      "   array([ 5031,  9756, 10483,  8416,  8152,  7853,  1630, 10884,  4823,\n",
      "        6324], dtype=int64)\n",
      "   array([ 3351,  6902,  7325,  6416,   633,  4467,   992, 10169, 10365,\n",
      "        7175], dtype=int64)]\n",
      "  [array([6705, 1321, 3541, 4427, 6081, 7380, 2685, 7871, 3865, 5740],\n",
      "      dtype=int64)\n",
      "   array([  929,  8484,  1018, 10169,  6492,  2141,  4474,  1465,  2055,\n",
      "       11273], dtype=int64)\n",
      "   array([ 8201,   286,  8772,   972,  7871,  7380, 10824,  1497,  6705,\n",
      "        9673], dtype=int64)]\n",
      "  [array([3968, 8487, 2979, 7996, 8710,  834,  335, 3062,  660,  908],\n",
      "      dtype=int64)\n",
      "   array([ 3436,  8484, 10169,  1883,  4474, 11291,  6257,  7331, 10957,\n",
      "        6884], dtype=int64)\n",
      "   array([ 4063,  3399,  3689,  8456,    20,  8484,  4656,  1044,  9520,\n",
      "       10254], dtype=int64)]\n",
      "  [array([ 5456,  7148,  1158,  7098,   371,  1912,  9175,  1311,  2085,\n",
      "       11245], dtype=int64)\n",
      "   array([ 4988,  2835,   729,   818,  6695,  6814,  6037,  8898, 10071,\n",
      "       11177], dtype=int64)\n",
      "   array([2231, 8122, 8464, 6837,    3, 4366, 7641, 1694,  470, 1018],\n",
      "      dtype=int64)]\n",
      "  [array([ 9577,  7345,   391,  8431, 11172, 11192,  9161,   151,  7853,\n",
      "        7467], dtype=int64)\n",
      "   array([ 3562, 10558,  4829,  5551,  4700,  1953,   720,  4102,   113,\n",
      "        2814], dtype=int64)\n",
      "   array([ 9986, 10726,  7545,  2800,  4425,  8851,  3295,  4504,  1830,\n",
      "        7460], dtype=int64)]\n",
      "  [array([ 1793,  5764, 10192,  9966,  7872,  4678,  9066,  8809,  6170,\n",
      "        6968], dtype=int64)\n",
      "   array([8075, 9894, 4901, 1911, 3689,  422, 3308,  686, 6902, 7847],\n",
      "      dtype=int64)\n",
      "   array([ 7599, 10321,  7332,  3588,  7483,  2832,  4901,  5517,  8484,\n",
      "        4568], dtype=int64)]\n",
      "  [array([ 7162,  1475,  1322,  9005,  4357,  3141,  6378, 10098,  9709,\n",
      "        9620], dtype=int64)\n",
      "   array([ 5744, 10087,   734,  3596,  3141,  8306,  1904,  6381,  8603,\n",
      "        7162], dtype=int64)\n",
      "   array([  177,  3821, 10227,  7872,  5927,    89,  2212,  8248,  5952,\n",
      "        9356], dtype=int64)]\n",
      "  [array([2415, 5611, 4144, 8435, 8893, 2863, 4135, 8517, 3924, 7298],\n",
      "      dtype=int64)\n",
      "   array([ 8496,  3244, 10106,  4051, 11155,  8282,  7652, 10623,  3165,\n",
      "        2559], dtype=int64)\n",
      "   array([ 4045,  6783,  3868,  6948,  4470,   832,  7453,   898, 11026,\n",
      "         378], dtype=int64)]\n",
      "  [array([9437,  250, 4696, 5734, 2933, 9533,  191, 6811, 8080, 2568],\n",
      "      dtype=int64)\n",
      "   array([9437,  250, 4696, 5734, 2933, 9533,  191, 6811, 8080, 2568],\n",
      "      dtype=int64)\n",
      "   array([ 8484, 10169,   713,  4474, 11247,  8537,  7048, 10564,  9408,\n",
      "        4470], dtype=int64)]\n",
      "  [array([ 2840,  6552,  9623,  8754,   734,   936,  8795, 11187,  3902,\n",
      "        3749], dtype=int64)\n",
      "   array([ 3907,  8261,  8751,  1141, 10231,  4284, 10884,  8484,   803,\n",
      "        6884], dtype=int64)\n",
      "   array([  157,  5316,   913,  8754,  5545,  4106,  8656, 10052,  2491,\n",
      "        1273], dtype=int64)]]]\n"
     ]
    }
   ],
   "source": [
    "print(exhaustIndex)"
   ]
  },
  {
   "cell_type": "code",
   "execution_count": 66,
   "metadata": {},
   "outputs": [
    {
     "data": {
      "text/plain": [
       "['DESCR', 'data', 'filenames', 'target', 'target_names']"
      ]
     },
     "execution_count": 66,
     "metadata": {},
     "output_type": "execute_result"
    }
   ],
   "source": [
    "dir(train_data)"
   ]
  },
  {
   "cell_type": "code",
   "execution_count": 201,
   "metadata": {},
   "outputs": [],
   "source": [
    "def calcPrecision(exhaustIndex, train_data):\n",
    "    precision = np.zeros(exhaustIndex.shape, object)\n",
    "    \n",
    "    for i, nivel in enumerate(exhaustIndex):\n",
    "        for j, indexList in enumerate(nivel):\n",
    "            for k, BestIndexes in enumerate(indexList):\n",
    "                prec = 0\n",
    "                for index in BestIndexes:\n",
    "                    #Si el indice del train data coincide con la j, es bueno\n",
    "                    if(train_data[index] == j):\n",
    "                        prec += 1\n",
    "                prec /= len(BestIndexes)\n",
    "                \n",
    "                precision[i][j][k] = prec\n",
    "                \n",
    "    return precision"
   ]
  },
  {
   "cell_type": "code",
   "execution_count": 214,
   "metadata": {},
   "outputs": [],
   "source": [
    "precision = calcPrecision(exhaustIndex, train_data.target)"
   ]
  },
  {
   "cell_type": "code",
   "execution_count": 207,
   "metadata": {
    "collapsed": true
   },
   "outputs": [
    {
     "data": {
      "text/plain": [
       "array([[[0.6666666666666666, 0.6666666666666666, 1.0],\n",
       "        [0.0, 0.0, 0.3333333333333333],\n",
       "        [0.0, 0.3333333333333333, 1.0],\n",
       "        [0.6666666666666666, 1.0, 1.0],\n",
       "        [0.0, 0.6666666666666666, 0.0],\n",
       "        [1.0, 0.0, 1.0],\n",
       "        [0.3333333333333333, 0.6666666666666666, 0.3333333333333333],\n",
       "        [0.0, 0.3333333333333333, 0.0],\n",
       "        [0.3333333333333333, 0.3333333333333333, 1.0],\n",
       "        [0.3333333333333333, 0.6666666666666666, 1.0],\n",
       "        [1.0, 0.6666666666666666, 0.6666666666666666],\n",
       "        [0.6666666666666666, 0.0, 0.3333333333333333],\n",
       "        [0.6666666666666666, 0.3333333333333333, 0.6666666666666666],\n",
       "        [0.3333333333333333, 1.0, 0.0],\n",
       "        [1.0, 0.0, 1.0],\n",
       "        [0.6666666666666666, 0.6666666666666666, 0.3333333333333333],\n",
       "        [1.0, 0.6666666666666666, 0.3333333333333333],\n",
       "        [1.0, 0.0, 0.6666666666666666],\n",
       "        [0.6666666666666666, 0.6666666666666666, 0.0],\n",
       "        [0.3333333333333333, 0.3333333333333333, 0.3333333333333333]],\n",
       "\n",
       "       [[0.5, 0.75, 1.0],\n",
       "        [0.0, 0.0, 0.5],\n",
       "        [0.25, 0.5, 0.75],\n",
       "        [0.75, 1.0, 1.0],\n",
       "        [0.0, 0.5, 0.0],\n",
       "        [1.0, 0.0, 0.75],\n",
       "        [0.5, 0.75, 0.5],\n",
       "        [0.25, 0.25, 0.0],\n",
       "        [0.5, 0.25, 1.0],\n",
       "        [0.25, 0.75, 1.0],\n",
       "        [1.0, 0.75, 0.75],\n",
       "        [0.75, 0.0, 0.5],\n",
       "        [0.5, 0.25, 0.5],\n",
       "        [0.25, 1.0, 0.0],\n",
       "        [0.75, 0.0, 1.0],\n",
       "        [0.5, 0.75, 0.25],\n",
       "        [1.0, 0.5, 0.25],\n",
       "        [1.0, 0.0, 0.5],\n",
       "        [0.5, 0.5, 0.0],\n",
       "        [0.5, 0.25, 0.5]],\n",
       "\n",
       "       [[0.3, 0.6, 0.9],\n",
       "        [0.0, 0.0, 0.4],\n",
       "        [0.3, 0.3, 0.8],\n",
       "        [0.4, 1.0, 0.8],\n",
       "        [0.2, 0.6, 0.0],\n",
       "        [0.4, 0.0, 0.5],\n",
       "        [0.6, 0.6, 0.3],\n",
       "        [0.1, 0.1, 0.1],\n",
       "        [0.3, 0.1, 1.0],\n",
       "        [0.1, 0.4, 0.9],\n",
       "        [0.5, 0.5, 0.3],\n",
       "        [0.5, 0.0, 0.8],\n",
       "        [0.2, 0.1, 0.5],\n",
       "        [0.2, 0.9, 0.0],\n",
       "        [0.6, 0.0, 1.0],\n",
       "        [0.3, 0.6, 0.2],\n",
       "        [1.0, 0.7, 0.2],\n",
       "        [0.8, 0.1, 0.6],\n",
       "        [0.2, 0.2, 0.3],\n",
       "        [0.4, 0.2, 0.2]]], dtype=object)"
      ]
     },
     "execution_count": 207,
     "metadata": {},
     "output_type": "execute_result"
    }
   ],
   "source": [
    "precision"
   ]
  },
  {
   "cell_type": "code",
   "execution_count": 99,
   "metadata": {},
   "outputs": [
    {
     "data": {
      "text/plain": [
       "array([0.6666666666666666, 0.6666666666666666, 1.0], dtype=object)"
      ]
     },
     "execution_count": 99,
     "metadata": {},
     "output_type": "execute_result"
    }
   ],
   "source": [
    "precision[0][0]"
   ]
  },
  {
   "cell_type": "code",
   "execution_count": 216,
   "metadata": {},
   "outputs": [],
   "source": [
    "def precMedia(precisiones):\n",
    "    precMedia = np.zeros(precisiones.shape, object)\n",
    "    # Ahora reducimos una dimansión, porque al hacer la media los \"num_samples\" de valores se reducirán a solo 1\n",
    "    precMedia = precMedia[:, :, 0]\n",
    "\n",
    "    for i, nivel in enumerate(precisiones):\n",
    "        for j, clase in enumerate(nivel):\n",
    "            print(clase)\n",
    "            precMedia[i][j] = clase.mean()\n",
    "            \n",
    "    return precMedia"
   ]
  },
  {
   "cell_type": "code",
   "execution_count": 217,
   "metadata": {
    "collapsed": true
   },
   "outputs": [
    {
     "name": "stdout",
     "output_type": "stream",
     "text": [
      "[0.6666666666666666 0.6666666666666666 1.0]\n",
      "[0.0 0.0 0.3333333333333333]\n",
      "[0.0 0.3333333333333333 1.0]\n",
      "[0.6666666666666666 1.0 1.0]\n",
      "[0.0 0.6666666666666666 0.0]\n",
      "[1.0 0.0 1.0]\n",
      "[0.3333333333333333 0.6666666666666666 0.3333333333333333]\n",
      "[0.0 0.3333333333333333 0.0]\n",
      "[0.3333333333333333 0.3333333333333333 1.0]\n",
      "[0.3333333333333333 0.6666666666666666 1.0]\n",
      "[1.0 0.6666666666666666 0.6666666666666666]\n",
      "[0.6666666666666666 0.0 0.3333333333333333]\n",
      "[0.6666666666666666 0.3333333333333333 0.6666666666666666]\n",
      "[0.3333333333333333 1.0 0.0]\n",
      "[1.0 0.0 1.0]\n",
      "[0.6666666666666666 0.6666666666666666 0.3333333333333333]\n",
      "[1.0 0.6666666666666666 0.3333333333333333]\n",
      "[1.0 0.0 0.6666666666666666]\n",
      "[0.6666666666666666 0.6666666666666666 0.0]\n",
      "[0.3333333333333333 0.3333333333333333 0.3333333333333333]\n",
      "[0.3 0.6 0.9]\n",
      "[0.0 0.0 0.4]\n",
      "[0.3 0.3 0.8]\n",
      "[0.4 1.0 0.8]\n",
      "[0.2 0.6 0.0]\n",
      "[0.4 0.0 0.5]\n",
      "[0.6 0.6 0.3]\n",
      "[0.1 0.1 0.1]\n",
      "[0.3 0.1 1.0]\n",
      "[0.1 0.4 0.9]\n",
      "[0.5 0.5 0.3]\n",
      "[0.5 0.0 0.8]\n",
      "[0.2 0.1 0.5]\n",
      "[0.2 0.9 0.0]\n",
      "[0.6 0.0 1.0]\n",
      "[0.3 0.6 0.2]\n",
      "[1.0 0.7 0.2]\n",
      "[0.8 0.1 0.6]\n",
      "[0.2 0.2 0.3]\n",
      "[0.4 0.2 0.2]\n",
      "[0.275 0.25 0.85]\n",
      "[0.05 0.025 0.3]\n",
      "[0.125 0.375 0.825]\n",
      "[0.1 0.925 0.725]\n",
      "[0.325 0.25 0.0]\n",
      "[0.25 0.075 0.525]\n",
      "[0.4 0.3 0.3]\n",
      "[0.25 0.075 0.25]\n",
      "[0.175 0.125 0.375]\n",
      "[0.325 0.425 0.575]\n",
      "[0.325 0.5 0.25]\n",
      "[0.55 0.0 0.425]\n",
      "[0.175 0.125 0.275]\n",
      "[0.1 0.8 0.025]\n",
      "[0.175 0.025 0.95]\n",
      "[0.175 0.275 0.15]\n",
      "[0.8 0.425 0.05]\n",
      "[0.375 0.05 0.475]\n",
      "[0.075 0.075 0.1]\n",
      "[0.225 0.15 0.2]\n"
     ]
    }
   ],
   "source": [
    "precMedia = precMedia(precision)"
   ]
  },
  {
   "cell_type": "code",
   "execution_count": 110,
   "metadata": {
    "collapsed": true
   },
   "outputs": [
    {
     "data": {
      "text/plain": [
       "array([0.7777777777777777, 0.1111111111111111, 0.4444444444444444,\n",
       "       0.8888888888888888, 0.2222222222222222, 0.6666666666666666,\n",
       "       0.4444444444444444, 0.1111111111111111, 0.5555555555555555,\n",
       "       0.6666666666666666, 0.7777777777777777, 0.3333333333333333,\n",
       "       0.5555555555555555, 0.4444444444444444, 0.6666666666666666,\n",
       "       0.5555555555555555, 0.6666666666666666, 0.5555555555555555,\n",
       "       0.4444444444444444, 0.3333333333333333], dtype=object)"
      ]
     },
     "execution_count": 110,
     "metadata": {},
     "output_type": "execute_result"
    }
   ],
   "source": [
    "precMedia[0]"
   ]
  },
  {
   "cell_type": "code",
   "execution_count": 90,
   "metadata": {},
   "outputs": [],
   "source": [
    "from matplotlib import pyplot as plt "
   ]
  },
  {
   "cell_type": "code",
   "execution_count": 197,
   "metadata": {},
   "outputs": [],
   "source": [
    "def imprimirGraficas(info, niveles, clases):\n",
    "    fig, ax = plt.subplots()\n",
    "    \n",
    "    #lt.figure(figsize=(16,7))\n",
    "    \n",
    "    # We want to show all ticks...\n",
    "    ax.set_xticks(np.arange(len(clases)))\n",
    "    # ... and label them with the respective list entries\n",
    "    ax.set_xticklabels(clases)\n",
    "\n",
    "    ylabel = np.arange(0.0, 1.0, 0.1)\n",
    "    ax.set_yticks(ylabel)\n",
    "    \n",
    "    # Rotate the tick labels and set their alignment.\n",
    "    plt.setp(ax.get_xticklabels(), rotation=45, ha=\"right\",\n",
    "             rotation_mode=\"anchor\")\n",
    "\n",
    "\n",
    "    ax.set_title(\"Precisión media con diferentes niveles de exhaustividad\")\n",
    "    fig.set_size_inches(14,8)\n",
    "    fig.tight_layout()\n",
    "    \n",
    "    \n",
    "    for i, nivel in enumerate(info):\n",
    "        print(nivel)\n",
    "        ax.plot(clases, nivel, label = \"Nivel exhaustividad \" + str(niveles[i]))\n",
    "    \n",
    "    \n",
    "    \n",
    "    plt.legend(framealpha=1, frameon=True);\n",
    "    \n",
    "    \n",
    "    \n",
    "    \n",
    "    \n",
    "    plt.show()"
   ]
  },
  {
   "cell_type": "code",
   "execution_count": 218,
   "metadata": {
    "collapsed": true
   },
   "outputs": [
    {
     "name": "stdout",
     "output_type": "stream",
     "text": [
      "[0.7777777777777777 0.1111111111111111 0.4444444444444444\n",
      " 0.8888888888888888 0.2222222222222222 0.6666666666666666\n",
      " 0.4444444444444444 0.1111111111111111 0.5555555555555555\n",
      " 0.6666666666666666 0.7777777777777777 0.3333333333333333\n",
      " 0.5555555555555555 0.4444444444444444 0.6666666666666666\n",
      " 0.5555555555555555 0.6666666666666666 0.5555555555555555\n",
      " 0.4444444444444444 0.3333333333333333]\n",
      "[0.6 0.13333333333333333 0.4666666666666666 0.7333333333333334\n",
      " 0.26666666666666666 0.3 0.5 0.10000000000000002 0.4666666666666666\n",
      " 0.4666666666666666 0.43333333333333335 0.43333333333333335\n",
      " 0.26666666666666666 0.3666666666666667 0.5333333333333333\n",
      " 0.36666666666666664 0.6333333333333333 0.5 0.2333333333333333\n",
      " 0.26666666666666666]\n",
      "[0.4583333333333333 0.125 0.44166666666666665 0.5833333333333334\n",
      " 0.19166666666666665 0.2833333333333334 0.3333333333333333\n",
      " 0.19166666666666665 0.225 0.44166666666666665 0.35833333333333334 0.325\n",
      " 0.19166666666666665 0.30833333333333335 0.3833333333333333\n",
      " 0.19999999999999998 0.42500000000000004 0.3 0.08333333333333333\n",
      " 0.19166666666666665]\n"
     ]
    },
    {
     "data": {
      "image/png": "[encoded data removed]",
      "text/plain": [
       "<Figure size 1008x576 with 1 Axes>"
      ]
     },
     "metadata": {
      "needs_background": "light"
     },
     "output_type": "display_data"
    }
   ],
   "source": [
    "imprimirGraficas(precMedia, niveles, train_data.target_names)"
   ]
  }
 ],
 "metadata": {
  "kernelspec": {
   "display_name": "Python 3",
   "language": "python",
   "name": "python3"
  },
  "language_info": {
   "codemirror_mode": {
    "name": "ipython",
    "version": 3
   },
   "file_extension": ".py",
   "mimetype": "text/x-python",
   "name": "python",
   "nbconvert_exporter": "python",
   "pygments_lexer": "ipython3",
   "version": "3.7.4"
  }
 },
 "nbformat": 4,
 "nbformat_minor": 2
}
