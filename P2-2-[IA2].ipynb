{
 "cells": [
  {
   "cell_type": "code",
   "execution_count": 1,
   "metadata": {},
   "outputs": [],
   "source": [
    "from sklearn.datasets import fetch_20newsgroups"
   ]
  },
  {
   "cell_type": "code",
   "execution_count": 2,
   "metadata": {},
   "outputs": [
    {
     "name": "stdout",
     "output_type": "stream",
     "text": [
      "Training texts: 11314\n",
      "Test texts: 7532\n"
     ]
    }
   ],
   "source": [
    "train_data = fetch_20newsgroups(subset='train', shuffle=True, random_state=42)\n",
    "test_data = fetch_20newsgroups(subset='test')\n",
    "\n",
    "print(\"Training texts:\", len(train_data.data))\n",
    "print(\"Test texts:\", len(test_data.data))"
   ]
  },
  {
   "cell_type": "code",
   "execution_count": 3,
   "metadata": {},
   "outputs": [],
   "source": [
    "from sklearn.feature_extraction.text import CountVectorizer"
   ]
  },
  {
   "cell_type": "code",
   "execution_count": 4,
   "metadata": {},
   "outputs": [],
   "source": [
    "# Pasamos el fichero a una lista (una línea por item)\n",
    "with open('words.txt') as f:\n",
    "    dictionary = f.read().splitlines()"
   ]
  },
  {
   "cell_type": "code",
   "execution_count": 5,
   "metadata": {},
   "outputs": [],
   "source": [
    "vectorizer = CountVectorizer(binary= False, vocabulary=dictionary, stop_words='english', ngram_range = (1,1))"
   ]
  },
  {
   "cell_type": "code",
   "execution_count": 6,
   "metadata": {},
   "outputs": [],
   "source": [
    "from sklearn.metrics.pairwise import cosine_similarity"
   ]
  },
  {
   "cell_type": "code",
   "execution_count": 7,
   "metadata": {
    "scrolled": false
   },
   "outputs": [
    {
     "data": {
      "text/plain": [
       "['DESCR', 'data', 'filenames', 'target', 'target_names']"
      ]
     },
     "execution_count": 7,
     "metadata": {},
     "output_type": "execute_result"
    }
   ],
   "source": [
    "dir(train_data)"
   ]
  },
  {
   "cell_type": "code",
   "execution_count": 8,
   "metadata": {
    "scrolled": false
   },
   "outputs": [
    {
     "data": {
      "text/plain": [
       "array([ 7,  4,  4,  1, 14, 16, 13,  3,  2,  4,  8, 19,  4, 14,  6,  0,  1,\n",
       "        7, 12,  5,  0, 10,  6,  2,  4,  1, 12,  9, 15,  7,  6, 13, 12, 17,\n",
       "       18, 10,  8, 11,  8, 16,  9,  4,  3,  9,  9,  4,  4,  8, 12, 14,  5,\n",
       "       15,  2, 13, 17, 11,  7, 10,  2, 14, 12,  5,  4,  6,  7,  0, 11, 16,\n",
       "        0,  6, 17,  7, 12,  7,  3, 12, 11,  7,  2,  2,  0, 16,  1,  2,  7,\n",
       "        3,  2,  1, 10, 12, 12, 17, 12,  2,  8,  8, 18,  5,  0,  1])"
      ]
     },
     "execution_count": 8,
     "metadata": {},
     "output_type": "execute_result"
    }
   ],
   "source": [
    "train_data.target[0:100]"
   ]
  },
  {
   "cell_type": "code",
   "execution_count": 9,
   "metadata": {},
   "outputs": [
    {
     "data": {
      "text/plain": [
       "{0, 1, 2, 3, 4, 5, 6, 7, 8, 9, 10, 11, 12, 13, 14, 15, 16, 17, 18, 19}"
      ]
     },
     "execution_count": 9,
     "metadata": {},
     "output_type": "execute_result"
    }
   ],
   "source": [
    "set(train_data.target)"
   ]
  },
  {
   "cell_type": "code",
   "execution_count": 10,
   "metadata": {},
   "outputs": [
    {
     "data": {
      "text/plain": [
       "{'alt.atheism',\n",
       " 'comp.graphics',\n",
       " 'comp.os.ms-windows.misc',\n",
       " 'comp.sys.ibm.pc.hardware',\n",
       " 'comp.sys.mac.hardware',\n",
       " 'comp.windows.x',\n",
       " 'misc.forsale',\n",
       " 'rec.autos',\n",
       " 'rec.motorcycles',\n",
       " 'rec.sport.baseball',\n",
       " 'rec.sport.hockey',\n",
       " 'sci.crypt',\n",
       " 'sci.electronics',\n",
       " 'sci.med',\n",
       " 'sci.space',\n",
       " 'soc.religion.christian',\n",
       " 'talk.politics.guns',\n",
       " 'talk.politics.mideast',\n",
       " 'talk.politics.misc',\n",
       " 'talk.religion.misc'}"
      ]
     },
     "execution_count": 10,
     "metadata": {},
     "output_type": "execute_result"
    }
   ],
   "source": [
    "set(train_data.target_names)"
   ]
  },
  {
   "cell_type": "markdown",
   "metadata": {},
   "source": [
    "Esto es para saber que hay suficientes elementos de cada tipo, por lo que podremos hacer selecciones aleatorias hasta tener 3 de cada"
   ]
  },
  {
   "cell_type": "code",
   "execution_count": 11,
   "metadata": {},
   "outputs": [],
   "source": [
    "import numpy as np"
   ]
  },
  {
   "cell_type": "code",
   "execution_count": 12,
   "metadata": {
    "scrolled": true
   },
   "outputs": [
    {
     "data": {
      "text/plain": [
       "{0: 480,\n",
       " 1: 584,\n",
       " 2: 591,\n",
       " 3: 590,\n",
       " 4: 578,\n",
       " 5: 593,\n",
       " 6: 585,\n",
       " 7: 594,\n",
       " 8: 598,\n",
       " 9: 597,\n",
       " 10: 600,\n",
       " 11: 595,\n",
       " 12: 591,\n",
       " 13: 594,\n",
       " 14: 593,\n",
       " 15: 599,\n",
       " 16: 546,\n",
       " 17: 564,\n",
       " 18: 465,\n",
       " 19: 377}"
      ]
     },
     "execution_count": 12,
     "metadata": {},
     "output_type": "execute_result"
    }
   ],
   "source": [
    "unique, counts = np.unique(train_data.target, return_counts=True)\n",
    "dict(zip(unique, counts))"
   ]
  },
  {
   "cell_type": "code",
   "execution_count": 13,
   "metadata": {
    "scrolled": true
   },
   "outputs": [
    {
     "data": {
      "text/plain": [
       "['alt.atheism',\n",
       " 'comp.graphics',\n",
       " 'comp.os.ms-windows.misc',\n",
       " 'comp.sys.ibm.pc.hardware',\n",
       " 'comp.sys.mac.hardware',\n",
       " 'comp.windows.x',\n",
       " 'misc.forsale',\n",
       " 'rec.autos',\n",
       " 'rec.motorcycles',\n",
       " 'rec.sport.baseball',\n",
       " 'rec.sport.hockey',\n",
       " 'sci.crypt',\n",
       " 'sci.electronics',\n",
       " 'sci.med',\n",
       " 'sci.space',\n",
       " 'soc.religion.christian',\n",
       " 'talk.politics.guns',\n",
       " 'talk.politics.mideast',\n",
       " 'talk.politics.misc',\n",
       " 'talk.religion.misc']"
      ]
     },
     "execution_count": 13,
     "metadata": {},
     "output_type": "execute_result"
    }
   ],
   "source": [
    "train_data.target_names"
   ]
  },
  {
   "cell_type": "code",
   "execution_count": 14,
   "metadata": {},
   "outputs": [],
   "source": [
    "import numpy as np\n",
    "import numpy.ma as ma\n",
    "\n",
    "def write_terms (feature_names, data, vector_data, index):\n",
    "    '''\n",
    "    Escribe los términos presentes en un mensaje representado como bolsa de palabras.\n",
    "    \n",
    "    - feature_names: terminos usados para vectorizar\n",
    "    - data: lista de mensajes original (si data==None no se muestra el mensaje original)\n",
    "    - vector_data: matriz (dispersa) de mensaje vectorizados\n",
    "    - index: posición del mensaje a mostrar\n",
    "    '''\n",
    "    # máscara para seleccionar sólo el mensaje en posición index\n",
    "    mask=vector_data[index,:]>0\n",
    "    \n",
    "    # términos que aparecen en ese mensaje vectorizado\n",
    "    terminos = ma.array(feature_names, mask = ~(mask[0].toarray()))\n",
    "    \n",
    "    # mostrar mensaje original\n",
    "    if data:\n",
    "        print('Mensaje', index, ':', data[index])\n",
    "    \n",
    "    # mostrar términos que aparecen en el mensaje vectorizado\n",
    "    print('Mensaje', index, 'vectorizado:', terminos.compressed(),'\\n')"
   ]
  },
  {
   "cell_type": "code",
   "execution_count": 15,
   "metadata": {},
   "outputs": [],
   "source": [
    "train_vector_data = vectorizer.fit_transform(train_data.data)"
   ]
  },
  {
   "cell_type": "code",
   "execution_count": 16,
   "metadata": {},
   "outputs": [
    {
     "name": "stdout",
     "output_type": "stream",
     "text": [
      "  (0, 4151)\t1\n",
      "  (0, 52160)\t1\n",
      "  (0, 53807)\t1\n",
      "  (0, 56907)\t1\n",
      "  (0, 78575)\t1\n",
      "  (0, 112523)\t1\n",
      "  (0, 112565)\t1\n",
      "  (0, 124009)\t1\n",
      "  (0, 124372)\t1\n",
      "  (0, 149051)\t1\n",
      "  (0, 177802)\t1\n",
      "  (0, 184493)\t1\n",
      "  (0, 185287)\t1\n",
      "  (0, 190955)\t1\n",
      "  (0, 208543)\t1\n",
      "  (0, 213043)\t1\n",
      "  (0, 218699)\t1\n",
      "  (0, 221810)\t1\n",
      "  (0, 221819)\t1\n",
      "  (0, 225798)\t1\n",
      "  (0, 242690)\t1\n",
      "  (0, 251793)\t1\n",
      "  (0, 271493)\t1\n",
      "  (0, 306014)\t1\n",
      "  (0, 314710)\t1\n",
      "  :\t:\n",
      "  (11313, 12051)\t1\n",
      "  (11313, 31047)\t1\n",
      "  (11313, 110477)\t1\n",
      "  (11313, 124009)\t1\n",
      "  (11313, 163078)\t1\n",
      "  (11313, 170696)\t1\n",
      "  (11313, 192874)\t1\n",
      "  (11313, 217697)\t1\n",
      "  (11313, 218699)\t1\n",
      "  (11313, 239824)\t1\n",
      "  (11313, 265072)\t2\n",
      "  (11313, 271493)\t1\n",
      "  (11313, 306014)\t1\n",
      "  (11313, 340787)\t1\n",
      "  (11313, 359935)\t1\n",
      "  (11313, 360545)\t1\n",
      "  (11313, 365530)\t1\n",
      "  (11313, 385115)\t2\n",
      "  (11313, 389038)\t1\n",
      "  (11313, 391937)\t1\n",
      "  (11313, 398618)\t1\n",
      "  (11313, 400462)\t1\n",
      "  (11313, 410906)\t1\n",
      "  (11313, 413140)\t1\n",
      "  (11313, 419956)\t1\n"
     ]
    }
   ],
   "source": [
    "print(train_vector_data)"
   ]
  },
  {
   "cell_type": "code",
   "execution_count": 17,
   "metadata": {},
   "outputs": [],
   "source": [
    "feature_names = vectorizer.get_feature_names()"
   ]
  },
  {
   "cell_type": "code",
   "execution_count": 18,
   "metadata": {
    "scrolled": true
   },
   "outputs": [
    {
     "name": "stdout",
     "output_type": "stream",
     "text": [
      "number\n"
     ]
    }
   ],
   "source": [
    "print(feature_names[265072])"
   ]
  },
  {
   "cell_type": "code",
   "execution_count": 19,
   "metadata": {
    "scrolled": true
   },
   "outputs": [
    {
     "name": "stdout",
     "output_type": "stream",
     "text": [
      "Mensaje 1 vectorizado: ['acceleration' 'adapters' 'answered' 'article' 'attained' 'brave' 'cards'\n",
      " 'clock' 'days' 'detailing' 'disk' 'especially' 'experiences' 'final'\n",
      " 'floppy' 'floppies' 'functionality' 'heat' 'hour' 'keywords' 'knowledge'\n",
      " 'lines' 'message' 'network' 'number' 'organization' 'oscillator'\n",
      " 'posting' 'procedure' 'rated' 'reports' 'requested' 'send' 'shared'\n",
      " 'sinks' 'souls' 'speed' 'subject' 'summary' 'summarizing' 'thanks'\n",
      " 'upgrade' 'upgraded' 'usage'] \n",
      "\n"
     ]
    }
   ],
   "source": [
    "write_terms(feature_names, None, train_vector_data, 1)"
   ]
  },
  {
   "cell_type": "code",
   "execution_count": 20,
   "metadata": {},
   "outputs": [
    {
     "data": {
      "text/plain": [
       "scipy.sparse.csr.csr_matrix"
      ]
     },
     "execution_count": 20,
     "metadata": {},
     "output_type": "execute_result"
    }
   ],
   "source": [
    "type(train_vector_data)"
   ]
  },
  {
   "cell_type": "markdown",
   "metadata": {},
   "source": [
    "Procedemos a elegir 3 mensajes de cada tipo"
   ]
  },
  {
   "cell_type": "code",
   "execution_count": 21,
   "metadata": {},
   "outputs": [],
   "source": [
    "import random"
   ]
  },
  {
   "cell_type": "code",
   "execution_count": 22,
   "metadata": {},
   "outputs": [],
   "source": [
    "#while the last element of the sum of all the previous elements (which is the sum of the total selectec texts) \n",
    "#    is less than the desired amount, it will keep choosing candidates\n",
    "\n",
    "selected = [0]*len(train_data.target_names)\n",
    "\n",
    "number_samples = 3\n",
    "\n",
    "selected_index = [0]*len(train_data.target_names)*number_samples\n",
    "\n",
    "while (np.cumsum(selected)[-1] < len(selected)*number_samples):\n",
    "\n",
    "    #Indice aleatorio de la lista de mensajes\n",
    "    index = random.randint(0, len(train_data.target))\n",
    "    #cat = numero de la categoria a la que pertenece el índice elegido\n",
    "    cat = train_data.target[index]\n",
    "    #Comprobamos que no haya ya 3 elementos de la categoría a la que pertenezca el index y lo añadimos a la cuenta y a la lista de índices\n",
    "    #La lista de índices estará ordenada por categorías\n",
    "    if(selected[cat] < 3):\n",
    "        selected_index[cat*number_samples + selected[cat]] = index\n",
    "        selected[cat] += 1"
   ]
  },
  {
   "cell_type": "code",
   "execution_count": 23,
   "metadata": {},
   "outputs": [
    {
     "data": {
      "text/plain": [
       "[3, 3, 3, 3, 3, 3, 3, 3, 3, 3, 3, 3, 3, 3, 3, 3, 3, 3, 3, 3]"
      ]
     },
     "execution_count": 23,
     "metadata": {},
     "output_type": "execute_result"
    }
   ],
   "source": [
    "selected"
   ]
  },
  {
   "cell_type": "code",
   "execution_count": 24,
   "metadata": {
    "scrolled": true
   },
   "outputs": [
    {
     "data": {
      "text/plain": [
       "60"
      ]
     },
     "execution_count": 24,
     "metadata": {},
     "output_type": "execute_result"
    }
   ],
   "source": [
    "np.cumsum(selected)[-1]"
   ]
  },
  {
   "cell_type": "code",
   "execution_count": 25,
   "metadata": {},
   "outputs": [
    {
     "data": {
      "text/plain": [
       "60"
      ]
     },
     "execution_count": 25,
     "metadata": {},
     "output_type": "execute_result"
    }
   ],
   "source": [
    "len(selected_index)"
   ]
  },
  {
   "cell_type": "code",
   "execution_count": 26,
   "metadata": {
    "scrolled": true
   },
   "outputs": [
    {
     "data": {
      "text/plain": [
       "[5081,\n",
       " 8005,\n",
       " 10779,\n",
       " 8738,\n",
       " 7316,\n",
       " 2302,\n",
       " 11234,\n",
       " 7404,\n",
       " 2114,\n",
       " 11095,\n",
       " 9360,\n",
       " 8447,\n",
       " 6687,\n",
       " 3797,\n",
       " 10682,\n",
       " 4510,\n",
       " 5178,\n",
       " 1980,\n",
       " 9616,\n",
       " 3777,\n",
       " 2396,\n",
       " 3730,\n",
       " 3472,\n",
       " 10079,\n",
       " 7716,\n",
       " 8789,\n",
       " 3062,\n",
       " 449,\n",
       " 3619,\n",
       " 9720,\n",
       " 3997,\n",
       " 6280,\n",
       " 8984,\n",
       " 7190,\n",
       " 1660,\n",
       " 8136,\n",
       " 1488,\n",
       " 1692,\n",
       " 8141,\n",
       " 8858,\n",
       " 5301,\n",
       " 663,\n",
       " 4049,\n",
       " 3665,\n",
       " 11261,\n",
       " 2012,\n",
       " 5613,\n",
       " 10446,\n",
       " 10405,\n",
       " 11111,\n",
       " 434,\n",
       " 8798,\n",
       " 5828,\n",
       " 4199,\n",
       " 10240,\n",
       " 4066,\n",
       " 9485,\n",
       " 1440,\n",
       " 6706,\n",
       " 7729]"
      ]
     },
     "execution_count": 26,
     "metadata": {},
     "output_type": "execute_result"
    }
   ],
   "source": [
    "selected_index"
   ]
  },
  {
   "cell_type": "code",
   "execution_count": 27,
   "metadata": {},
   "outputs": [],
   "source": [
    "from sklearn.metrics.pairwise import cosine_similarity"
   ]
  },
  {
   "cell_type": "code",
   "execution_count": 28,
   "metadata": {},
   "outputs": [
    {
     "data": {
      "text/plain": [
       "scipy.sparse.csr.csr_matrix"
      ]
     },
     "execution_count": 28,
     "metadata": {},
     "output_type": "execute_result"
    }
   ],
   "source": [
    "type(train_vector_data[2252])"
   ]
  },
  {
   "cell_type": "code",
   "execution_count": 29,
   "metadata": {},
   "outputs": [
    {
     "name": "stdout",
     "output_type": "stream",
     "text": [
      "[5081, 8005, 10779]\n"
     ]
    }
   ],
   "source": [
    "#indices = selected_index[0:3]\n",
    "#print(indices)\n",
    "#out1 = train_vector_data.tocsc()[indices,:]"
   ]
  },
  {
   "cell_type": "code",
   "execution_count": 30,
   "metadata": {
    "scrolled": true
   },
   "outputs": [
    {
     "name": "stdout",
     "output_type": "stream",
     "text": [
      "  (2, 787)\t2\n",
      "  (2, 897)\t1\n",
      "  (2, 973)\t6\n",
      "  (2, 977)\t1\n",
      "  (2, 1841)\t1\n",
      "  (2, 2073)\t1\n",
      "  (2, 2199)\t1\n",
      "  (2, 3749)\t1\n",
      "  (2, 4152)\t1\n",
      "  (0, 4971)\t3\n",
      "  (0, 5248)\t2\n",
      "  (2, 5483)\t1\n",
      "  (2, 5484)\t1\n",
      "  (2, 7502)\t3\n",
      "  (2, 7509)\t1\n",
      "  (2, 11112)\t2\n",
      "  (0, 11116)\t1\n",
      "  (2, 12837)\t3\n",
      "  (2, 14570)\t1\n",
      "  (0, 15392)\t1\n",
      "  (2, 17178)\t1\n",
      "  (2, 17191)\t1\n",
      "  (2, 17592)\t1\n",
      "  (0, 21356)\t2\n",
      "  (2, 21609)\t1\n",
      "  :\t:\n",
      "  (2, 445154)\t2\n",
      "  (2, 445296)\t1\n",
      "  (0, 448738)\t2\n",
      "  (1, 448742)\t1\n",
      "  (1, 449795)\t2\n",
      "  (2, 449820)\t2\n",
      "  (2, 450379)\t1\n",
      "  (0, 452830)\t1\n",
      "  (2, 452830)\t1\n",
      "  (2, 453624)\t1\n",
      "  (0, 457388)\t1\n",
      "  (2, 458353)\t1\n",
      "  (0, 459597)\t1\n",
      "  (0, 461144)\t1\n",
      "  (0, 461961)\t1\n",
      "  (2, 462783)\t2\n",
      "  (0, 462822)\t1\n",
      "  (1, 462822)\t1\n",
      "  (2, 463291)\t1\n",
      "  (2, 463400)\t1\n",
      "  (0, 463885)\t1\n",
      "  (2, 463885)\t1\n",
      "  (2, 463913)\t1\n",
      "  (2, 463924)\t4\n",
      "  (2, 463986)\t2\n"
     ]
    }
   ],
   "source": [
    "print(out1)"
   ]
  },
  {
   "cell_type": "code",
   "execution_count": 31,
   "metadata": {},
   "outputs": [],
   "source": [
    "cosSim1 = cosine_similarity(train_vector_data[2252], train_vector_data)"
   ]
  },
  {
   "cell_type": "markdown",
   "metadata": {},
   "source": [
    "A ver, entonces, lo que creo que hay que hacer es:\n",
    "\n",
    "    1) Hacer el cosine similarity para cada una de las 60 indices que hemos elegido.\n",
    "    2) Agruparlos de 3 en 3 ya que es el número de muestras que nos dicen que cojamos (ponerlo como un parámetro)\n",
    "    3) Ordenar los 20 arrays, en total cada uno tendrá (número de textos)*3 elementos\n",
    "    4) Cuando tengamos todos los elementos ordenador hacemos lo de la exhaustividad (recall, es decir de entre todos los que han dado positivo (que se parecen al texto objetivo) cuantos son realmente de la misma categoría(True Pos/(True Pos + False Neg))) entre valores de 3 y 10. Eso significa que tenemos que ver para los mejores X valores (entre 3 y 10) cuantos son de la misma categoría que la clase que estamos comparando\n",
    "    5) Hacer la media de los "
   ]
  },
  {
   "cell_type": "markdown",
   "metadata": {},
   "source": [
    "Nononono a ver"
   ]
  },
  {
   "cell_type": "markdown",
   "metadata": {},
   "source": [
    "Lo que piden de:  la precisión de la lista de resultados con nivel de exhaustividad 3 y 10.\n",
    "\n",
    "Lo que hay que hacer es: De los X valores que más se parezcan entre los X primeros recuperados. Por lo que símplemente es coger y decir: Si para un nivel de exhaustividad 7, cogemos los 7 elementos que más se parezcan a los textos que hemos metido, después comprobamos de esos 7 cuantos son de la clase a la que perteneces los mensajes seleccionados antes.\n",
    "\n",
    "Entonces, después cogemos esos 8 resultados (los valores de 3 a 10) y hacemos la media. Eso para cada clase.\n",
    "\n",
    "Así podemos ver cual es la clase que más parecidos tiene o algo así (?)\n",
    "\n",
    "\n",
    "Y luego hay que hacer lo mismo pero con el TF-IDF"
   ]
  },
  {
   "cell_type": "markdown",
   "metadata": {},
   "source": [
    "la duda que luego voy a preguntar es que si lo de exhaustivodad de nivel 5 por ejemplo, significa realmente que solo hay que coger los 5 elementos más TOP, me parece raro porque hay miles y miles y quedarse con tan pocos se me hace raro"
   ]
  },
  {
   "cell_type": "markdown",
   "metadata": {},
   "source": [
    "Intentar hacer la movida con funciones para que quede guay y bien indicado"
   ]
  },
  {
   "cell_type": "code",
   "execution_count": 34,
   "metadata": {
    "scrolled": true
   },
   "outputs": [
    {
     "data": {
      "text/plain": [
       "(1, 11314)"
      ]
     },
     "execution_count": 34,
     "metadata": {},
     "output_type": "execute_result"
    }
   ],
   "source": [
    "cosSim1.shape"
   ]
  },
  {
   "cell_type": "code",
   "execution_count": 131,
   "metadata": {},
   "outputs": [
    {
     "data": {
      "text/plain": [
       "1.000000000000001"
      ]
     },
     "execution_count": 131,
     "metadata": {},
     "output_type": "execute_result"
    }
   ],
   "source": [
    "cosSim[0][0]"
   ]
  },
  {
   "cell_type": "code",
   "execution_count": 35,
   "metadata": {},
   "outputs": [],
   "source": [
    "cosSim2 = cosine_similarity(train_vector_data[2251], train_vector_data)"
   ]
  },
  {
   "cell_type": "code",
   "execution_count": 44,
   "metadata": {},
   "outputs": [],
   "source": [
    "cosSim3 = cosine_similarity(train_vector_data[2250], train_vector_data)"
   ]
  },
  {
   "cell_type": "code",
   "execution_count": 107,
   "metadata": {},
   "outputs": [],
   "source": [
    "cosSim = np.concatenate((cosSim1, cosSim2, cosSim3), axis=1)"
   ]
  },
  {
   "cell_type": "code",
   "execution_count": 97,
   "metadata": {},
   "outputs": [
    {
     "data": {
      "text/plain": [
       "numpy.ndarray"
      ]
     },
     "execution_count": 97,
     "metadata": {},
     "output_type": "execute_result"
    }
   ],
   "source": [
    "type(cosSim)"
   ]
  },
  {
   "cell_type": "code",
   "execution_count": 108,
   "metadata": {},
   "outputs": [],
   "source": [
    "cosSim = -np.sort(-cosSim)"
   ]
  },
  {
   "cell_type": "code",
   "execution_count": 115,
   "metadata": {},
   "outputs": [],
   "source": [
    "cosSimFinal = cosSim[0]"
   ]
  },
  {
   "cell_type": "code",
   "execution_count": 117,
   "metadata": {},
   "outputs": [
    {
     "data": {
      "text/plain": [
       "(33942,)"
      ]
     },
     "execution_count": 117,
     "metadata": {},
     "output_type": "execute_result"
    }
   ],
   "source": [
    "cosSimFinal.shape"
   ]
  },
  {
   "cell_type": "code",
   "execution_count": 249,
   "metadata": {},
   "outputs": [],
   "source": [
    "from sklearn.metrics.pairwise import cosine_similarity\n",
    "import pandas as pd"
   ]
  },
  {
   "cell_type": "code",
   "execution_count": 303,
   "metadata": {},
   "outputs": [],
   "source": [
    "#Funcion que le metes los índices seleccionados, el número de elementos por categoría y/o  el número de categorías\n",
    "#Devuelve un array con un número de columnas igual al número de categorías y número de filas igual al\n",
    "#    (número de textos - 1)*número de elementos elegidos por categoría - 3. El - 3 es para quitar las comparaciones de los textos\n",
    "#    con ellos mismos. La lista está completamente ordenada de mayor a menor.\n",
    "\n",
    "def cosSim_calc(indexes, elem, rows, numCat = None):\n",
    "    print(indexes)\n",
    "    print(len(indexes))\n",
    "    \n",
    "    cols = int(len(indexes)/elem)\n",
    "    print(rows, cols)\n",
    "    \n",
    "    sim = [[0]*rows]*cols\n",
    "    \n",
    "    col = 0\n",
    "    tempBatch_index = []\n",
    "    #Para cada indice seleccionado hacemos la cosine_similarity\n",
    "    for index in indexes:\n",
    "        \n",
    "        #Cogemos un grupo de \"elem\" elementos, de esta manera tendremos los indices con los que vamos a trabajar a continuación\n",
    "        tempBatch_index.append(index)\n",
    "        \n",
    "        #Si ya hemos cogido los \"elem\" elementos, procedemos a usarlos\n",
    "        if(len(tempBatch_index) == 3):\n",
    "            #print(tempBatch_index)\n",
    "            #Los agrupamos por categorías\n",
    "            agg = []\n",
    "            print(col)\n",
    "            for i in range(elem):\n",
    "                cosSim = cosine_similarity(train_vector_data[tempBatch_index[i]], train_vector_data)\n",
    "                agg = np.concatenate((agg, cosSim[0]))\n",
    "                #print(-np.sort(-agg))\n",
    "                \n",
    "            #Transformamos la representación de la información a dataFrames para poder mantener tener la categoría de cada elemento\n",
    "            info = pd.DataFrame(agg, columns=['puntuacion'])\n",
    "            #juntamos los indices para que coincidan con la información del DataFrame\n",
    "            categorias = np.array([])\n",
    "            for i in range(elem):\n",
    "                categorias = np.append(categorias, train_data.target)\n",
    "            \n",
    "            info['categoria'] = categorias\n",
    "            info = info.sort_values(by='puntuacion', ascending=False)\n",
    "            info = info[elem:]\n",
    "            sim[col] = info\n",
    "            print(max(sim[col]['puntuacion']))\n",
    "            #print(agg[:5])\n",
    "            #sim[col] = -np.sort(-agg)\n",
    "            #print(sim[col])\n",
    "            #Ahora quitamos los elementos que son =1, es decir los que se han comparado con si mismos, que ahora están en las \"elem\"\n",
    "            #    primeras posiciones\n",
    "            #sim[col] = sim[col][elem:]\n",
    "            \n",
    "            #print(sim[col][:10])\n",
    "            #print(max(sim[col]))\n",
    "            #print(tempBatch_index)\n",
    "            col+=1\n",
    "            tempBatch_index = []\n",
    "\n",
    "           \n",
    "    return sim"
   ]
  },
  {
   "cell_type": "code",
   "execution_count": 304,
   "metadata": {
    "scrolled": false
   },
   "outputs": [
    {
     "name": "stdout",
     "output_type": "stream",
     "text": [
      "[5081, 8005, 10779, 8738, 7316, 2302, 11234, 7404, 2114, 11095, 9360, 8447, 6687, 3797, 10682, 4510, 5178, 1980, 9616, 3777, 2396, 3730, 3472, 10079, 7716, 8789, 3062, 449, 3619, 9720, 3997, 6280, 8984, 7190, 1660, 8136, 1488, 1692, 8141, 8858, 5301, 663, 4049, 3665, 11261, 2012, 5613, 10446, 10405, 11111, 434, 8798, 5828, 4199, 10240, 4066, 9485, 1440, 6706, 7729]\n",
      "60\n",
      "11314 20\n",
      "0\n",
      "0.6223561592368898\n",
      "1\n",
      "0.849861767061256\n",
      "2\n",
      "0.7727272727272726\n",
      "3\n",
      "0.9919692415546342\n",
      "4\n",
      "0.36548694232390355\n",
      "5\n",
      "0.7607159437763318\n",
      "6\n",
      "0.4714045207910317\n",
      "7\n",
      "0.8624430703157185\n",
      "8\n",
      "0.8563488385776753\n",
      "9\n",
      "0.7537346628814319\n",
      "10\n",
      "0.7469377433031636\n",
      "11\n",
      "0.6155380992480795\n",
      "12\n",
      "0.710046946804692\n",
      "13\n",
      "0.8421978967542583\n",
      "14\n",
      "0.9999999999999996\n",
      "15\n",
      "0.6297144832524354\n",
      "16\n",
      "0.4756707120084505\n",
      "17\n",
      "0.8451542547285162\n",
      "18\n",
      "0.8175191193132879\n",
      "19\n",
      "0.43069868239124\n"
     ]
    }
   ],
   "source": [
    "cos_sim = cosSim_calc(selected_index, 3, len(train_data.data))"
   ]
  },
  {
   "cell_type": "code",
   "execution_count": 309,
   "metadata": {},
   "outputs": [
    {
     "data": {
      "text/plain": [
       "[       puntuacion  categoria\n",
       " 647      0.622356        0.0\n",
       " 12923    0.568552        0.0\n",
       " 23765    0.556685        0.0\n",
       " 29882    0.517773        0.0\n",
       " 22943    0.476086        0.0\n",
       " ...           ...        ...\n",
       " 26718    0.001406        2.0\n",
       " 27143    0.001107        2.0\n",
       " 27210    0.001051       10.0\n",
       " 22772    0.000752        2.0\n",
       " 24169    0.000676        2.0\n",
       " \n",
       " [33939 rows x 2 columns],        puntuacion  categoria\n",
       " 1616     0.849862        1.0\n",
       " 18737    0.836619        1.0\n",
       " 12092    0.820610        1.0\n",
       " 12326    0.778499        1.0\n",
       " 17800    0.765532        1.0\n",
       " ...           ...        ...\n",
       " 12855    0.004934        2.0\n",
       " 19833    0.004839        6.0\n",
       " 1541     0.004794        2.0\n",
       " 20726    0.004029       10.0\n",
       " 9412     0.003914       10.0\n",
       " \n",
       " [33939 rows x 2 columns],        puntuacion  categoria\n",
       " 4615     0.772727        2.0\n",
       " 30937    0.690980        2.0\n",
       " 29711    0.569666        2.0\n",
       " 28042    0.528997        2.0\n",
       " 31308    0.528813        2.0\n",
       " ...           ...        ...\n",
       " 19833    0.007153        6.0\n",
       " 1554     0.006979       11.0\n",
       " 12855    0.006838        2.0\n",
       " 32040    0.006215       10.0\n",
       " 20726    0.005583       10.0\n",
       " \n",
       " [33939 rows x 2 columns],        puntuacion  categoria\n",
       " 15710    0.991969       12.0\n",
       " 33728    0.529508        3.0\n",
       " 32813    0.528815        3.0\n",
       " 31349    0.519524        3.0\n",
       " 29449    0.516185        6.0\n",
       " ...           ...        ...\n",
       " 24182    0.005633       11.0\n",
       " 20920    0.005497        9.0\n",
       " 19833    0.005274        6.0\n",
       " 15896    0.005226       10.0\n",
       " 20726    0.004574       10.0\n",
       " \n",
       " [33939 rows x 2 columns],        puntuacion  categoria\n",
       " 10730    0.365487        2.0\n",
       " 5375     0.360510        2.0\n",
       " 12882    0.357371        3.0\n",
       " 15704    0.341397        3.0\n",
       " 22284    0.341144        2.0\n",
       " ...           ...        ...\n",
       " 14696    0.005796       11.0\n",
       " 19833    0.005365        6.0\n",
       " 26010    0.004362       11.0\n",
       " 9412     0.004295       10.0\n",
       " 32040    0.004202       10.0\n",
       " \n",
       " [33939 rows x 2 columns],        puntuacion  categoria\n",
       " 10217    0.760716        5.0\n",
       " 2515     0.654285        5.0\n",
       " 17321    0.617135        5.0\n",
       " 11981    0.594172        5.0\n",
       " 15561    0.573352        5.0\n",
       " ...           ...        ...\n",
       " 20726    0.002906       10.0\n",
       " 9412     0.002550       10.0\n",
       " 28837    0.002287       14.0\n",
       " 32234    0.002215        9.0\n",
       " 32040    0.001382       10.0\n",
       " \n",
       " [33939 rows x 2 columns],        puntuacion  categoria\n",
       " 11326    0.471405        4.0\n",
       " 16750    0.408248       14.0\n",
       " 22028    0.408248        3.0\n",
       " 4097     0.400892       16.0\n",
       " 19596    0.392837        7.0\n",
       " ...           ...        ...\n",
       " 26257    0.004477       13.0\n",
       " 22772    0.004097        2.0\n",
       " 32040    0.004009       10.0\n",
       " 24169    0.003682        2.0\n",
       " 9412     0.003543       10.0\n",
       " \n",
       " [33939 rows x 2 columns],        puntuacion  categoria\n",
       " 9416     0.862443        7.0\n",
       " 21775    0.782624       10.0\n",
       " 11857    0.714435       10.0\n",
       " 31367    0.644503        7.0\n",
       " 24435    0.621034        7.0\n",
       " ...           ...        ...\n",
       " 144      0.006646        2.0\n",
       " 9412     0.006503       10.0\n",
       " 32040    0.006419       10.0\n",
       " 1541     0.005973        2.0\n",
       " 15548    0.005284        5.0\n",
       " \n",
       " [33939 rows x 2 columns],        puntuacion  categoria\n",
       " 2940     0.856349        8.0\n",
       " 10444    0.823291        8.0\n",
       " 31983    0.491354       16.0\n",
       " 30624    0.478091        1.0\n",
       " 31450    0.473804        8.0\n",
       " ...           ...        ...\n",
       " 20920    0.002904        9.0\n",
       " 12806    0.002637        2.0\n",
       " 11458    0.001976        2.0\n",
       " 12855    0.001776        2.0\n",
       " 20726    0.001450       10.0\n",
       " \n",
       " [33939 rows x 2 columns],        puntuacion  categoria\n",
       " 25014    0.753735        9.0\n",
       " 5445     0.696963        9.0\n",
       " 17933    0.692308        9.0\n",
       " 7551     0.637022        9.0\n",
       " 19798    0.566139        6.0\n",
       " ...           ...        ...\n",
       " 26010    0.005583       11.0\n",
       " 32903    0.005557        2.0\n",
       " 27210    0.005121       10.0\n",
       " 22772    0.004886        2.0\n",
       " 24169    0.004391        2.0\n",
       " \n",
       " [33939 rows x 2 columns],        puntuacion  categoria\n",
       " 11214    0.746938       10.0\n",
       " 1097     0.593647       10.0\n",
       " 8363     0.449940       10.0\n",
       " 9453     0.408910       10.0\n",
       " 4113     0.408910       10.0\n",
       " ...           ...        ...\n",
       " 1492     0.004271        2.0\n",
       " 32040    0.004054       10.0\n",
       " 12855    0.004018        2.0\n",
       " 144      0.003199        2.0\n",
       " 1541     0.002875        2.0\n",
       " \n",
       " [33939 rows x 2 columns],        puntuacion  categoria\n",
       " 28240    0.615538       11.0\n",
       " 31073    0.612519       11.0\n",
       " 27126    0.612241       11.0\n",
       " 32024    0.609404       11.0\n",
       " 31635    0.608878       11.0\n",
       " ...           ...        ...\n",
       " 24169    0.002174        2.0\n",
       " 15896    0.002125       10.0\n",
       " 11458    0.002027        2.0\n",
       " 12855    0.001822        2.0\n",
       " 20726    0.001488       10.0\n",
       " \n",
       " [33939 rows x 2 columns],        puntuacion  categoria\n",
       " 2215     0.710047       12.0\n",
       " 9256     0.648289       12.0\n",
       " 1407     0.608762       12.0\n",
       " 20687    0.587945       12.0\n",
       " 2996     0.578241       12.0\n",
       " ...           ...        ...\n",
       " 144      0.003219        2.0\n",
       " 19833    0.003210        6.0\n",
       " 32040    0.003134       10.0\n",
       " 1541     0.002893        2.0\n",
       " 9412     0.002362       10.0\n",
       " \n",
       " [33939 rows x 2 columns],        puntuacion  categoria\n",
       " 32071    0.842198       13.0\n",
       " 15273    0.770552       13.0\n",
       " 29913    0.711868       13.0\n",
       " 26573    0.692015       13.0\n",
       " 31454    0.677067       13.0\n",
       " ...           ...        ...\n",
       " 32040    0.004660       10.0\n",
       " 144      0.004650        2.0\n",
       " 1541     0.004179        2.0\n",
       " 3382     0.003542       11.0\n",
       " 31147    0.003358        6.0\n",
       " \n",
       " [33939 rows x 2 columns],        puntuacion  categoria\n",
       " 4049     1.000000       14.0\n",
       " 31398    0.876552       14.0\n",
       " 30648    0.607695       14.0\n",
       " 847      0.578947       14.0\n",
       " 26391    0.544455       14.0\n",
       " ...           ...        ...\n",
       " 12855    0.004120        2.0\n",
       " 32903    0.003825        2.0\n",
       " 24169    0.003778        2.0\n",
       " 32040    0.003085       10.0\n",
       " 20726    0.002523       10.0\n",
       " \n",
       " [33939 rows x 2 columns],        puntuacion  categoria\n",
       " 26206    0.629714       15.0\n",
       " 23873    0.517915       15.0\n",
       " 21856    0.516770       15.0\n",
       " 12450    0.508342       15.0\n",
       " 2874     0.487611       15.0\n",
       " ...           ...        ...\n",
       " 24169    0.002651        2.0\n",
       " 144      0.002607        2.0\n",
       " 12855    0.002535        2.0\n",
       " 1541     0.002343        2.0\n",
       " 9412     0.001435       10.0\n",
       " \n",
       " [33939 rows x 2 columns],        puntuacion  categoria\n",
       " 21487    0.475671       16.0\n",
       " 5060     0.426671       16.0\n",
       " 2377     0.366686       16.0\n",
       " 3689     0.292597       12.0\n",
       " 19575    0.286039        9.0\n",
       " ...           ...        ...\n",
       " 3382     0.004292       11.0\n",
       " 32040    0.003912       10.0\n",
       " 20726    0.003426       10.0\n",
       " 9412     0.003101       10.0\n",
       " 26010    0.003046       11.0\n",
       " \n",
       " [33939 rows x 2 columns],        puntuacion  categoria\n",
       " 30834    0.845154       17.0\n",
       " 3986     0.818317       17.0\n",
       " 30569    0.784314       17.0\n",
       " 12310    0.670061       17.0\n",
       " 15138    0.643176       17.0\n",
       " ...           ...        ...\n",
       " 20726    0.003931       10.0\n",
       " 32040    0.003788       10.0\n",
       " 144      0.002980        2.0\n",
       " 9412     0.002916       10.0\n",
       " 1541     0.002678        2.0\n",
       " \n",
       " [33939 rows x 2 columns],        puntuacion  categoria\n",
       " 24218    0.817519       18.0\n",
       " 16800    0.737353       18.0\n",
       " 5640     0.453980       11.0\n",
       " 18595    0.424313       19.0\n",
       " 21591    0.419314       17.0\n",
       " ...           ...        ...\n",
       " 9412     0.004695       10.0\n",
       " 750      0.004681       13.0\n",
       " 8519     0.004512        6.0\n",
       " 12855    0.004374        2.0\n",
       " 21747    0.003455       16.0\n",
       " \n",
       " [33939 rows x 2 columns],        puntuacion  categoria\n",
       " 8115     0.430699       19.0\n",
       " 23611    0.407814       19.0\n",
       " 14105    0.383565       19.0\n",
       " 13357    0.343788       15.0\n",
       " 14870    0.340659       15.0\n",
       " ...           ...        ...\n",
       " 32040    0.003811       10.0\n",
       " 8519     0.003730        6.0\n",
       " 27210    0.003628       10.0\n",
       " 22772    0.003462        2.0\n",
       " 24169    0.003111        2.0\n",
       " \n",
       " [33939 rows x 2 columns]]"
      ]
     },
     "execution_count": 309,
     "metadata": {},
     "output_type": "execute_result"
    }
   ],
   "source": [
    "cos_sim"
   ]
  },
  {
   "cell_type": "code",
   "execution_count": 306,
   "metadata": {
    "scrolled": true
   },
   "outputs": [
    {
     "name": "stdout",
     "output_type": "stream",
     "text": [
      "0.8421978967542583\n"
     ]
    }
   ],
   "source": [
    "print(max(cos_sim[13]['puntuacion'].values))"
   ]
  },
  {
   "cell_type": "code",
   "execution_count": 310,
   "metadata": {},
   "outputs": [
    {
     "name": "stdout",
     "output_type": "stream",
     "text": [
      "0.6223561592368898\n",
      "0.849861767061256\n",
      "0.7727272727272726\n",
      "0.9919692415546342\n",
      "0.36548694232390355\n",
      "0.7607159437763318\n",
      "0.4714045207910317\n",
      "0.8624430703157185\n",
      "0.8563488385776753\n",
      "0.7537346628814319\n",
      "0.7469377433031636\n",
      "0.6155380992480795\n",
      "0.710046946804692\n",
      "0.8421978967542583\n",
      "0.9999999999999996\n",
      "0.6297144832524354\n",
      "0.4756707120084505\n",
      "0.8451542547285162\n",
      "0.8175191193132879\n",
      "0.43069868239124\n"
     ]
    }
   ],
   "source": [
    "for elem in cos_sim:\n",
    "    print(max(elem['puntuacion'].values))"
   ]
  },
  {
   "cell_type": "code",
   "execution_count": null,
   "metadata": {},
   "outputs": [],
   "source": []
  }
 ],
 "metadata": {
  "kernelspec": {
   "display_name": "Python 3",
   "language": "python",
   "name": "python3"
  },
  "language_info": {
   "codemirror_mode": {
    "name": "ipython",
    "version": 3
   },
   "file_extension": ".py",
   "mimetype": "text/x-python",
   "name": "python",
   "nbconvert_exporter": "python",
   "pygments_lexer": "ipython3",
   "version": "3.7.4"
  }
 },
 "nbformat": 4,
 "nbformat_minor": 2
}
