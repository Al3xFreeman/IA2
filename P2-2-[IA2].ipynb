{
 "cells": [
  {
   "cell_type": "code",
   "execution_count": 1,
   "metadata": {},
   "outputs": [],
   "source": [
    "from sklearn.datasets import fetch_20newsgroups"
   ]
  },
  {
   "cell_type": "code",
   "execution_count": 2,
   "metadata": {},
   "outputs": [
    {
     "name": "stdout",
     "output_type": "stream",
     "text": [
      "Training texts: 11314\n",
      "Test texts: 7532\n"
     ]
    }
   ],
   "source": [
    "train_data = fetch_20newsgroups(subset='train', shuffle=True, random_state=42)\n",
    "test_data = fetch_20newsgroups(subset='test')\n",
    "\n",
    "print(\"Training texts:\", len(train_data.data))\n",
    "print(\"Test texts:\", len(test_data.data))"
   ]
  },
  {
   "cell_type": "code",
   "execution_count": 3,
   "metadata": {},
   "outputs": [],
   "source": [
    "from sklearn.feature_extraction.text import CountVectorizer"
   ]
  },
  {
   "cell_type": "code",
   "execution_count": 4,
   "metadata": {},
   "outputs": [],
   "source": [
    "# Pasamos el fichero a una lista (una línea por item)\n",
    "with open('words.txt') as f:\n",
    "    dictionary = f.read().splitlines()"
   ]
  },
  {
   "cell_type": "code",
   "execution_count": 5,
   "metadata": {},
   "outputs": [],
   "source": [
    "vectorizer = CountVectorizer(binary= False, vocabulary=dictionary, stop_words='english', ngram_range = (1,1))"
   ]
  },
  {
   "cell_type": "code",
   "execution_count": 6,
   "metadata": {},
   "outputs": [],
   "source": [
    "from sklearn.metrics.pairwise import cosine_similarity"
   ]
  },
  {
   "cell_type": "code",
   "execution_count": 7,
   "metadata": {
    "scrolled": false
   },
   "outputs": [
    {
     "data": {
      "text/plain": [
       "['DESCR', 'data', 'filenames', 'target', 'target_names']"
      ]
     },
     "execution_count": 7,
     "metadata": {},
     "output_type": "execute_result"
    }
   ],
   "source": [
    "dir(train_data)"
   ]
  },
  {
   "cell_type": "code",
   "execution_count": 8,
   "metadata": {
    "scrolled": false
   },
   "outputs": [
    {
     "data": {
      "text/plain": [
       "array([ 7,  4,  4,  1, 14, 16, 13,  3,  2,  4,  8, 19,  4, 14,  6,  0,  1,\n",
       "        7, 12,  5,  0, 10,  6,  2,  4,  1, 12,  9, 15,  7,  6, 13, 12, 17,\n",
       "       18, 10,  8, 11,  8, 16,  9,  4,  3,  9,  9,  4,  4,  8, 12, 14,  5,\n",
       "       15,  2, 13, 17, 11,  7, 10,  2, 14, 12,  5,  4,  6,  7,  0, 11, 16,\n",
       "        0,  6, 17,  7, 12,  7,  3, 12, 11,  7,  2,  2,  0, 16,  1,  2,  7,\n",
       "        3,  2,  1, 10, 12, 12, 17, 12,  2,  8,  8, 18,  5,  0,  1])"
      ]
     },
     "execution_count": 8,
     "metadata": {},
     "output_type": "execute_result"
    }
   ],
   "source": [
    "train_data.target[0:100]"
   ]
  },
  {
   "cell_type": "code",
   "execution_count": 9,
   "metadata": {},
   "outputs": [
    {
     "data": {
      "text/plain": [
       "{0, 1, 2, 3, 4, 5, 6, 7, 8, 9, 10, 11, 12, 13, 14, 15, 16, 17, 18, 19}"
      ]
     },
     "execution_count": 9,
     "metadata": {},
     "output_type": "execute_result"
    }
   ],
   "source": [
    "set(train_data.target)"
   ]
  },
  {
   "cell_type": "code",
   "execution_count": 10,
   "metadata": {},
   "outputs": [
    {
     "data": {
      "text/plain": [
       "{'alt.atheism',\n",
       " 'comp.graphics',\n",
       " 'comp.os.ms-windows.misc',\n",
       " 'comp.sys.ibm.pc.hardware',\n",
       " 'comp.sys.mac.hardware',\n",
       " 'comp.windows.x',\n",
       " 'misc.forsale',\n",
       " 'rec.autos',\n",
       " 'rec.motorcycles',\n",
       " 'rec.sport.baseball',\n",
       " 'rec.sport.hockey',\n",
       " 'sci.crypt',\n",
       " 'sci.electronics',\n",
       " 'sci.med',\n",
       " 'sci.space',\n",
       " 'soc.religion.christian',\n",
       " 'talk.politics.guns',\n",
       " 'talk.politics.mideast',\n",
       " 'talk.politics.misc',\n",
       " 'talk.religion.misc'}"
      ]
     },
     "execution_count": 10,
     "metadata": {},
     "output_type": "execute_result"
    }
   ],
   "source": [
    "set(train_data.target_names)"
   ]
  },
  {
   "cell_type": "markdown",
   "metadata": {},
   "source": [
    "Esto es para saber que hay suficientes elementos de cada tipo, por lo que podremos hacer selecciones aleatorias hasta tener 3 de cada"
   ]
  },
  {
   "cell_type": "code",
   "execution_count": 11,
   "metadata": {},
   "outputs": [],
   "source": [
    "import numpy as np"
   ]
  },
  {
   "cell_type": "code",
   "execution_count": 12,
   "metadata": {
    "scrolled": true
   },
   "outputs": [
    {
     "data": {
      "text/plain": [
       "{0: 480,\n",
       " 1: 584,\n",
       " 2: 591,\n",
       " 3: 590,\n",
       " 4: 578,\n",
       " 5: 593,\n",
       " 6: 585,\n",
       " 7: 594,\n",
       " 8: 598,\n",
       " 9: 597,\n",
       " 10: 600,\n",
       " 11: 595,\n",
       " 12: 591,\n",
       " 13: 594,\n",
       " 14: 593,\n",
       " 15: 599,\n",
       " 16: 546,\n",
       " 17: 564,\n",
       " 18: 465,\n",
       " 19: 377}"
      ]
     },
     "execution_count": 12,
     "metadata": {},
     "output_type": "execute_result"
    }
   ],
   "source": [
    "unique, counts = np.unique(train_data.target, return_counts=True)\n",
    "dict(zip(unique, counts))"
   ]
  },
  {
   "cell_type": "code",
   "execution_count": 13,
   "metadata": {
    "scrolled": true
   },
   "outputs": [
    {
     "data": {
      "text/plain": [
       "['alt.atheism',\n",
       " 'comp.graphics',\n",
       " 'comp.os.ms-windows.misc',\n",
       " 'comp.sys.ibm.pc.hardware',\n",
       " 'comp.sys.mac.hardware',\n",
       " 'comp.windows.x',\n",
       " 'misc.forsale',\n",
       " 'rec.autos',\n",
       " 'rec.motorcycles',\n",
       " 'rec.sport.baseball',\n",
       " 'rec.sport.hockey',\n",
       " 'sci.crypt',\n",
       " 'sci.electronics',\n",
       " 'sci.med',\n",
       " 'sci.space',\n",
       " 'soc.religion.christian',\n",
       " 'talk.politics.guns',\n",
       " 'talk.politics.mideast',\n",
       " 'talk.politics.misc',\n",
       " 'talk.religion.misc']"
      ]
     },
     "execution_count": 13,
     "metadata": {},
     "output_type": "execute_result"
    }
   ],
   "source": [
    "train_data.target_names"
   ]
  },
  {
   "cell_type": "code",
   "execution_count": 14,
   "metadata": {},
   "outputs": [],
   "source": [
    "import numpy as np\n",
    "import numpy.ma as ma\n",
    "\n",
    "def write_terms (feature_names, data, vector_data, index):\n",
    "    '''\n",
    "    Escribe los términos presentes en un mensaje representado como bolsa de palabras.\n",
    "    \n",
    "    - feature_names: terminos usados para vectorizar\n",
    "    - data: lista de mensajes original (si data==None no se muestra el mensaje original)\n",
    "    - vector_data: matriz (dispersa) de mensaje vectorizados\n",
    "    - index: posición del mensaje a mostrar\n",
    "    '''\n",
    "    # máscara para seleccionar sólo el mensaje en posición index\n",
    "    mask=vector_data[index,:]>0\n",
    "    \n",
    "    # términos que aparecen en ese mensaje vectorizado\n",
    "    terminos = ma.array(feature_names, mask = ~(mask[0].toarray()))\n",
    "    \n",
    "    # mostrar mensaje original\n",
    "    if data:\n",
    "        print('Mensaje', index, ':', data[index])\n",
    "    \n",
    "    # mostrar términos que aparecen en el mensaje vectorizado\n",
    "    print('Mensaje', index, 'vectorizado:', terminos.compressed(),'\\n')"
   ]
  },
  {
   "cell_type": "code",
   "execution_count": 50,
   "metadata": {},
   "outputs": [],
   "source": [
    "train_vector_data = vectorizer.fit_transform(train_data.data)\n",
    "test_vector_data = vectorizer.fit_transform(test_data.data)"
   ]
  },
  {
   "cell_type": "code",
   "execution_count": 16,
   "metadata": {},
   "outputs": [
    {
     "name": "stdout",
     "output_type": "stream",
     "text": [
      "  (0, 4151)\t1\n",
      "  (0, 52160)\t1\n",
      "  (0, 53807)\t1\n",
      "  (0, 56907)\t1\n",
      "  (0, 78575)\t1\n",
      "  (0, 112523)\t1\n",
      "  (0, 112565)\t1\n",
      "  (0, 124009)\t1\n",
      "  (0, 124372)\t1\n",
      "  (0, 149051)\t1\n",
      "  (0, 177802)\t1\n",
      "  (0, 184493)\t1\n",
      "  (0, 185287)\t1\n",
      "  (0, 190955)\t1\n",
      "  (0, 208543)\t1\n",
      "  (0, 213043)\t1\n",
      "  (0, 218699)\t1\n",
      "  (0, 221810)\t1\n",
      "  (0, 221819)\t1\n",
      "  (0, 225798)\t1\n",
      "  (0, 242690)\t1\n",
      "  (0, 251793)\t1\n",
      "  (0, 271493)\t1\n",
      "  (0, 306014)\t1\n",
      "  (0, 314710)\t1\n",
      "  :\t:\n",
      "  (11313, 12051)\t1\n",
      "  (11313, 31047)\t1\n",
      "  (11313, 110477)\t1\n",
      "  (11313, 124009)\t1\n",
      "  (11313, 163078)\t1\n",
      "  (11313, 170696)\t1\n",
      "  (11313, 192874)\t1\n",
      "  (11313, 217697)\t1\n",
      "  (11313, 218699)\t1\n",
      "  (11313, 239824)\t1\n",
      "  (11313, 265072)\t2\n",
      "  (11313, 271493)\t1\n",
      "  (11313, 306014)\t1\n",
      "  (11313, 340787)\t1\n",
      "  (11313, 359935)\t1\n",
      "  (11313, 360545)\t1\n",
      "  (11313, 365530)\t1\n",
      "  (11313, 385115)\t2\n",
      "  (11313, 389038)\t1\n",
      "  (11313, 391937)\t1\n",
      "  (11313, 398618)\t1\n",
      "  (11313, 400462)\t1\n",
      "  (11313, 410906)\t1\n",
      "  (11313, 413140)\t1\n",
      "  (11313, 419956)\t1\n"
     ]
    }
   ],
   "source": [
    "print(train_vector_data)"
   ]
  },
  {
   "cell_type": "code",
   "execution_count": 17,
   "metadata": {},
   "outputs": [],
   "source": [
    "feature_names = vectorizer.get_feature_names()"
   ]
  },
  {
   "cell_type": "code",
   "execution_count": 18,
   "metadata": {
    "scrolled": true
   },
   "outputs": [
    {
     "name": "stdout",
     "output_type": "stream",
     "text": [
      "number\n"
     ]
    }
   ],
   "source": [
    "print(feature_names[265072])"
   ]
  },
  {
   "cell_type": "code",
   "execution_count": 19,
   "metadata": {
    "scrolled": true
   },
   "outputs": [
    {
     "name": "stdout",
     "output_type": "stream",
     "text": [
      "Mensaje 1 vectorizado: ['acceleration' 'adapters' 'answered' 'article' 'attained' 'brave' 'cards'\n",
      " 'clock' 'days' 'detailing' 'disk' 'especially' 'experiences' 'final'\n",
      " 'floppy' 'floppies' 'functionality' 'heat' 'hour' 'keywords' 'knowledge'\n",
      " 'lines' 'message' 'network' 'number' 'organization' 'oscillator'\n",
      " 'posting' 'procedure' 'rated' 'reports' 'requested' 'send' 'shared'\n",
      " 'sinks' 'souls' 'speed' 'subject' 'summary' 'summarizing' 'thanks'\n",
      " 'upgrade' 'upgraded' 'usage'] \n",
      "\n"
     ]
    }
   ],
   "source": [
    "write_terms(feature_names, None, train_vector_data, 1)"
   ]
  },
  {
   "cell_type": "code",
   "execution_count": 20,
   "metadata": {},
   "outputs": [
    {
     "data": {
      "text/plain": [
       "scipy.sparse.csr.csr_matrix"
      ]
     },
     "execution_count": 20,
     "metadata": {},
     "output_type": "execute_result"
    }
   ],
   "source": [
    "type(train_vector_data)"
   ]
  },
  {
   "cell_type": "markdown",
   "metadata": {},
   "source": [
    "Procedemos a elegir 3 mensajes de cada tipo"
   ]
  },
  {
   "cell_type": "code",
   "execution_count": 21,
   "metadata": {},
   "outputs": [],
   "source": [
    "import random"
   ]
  },
  {
   "cell_type": "code",
   "execution_count": 22,
   "metadata": {
    "scrolled": true
   },
   "outputs": [
    {
     "data": {
      "text/plain": [
       "7532"
      ]
     },
     "execution_count": 22,
     "metadata": {},
     "output_type": "execute_result"
    }
   ],
   "source": [
    "len(test_data.target)"
   ]
  },
  {
   "cell_type": "code",
   "execution_count": 23,
   "metadata": {},
   "outputs": [
    {
     "data": {
      "text/plain": [
       "15"
      ]
     },
     "execution_count": 23,
     "metadata": {},
     "output_type": "execute_result"
    }
   ],
   "source": [
    "test_data.target[103]"
   ]
  },
  {
   "cell_type": "code",
   "execution_count": 24,
   "metadata": {},
   "outputs": [],
   "source": [
    "#while the last element of the sum of all the previous elements (which is the sum of the total selectec texts) \n",
    "#    is less than the desired amount, it will keep choosing candidates\n",
    "\n",
    "selected = [0]*len(test_data.target_names)\n",
    "\n",
    "number_samples = 3\n",
    "\n",
    "selected_index = [0]*len(test_data.target_names)*number_samples\n",
    "\n",
    "while (np.cumsum(selected)[-1] < len(selected)*number_samples):\n",
    "\n",
    "    #Indice aleatorio de la lista de mensajes\n",
    "    index = random.randint(0, len(test_data.target))\n",
    "    #cat = numero de la categoria a la que pertenece el índice elegido\n",
    "    cat = test_data.target[index]\n",
    "    #Comprobamos que no haya ya 3 elementos de la categoría a la que pertenezca el index y lo añadimos a la cuenta y a la lista de índices\n",
    "    #La lista de índices estará ordenada por categorías\n",
    "    if(selected[cat] < 3):\n",
    "        selected_index[cat*number_samples + selected[cat]] = index\n",
    "        selected[cat] += 1"
   ]
  },
  {
   "cell_type": "code",
   "execution_count": 25,
   "metadata": {},
   "outputs": [
    {
     "data": {
      "text/plain": [
       "[3, 3, 3, 3, 3, 3, 3, 3, 3, 3, 3, 3, 3, 3, 3, 3, 3, 3, 3, 3]"
      ]
     },
     "execution_count": 25,
     "metadata": {},
     "output_type": "execute_result"
    }
   ],
   "source": [
    "selected"
   ]
  },
  {
   "cell_type": "code",
   "execution_count": 26,
   "metadata": {
    "scrolled": true
   },
   "outputs": [
    {
     "data": {
      "text/plain": [
       "60"
      ]
     },
     "execution_count": 26,
     "metadata": {},
     "output_type": "execute_result"
    }
   ],
   "source": [
    "np.cumsum(selected)[-1]"
   ]
  },
  {
   "cell_type": "code",
   "execution_count": 27,
   "metadata": {},
   "outputs": [
    {
     "data": {
      "text/plain": [
       "60"
      ]
     },
     "execution_count": 27,
     "metadata": {},
     "output_type": "execute_result"
    }
   ],
   "source": [
    "len(selected_index)"
   ]
  },
  {
   "cell_type": "markdown",
   "metadata": {},
   "source": [
    "Igual merece más la pena ponerlo en una matriz de N*M siendo N el número de elementos por cada clase y M el número de clases"
   ]
  },
  {
   "cell_type": "code",
   "execution_count": 28,
   "metadata": {
    "scrolled": true
   },
   "outputs": [
    {
     "data": {
      "text/plain": [
       "[95,\n",
       " 3112,\n",
       " 4853,\n",
       " 3495,\n",
       " 4330,\n",
       " 7337,\n",
       " 3467,\n",
       " 7041,\n",
       " 6012,\n",
       " 4711,\n",
       " 7094,\n",
       " 3095,\n",
       " 6972,\n",
       " 6319,\n",
       " 6646,\n",
       " 3922,\n",
       " 1933,\n",
       " 2337,\n",
       " 5298,\n",
       " 3106,\n",
       " 1437,\n",
       " 2547,\n",
       " 3791,\n",
       " 4832,\n",
       " 2512,\n",
       " 1291,\n",
       " 6637,\n",
       " 1350,\n",
       " 6346,\n",
       " 1700,\n",
       " 601,\n",
       " 7034,\n",
       " 2616,\n",
       " 5923,\n",
       " 3309,\n",
       " 1215,\n",
       " 7507,\n",
       " 4569,\n",
       " 6152,\n",
       " 4630,\n",
       " 5793,\n",
       " 2137,\n",
       " 7112,\n",
       " 3732,\n",
       " 1621,\n",
       " 6786,\n",
       " 3761,\n",
       " 6729,\n",
       " 4675,\n",
       " 4772,\n",
       " 877,\n",
       " 7101,\n",
       " 1318,\n",
       " 6138,\n",
       " 1675,\n",
       " 6871,\n",
       " 4342,\n",
       " 4635,\n",
       " 2300,\n",
       " 6690]"
      ]
     },
     "execution_count": 28,
     "metadata": {},
     "output_type": "execute_result"
    }
   ],
   "source": [
    "selected_index"
   ]
  },
  {
   "cell_type": "code",
   "execution_count": 174,
   "metadata": {},
   "outputs": [],
   "source": [
    "new_shape = np.reshape(selected_index, [20,3])"
   ]
  },
  {
   "cell_type": "code",
   "execution_count": 175,
   "metadata": {},
   "outputs": [
    {
     "name": "stdout",
     "output_type": "stream",
     "text": [
      "[[  95 3112 4853]\n",
      " [3495 4330 7337]\n",
      " [3467 7041 6012]\n",
      " [4711 7094 3095]\n",
      " [6972 6319 6646]\n",
      " [3922 1933 2337]\n",
      " [5298 3106 1437]\n",
      " [2547 3791 4832]\n",
      " [2512 1291 6637]\n",
      " [1350 6346 1700]\n",
      " [ 601 7034 2616]\n",
      " [5923 3309 1215]\n",
      " [7507 4569 6152]\n",
      " [4630 5793 2137]\n",
      " [7112 3732 1621]\n",
      " [6786 3761 6729]\n",
      " [4675 4772  877]\n",
      " [7101 1318 6138]\n",
      " [1675 6871 4342]\n",
      " [4635 2300 6690]]\n"
     ]
    }
   ],
   "source": [
    "print(new_shape)"
   ]
  },
  {
   "cell_type": "code",
   "execution_count": 176,
   "metadata": {},
   "outputs": [
    {
     "data": {
      "text/plain": [
       "20"
      ]
     },
     "execution_count": 176,
     "metadata": {},
     "output_type": "execute_result"
    }
   ],
   "source": [
    "len(new_shape)"
   ]
  },
  {
   "cell_type": "code",
   "execution_count": 29,
   "metadata": {},
   "outputs": [],
   "source": [
    "from sklearn.metrics.pairwise import cosine_similarity"
   ]
  },
  {
   "cell_type": "code",
   "execution_count": 30,
   "metadata": {},
   "outputs": [
    {
     "data": {
      "text/plain": [
       "scipy.sparse.csr.csr_matrix"
      ]
     },
     "execution_count": 30,
     "metadata": {},
     "output_type": "execute_result"
    }
   ],
   "source": [
    "type(train_vector_data[2252])"
   ]
  },
  {
   "cell_type": "code",
   "execution_count": 31,
   "metadata": {},
   "outputs": [],
   "source": [
    "#indices = selected_index[0:3]\n",
    "#print(indices)\n",
    "#out1 = train_vector_data.tocsc()[indices,:]"
   ]
  },
  {
   "cell_type": "code",
   "execution_count": 32,
   "metadata": {},
   "outputs": [],
   "source": [
    "cosSim1 = cosine_similarity(train_vector_data[2252], train_vector_data)"
   ]
  },
  {
   "cell_type": "markdown",
   "metadata": {},
   "source": [
    "A ver, entonces, lo que creo que hay que hacer es:\n",
    "\n",
    "    1) Hacer el cosine similarity para cada una de las 60 indices que hemos elegido.\n",
    "    2) Agruparlos de 3 en 3 ya que es el número de muestras que nos dicen que cojamos (ponerlo como un parámetro)\n",
    "    3) Ordenar los 20 arrays, en total cada uno tendrá (número de textos)*3 elementos\n",
    "    4) Cuando tengamos todos los elementos ordenador hacemos lo de la exhaustividad (recall, es decir de entre todos los que han dado positivo (que se parecen al texto objetivo) cuantos son realmente de la misma categoría(True Pos/(True Pos + False Neg))) entre valores de 3 y 10. Eso significa que tenemos que ver para los mejores X valores (entre 3 y 10) cuantos son de la misma categoría que la clase que estamos comparando\n",
    "    5) Hacer la media de los "
   ]
  },
  {
   "cell_type": "markdown",
   "metadata": {},
   "source": [
    "Nononono a ver"
   ]
  },
  {
   "cell_type": "markdown",
   "metadata": {},
   "source": [
    "Lo que piden de:  la precisión de la lista de resultados con nivel de exhaustividad 3 y 10.\n",
    "\n",
    "Lo que hay que hacer es: De los X valores que más se parezcan entre los X primeros recuperados. Por lo que símplemente es coger y decir: Si para un nivel de exhaustividad 7, cogemos los 7 elementos que más se parezcan a los textos que hemos metido, después comprobamos de esos 7 cuantos son de la clase a la que perteneces los mensajes seleccionados antes.\n",
    "\n",
    "Entonces, después cogemos esos 8 resultados (los valores de 3 a 10) y hacemos la media. Eso para cada clase.\n",
    "\n",
    "Así podemos ver cual es la clase que más parecidos tiene o algo así (?)\n",
    "\n",
    "\n",
    "Y luego hay que hacer lo mismo pero con el TF-IDF"
   ]
  },
  {
   "cell_type": "markdown",
   "metadata": {},
   "source": [
    "la duda que luego voy a preguntar es que si lo de exhaustivodad de nivel 5 por ejemplo, significa realmente que solo hay que coger los 5 elementos más TOP, me parece raro porque hay miles y miles y quedarse con tan pocos se me hace raro"
   ]
  },
  {
   "cell_type": "markdown",
   "metadata": {},
   "source": [
    "Intentar hacer la movida con funciones para que quede guay y bien indicado"
   ]
  },
  {
   "cell_type": "code",
   "execution_count": 33,
   "metadata": {
    "scrolled": true
   },
   "outputs": [
    {
     "data": {
      "text/plain": [
       "(1, 11314)"
      ]
     },
     "execution_count": 33,
     "metadata": {},
     "output_type": "execute_result"
    }
   ],
   "source": [
    "cosSim1.shape"
   ]
  },
  {
   "cell_type": "code",
   "execution_count": 34,
   "metadata": {},
   "outputs": [],
   "source": [
    "cosSim2 = cosine_similarity(train_vector_data[2251], train_vector_data)"
   ]
  },
  {
   "cell_type": "code",
   "execution_count": 35,
   "metadata": {},
   "outputs": [],
   "source": [
    "cosSim3 = cosine_similarity(train_vector_data[2250], train_vector_data)"
   ]
  },
  {
   "cell_type": "code",
   "execution_count": 36,
   "metadata": {},
   "outputs": [],
   "source": [
    "cosSim = np.concatenate((cosSim1, cosSim2, cosSim3), axis=1)"
   ]
  },
  {
   "cell_type": "code",
   "execution_count": 37,
   "metadata": {},
   "outputs": [
    {
     "data": {
      "text/plain": [
       "numpy.ndarray"
      ]
     },
     "execution_count": 37,
     "metadata": {},
     "output_type": "execute_result"
    }
   ],
   "source": [
    "type(cosSim)"
   ]
  },
  {
   "cell_type": "code",
   "execution_count": 38,
   "metadata": {},
   "outputs": [],
   "source": [
    "cosSim = -np.sort(-cosSim)"
   ]
  },
  {
   "cell_type": "code",
   "execution_count": 39,
   "metadata": {},
   "outputs": [],
   "source": [
    "cosSimFinal = cosSim[0]"
   ]
  },
  {
   "cell_type": "code",
   "execution_count": 64,
   "metadata": {},
   "outputs": [
    {
     "data": {
      "text/plain": [
       "(33942,)"
      ]
     },
     "execution_count": 64,
     "metadata": {},
     "output_type": "execute_result"
    }
   ],
   "source": [
    "cosSimFinal.shape"
   ]
  },
  {
   "cell_type": "code",
   "execution_count": 41,
   "metadata": {},
   "outputs": [],
   "source": [
    "from sklearn.metrics.pairwise import cosine_similarity\n",
    "import pandas as pd"
   ]
  },
  {
   "cell_type": "code",
   "execution_count": 394,
   "metadata": {},
   "outputs": [
    {
     "name": "stdout",
     "output_type": "stream",
     "text": [
      "[0.742    0.4873   0.254864]\n"
     ]
    }
   ],
   "source": [
    "x = np.array([0.254864, 0.4873, 0.742])\n",
    "\n",
    "print(-np.sort(-x))"
   ]
  },
  {
   "cell_type": "code",
   "execution_count": 387,
   "metadata": {},
   "outputs": [],
   "source": [
    "def sortSimilarityIndex(cosSim):\n",
    "    \n",
    "    for i, category in enumerate(cosSim):\n",
    "        for j, sim in enumerate(category):\n",
    "            cosSim[i][j] = np.argsort(-sim)\n",
    "    return cosSim"
   ]
  },
  {
   "cell_type": "code",
   "execution_count": 386,
   "metadata": {},
   "outputs": [],
   "source": [
    "def cosSim_calc2(indexes, test_vector, train_vector):\n",
    "    cosSim = np.zeros(indexes.shape, object)\n",
    "    for i, indexList in enumerate(indexes):\n",
    "        for j, index in enumerate(indexList):\n",
    "            cosSim[i][j] = cosine_similarity(test_vector[index], train_vector)[0]\n",
    "    return cosSim"
   ]
  },
  {
   "cell_type": "code",
   "execution_count": 397,
   "metadata": {
    "scrolled": false
   },
   "outputs": [],
   "source": [
    "cos_sim2 = cosSim_calc2(new_shape,test_vector_data, train_vector_data)"
   ]
  },
  {
   "cell_type": "code",
   "execution_count": 339,
   "metadata": {},
   "outputs": [
    {
     "data": {
      "text/plain": [
       "11314"
      ]
     },
     "execution_count": 339,
     "metadata": {},
     "output_type": "execute_result"
    }
   ],
   "source": [
    "len(cos_sim2[0][0])"
   ]
  },
  {
   "cell_type": "code",
   "execution_count": 398,
   "metadata": {
    "scrolled": true
   },
   "outputs": [],
   "source": [
    "cos = sortSimilarityIndex(cos_sim2)"
   ]
  },
  {
   "cell_type": "code",
   "execution_count": 351,
   "metadata": {},
   "outputs": [
    {
     "data": {
      "text/plain": [
       "15"
      ]
     },
     "execution_count": 351,
     "metadata": {},
     "output_type": "execute_result"
    }
   ],
   "source": [
    "train_data.target[11117]"
   ]
  },
  {
   "cell_type": "code",
   "execution_count": 382,
   "metadata": {},
   "outputs": [
    {
     "data": {
      "text/plain": [
       "0.2525934760075915"
      ]
     },
     "execution_count": 382,
     "metadata": {},
     "output_type": "execute_result"
    }
   ],
   "source": [
    "cos[0][0][11117]"
   ]
  },
  {
   "cell_type": "code",
   "execution_count": 399,
   "metadata": {},
   "outputs": [
    {
     "name": "stdout",
     "output_type": "stream",
     "text": [
      "[[array([11117,  7260,  9430, ...,   144,  1541,  9412], dtype=int64)\n",
      "  array([ 500,  335, 8710, ..., 1541, 3382, 9412], dtype=int64)\n",
      "  array([1889, 3528, 6884, ...,  144, 9412, 1541], dtype=int64)]\n",
      " [array([ 7359, 10907,  4166, ...,  1541,  5829,  9412], dtype=int64)\n",
      "  array([10226,  4583,  8251, ...,   144,  1541,  9412], dtype=int64)\n",
      "  array([ 5405, 11082,  1041, ...,   144,  1541,  9412], dtype=int64)]\n",
      " [array([2140, 6511, 4817, ..., 4582,  144, 9412], dtype=int64)\n",
      "  array([ 171, 1603,  820, ..., 8519,  144, 1541], dtype=int64)\n",
      "  array([11232,  8484,  3825, ...,  3629,  8519,  9412], dtype=int64)]\n",
      " [array([1585, 1677, 2897, ..., 1541, 9412, 8519], dtype=int64)\n",
      "  array([1339,  685,  943, ..., 4582, 9412, 3382], dtype=int64)\n",
      "  array([ 3972,  6796,  7961, ...,  3629,  9412, 10433], dtype=int64)]\n",
      " [array([11232, 10451,   776, ...,   144,  1541,  9412], dtype=int64)\n",
      "  array([ 8303,  2735,  3048, ..., 10275,  1541,  9412], dtype=int64)\n",
      "  array([ 3588,  8851,  1960, ..., 10275,  1541,  9412], dtype=int64)]\n",
      " [array([  12, 1943, 2371, ..., 3629,  144, 1541], dtype=int64)\n",
      "  array([7687, 9507, 2848, ...,  144, 1541, 9412], dtype=int64)\n",
      "  array([2695, 6769, 2799, ..., 3629, 9412, 8519], dtype=int64)]\n",
      " [array([10555,  6541,  3163, ...,  4582,   144,  1541], dtype=int64)\n",
      "  array([10291,  7816,  4960, ..., 10275,   144,  1541], dtype=int64)\n",
      "  array([9160, 6815,  680, ...,  144, 1541, 9412], dtype=int64)]\n",
      " [array([ 4467,  6902, 10692, ...,  4582,  9412,  1541], dtype=int64)\n",
      "  array([ 2434,  8150,  3386, ...,  1541, 10433,  8519], dtype=int64)\n",
      "  array([7719, 2078, 5956, ..., 1541, 1554, 3382], dtype=int64)]\n",
      " [array([7996,  335, 9014, ..., 3382,  144, 1541], dtype=int64)\n",
      "  array([11140,  1053,  6728, ...,   144,  1541,  9412], dtype=int64)\n",
      "  array([10771, 11140,  1053, ...,   144,  1541,  9412], dtype=int64)]\n",
      " [array([  355, 11006,  1542, ...,   144,  9412,  1541], dtype=int64)\n",
      "  array([1542,  713, 1461, ..., 1541, 4582, 9412], dtype=int64)\n",
      "  array([3244, 8496, 2927, ..., 1541, 3382, 9412], dtype=int64)]\n",
      " [array([   12,  7098,  5436, ..., 10275,  1541,  3382], dtype=int64)\n",
      "  array([2080, 6884, 2545, ..., 3629,  144, 1541], dtype=int64)\n",
      "  array([10120,  4260,    57, ...,  1492,   144,  1541], dtype=int64)]\n",
      " [array([11074, 10575,  6116, ...,  1492,   144,  1541], dtype=int64)\n",
      "  array([10156,  5311,  7198, ...,   144,  1541,  9412], dtype=int64)\n",
      "  array([ 4962,  6754,  3287, ..., 10275,  1541,  9412], dtype=int64)]\n",
      " [array([9010, 3113, 5573, ...,  144, 1541, 9412], dtype=int64)\n",
      "  array([ 8841,  3933, 10486, ...,  3629,  9412,  3382], dtype=int64)\n",
      "  array([ 2284,  6664, 10220, ...,   782,  9412,  8519], dtype=int64)]\n",
      " [array([  31, 8781, 8270, ...,  144, 1541, 9412], dtype=int64)\n",
      "  array([10526,  7712,   160, ...,  1541,  4582,  9412], dtype=int64)\n",
      "  array([ 6760,  9403,  5402, ..., 10275,  1541,  9412], dtype=int64)]\n",
      " [array([ 9001,  6484, 10548, ...,  1492,   144,  1541], dtype=int64)\n",
      "  array([5311, 7198, 2218, ..., 8519, 1541, 9412], dtype=int64)\n",
      "  array([ 5434,   335,   407, ..., 10275,  1541,  9412], dtype=int64)]\n",
      " [array([ 551, 6700, 1147, ..., 8519, 1541, 9412], dtype=int64)\n",
      "  array([8795, 5200, 5264, ..., 1541, 3382, 9412], dtype=int64)\n",
      "  array([7978, 1410, 9327, ..., 2350, 3746, 4234], dtype=int64)]\n",
      " [array([6833, 2383, 9369, ..., 9412, 3285, 8519], dtype=int64)\n",
      "  array([9650, 7183, 1452, ...,  144, 1541, 9412], dtype=int64)\n",
      "  array([ 8484,  4474, 10169, ...,   144,  1541,  9412], dtype=int64)]\n",
      " [array([ 4860,  8253, 11201, ...,   144,  1541,  1554], dtype=int64)\n",
      "  array([3117, 2177,  219, ...,  144, 1541, 9412], dtype=int64)\n",
      "  array([10912,   786,   928, ...,  1541,  4515,   144], dtype=int64)]\n",
      " [array([ 8601,   286,  4965, ..., 10275,   144,  1541], dtype=int64)\n",
      "  array([9582, 6884, 6492, ..., 1541, 8519, 3382], dtype=int64)\n",
      "  array([6609, 8933, 4924, ...,  144, 1541, 9412], dtype=int64)]\n",
      " [array([5814, 3480, 8973, ...,  144, 1541, 9412], dtype=int64)\n",
      "  array([8550, 8899, 8660, ..., 3629, 9412, 8519], dtype=int64)\n",
      "  array([4053, 5482,  324, ..., 9412, 1554, 8519], dtype=int64)]]\n"
     ]
    }
   ],
   "source": [
    "print(cos)"
   ]
  },
  {
   "cell_type": "code",
   "execution_count": 274,
   "metadata": {},
   "outputs": [
    {
     "data": {
      "text/plain": [
       "array([0.25259348, 0.23823145, 0.23426064, ..., 0.0045243 , 0.00406627,\n",
       "       0.00332009])"
      ]
     },
     "execution_count": 274,
     "metadata": {},
     "output_type": "execute_result"
    }
   ],
   "source": [
    "cos[0][0][0]"
   ]
  },
  {
   "cell_type": "code",
   "execution_count": 65,
   "metadata": {},
   "outputs": [],
   "source": [
    "#Funcion que le metes los índices seleccionados, el número de elementos por categoría y/o  el número de categorías\n",
    "#Devuelve un array con un número de columnas igual al número de categorías y número de filas igual al\n",
    "#    (número de textos - 1)*número de elementos elegidos por categoría - 3. El - 3 es para quitar las comparaciones de los textos\n",
    "#    con ellos mismos. La lista está completamente ordenada de mayor a menor.\n",
    "\n",
    "def cosSim_calc(indexes, elem, rows, numCat = None):\n",
    "    print(indexes)\n",
    "    print(len(indexes))\n",
    "    \n",
    "    cols = int(len(indexes)/elem)\n",
    "    print(rows, cols)\n",
    "    \n",
    "    sim = [[0]*rows]*cols\n",
    "    \n",
    "    col = 0\n",
    "    tempBatch_index = []\n",
    "    #Para cada indice seleccionado hacemos la cosine_similarity\n",
    "    for index in indexes:\n",
    "        \n",
    "        #Cogemos un grupo de \"elem\" elementos, de esta manera tendremos los indices con los que vamos a trabajar a continuación\n",
    "        tempBatch_index.append(index)\n",
    "        \n",
    "        #Si ya hemos cogido los \"elem\" elementos, procedemos a usarlos\n",
    "        if(len(tempBatch_index) == 3):\n",
    "            #print(tempBatch_index)\n",
    "            #Los agrupamos por categorías\n",
    "            agg = []\n",
    "            print(col)\n",
    "            for i in range(elem):\n",
    "                cosSim = cosine_similarity(test_vector_data[tempBatch_index[i]], train_vector_data)\n",
    "                agg = np.concatenate((agg, cosSim[0]))\n",
    "                #print(-np.sort(-agg))\n",
    "                \n",
    "            #Transformamos la representación de la información a dataFrames para poder mantener tener la categoría de cada elemento\n",
    "            info = pd.DataFrame(agg, columns=['puntuacion'])\n",
    "            #juntamos los indices para que coincidan con la información del DataFrame\n",
    "            categorias = np.array([])\n",
    "            for i in range(elem):\n",
    "                categorias = np.append(categorias, train_data.target)\n",
    "            \n",
    "            info['categoria'] = categorias\n",
    "            info = info.sort_values(by='puntuacion', ascending=False)\n",
    "            #info = info[elem:]\n",
    "            sim[col] = info\n",
    "            print(max(sim[col]['puntuacion']))\n",
    "            #print(agg[:5])\n",
    "            #sim[col] = -np.sort(-agg)\n",
    "            #print(sim[col])\n",
    "            #Ahora quitamos los elementos que son =1, es decir los que se han comparado con si mismos, que ahora están en las \"elem\"\n",
    "            #    primeras posiciones\n",
    "            #sim[col] = sim[col][elem:]\n",
    "            \n",
    "            #print(sim[col][:10])\n",
    "            #print(max(sim[col]))\n",
    "            #print(tempBatch_index)\n",
    "            col+=1\n",
    "            tempBatch_index = []\n",
    "\n",
    "    \n",
    "    \n",
    "    return sim"
   ]
  },
  {
   "cell_type": "code",
   "execution_count": 66,
   "metadata": {
    "scrolled": true
   },
   "outputs": [
    {
     "name": "stdout",
     "output_type": "stream",
     "text": [
      "[95, 3112, 4853, 3495, 4330, 7337, 3467, 7041, 6012, 4711, 7094, 3095, 6972, 6319, 6646, 3922, 1933, 2337, 5298, 3106, 1437, 2547, 3791, 4832, 2512, 1291, 6637, 1350, 6346, 1700, 601, 7034, 2616, 5923, 3309, 1215, 7507, 4569, 6152, 4630, 5793, 2137, 7112, 3732, 1621, 6786, 3761, 6729, 4675, 4772, 877, 7101, 1318, 6138, 1675, 6871, 4342, 4635, 2300, 6690]\n",
      "60\n",
      "11314 20\n",
      "0\n",
      "0.44866998231315963\n",
      "1\n",
      "0.5940885257860047\n",
      "2\n",
      "0.45939149659322087\n",
      "3\n",
      "0.6761070917156279\n",
      "4\n",
      "0.4097999809317564\n",
      "5\n",
      "0.37363235887853663\n",
      "6\n",
      "0.9697651491183022\n",
      "7\n",
      "0.4313489850488289\n",
      "8\n",
      "0.6520506636966266\n",
      "9\n",
      "0.35148175122006836\n",
      "10\n",
      "0.386333704643128\n",
      "11\n",
      "0.7498063766587063\n",
      "12\n",
      "0.7540739028638984\n",
      "13\n",
      "0.31193682406898127\n",
      "14\n",
      "0.6079476701167376\n",
      "15\n",
      "0.5892556509887895\n",
      "16\n",
      "0.4140043409440132\n",
      "17\n",
      "0.6549612691572329\n",
      "18\n",
      "0.4813299149207704\n",
      "19\n",
      "0.4542199791661352\n"
     ]
    }
   ],
   "source": [
    "cos_sim = cosSim_calc(selected_index, 3, len(train_data.data))"
   ]
  },
  {
   "cell_type": "code",
   "execution_count": 194,
   "metadata": {},
   "outputs": [
    {
     "data": {
      "text/plain": [
       "33942"
      ]
     },
     "execution_count": 194,
     "metadata": {},
     "output_type": "execute_result"
    }
   ],
   "source": [
    "len(cos_sim[0])"
   ]
  },
  {
   "cell_type": "code",
   "execution_count": 67,
   "metadata": {},
   "outputs": [
    {
     "data": {
      "text/plain": [
       "33942"
      ]
     },
     "execution_count": 67,
     "metadata": {},
     "output_type": "execute_result"
    }
   ],
   "source": [
    "len(cos_sim[0])"
   ]
  },
  {
   "cell_type": "code",
   "execution_count": 68,
   "metadata": {},
   "outputs": [
    {
     "data": {
      "text/plain": [
       "list"
      ]
     },
     "execution_count": 68,
     "metadata": {},
     "output_type": "execute_result"
    }
   ],
   "source": [
    "type(cos_sim)"
   ]
  },
  {
   "cell_type": "code",
   "execution_count": 70,
   "metadata": {
    "scrolled": true
   },
   "outputs": [
    {
     "name": "stdout",
     "output_type": "stream",
     "text": [
      "0.31193682406898127\n"
     ]
    }
   ],
   "source": [
    "print(max(cos_sim[13]['puntuacion'].values))"
   ]
  },
  {
   "cell_type": "markdown",
   "metadata": {},
   "source": [
    "Ahora toca hacer los niveles de exhaustividad con la información bien colocadita que tenemos aquí\n",
    "\n",
    "Lo que vamos a hacer es dejar en una matriz de N*M los resultados del recall\n",
    "    Siendo N=número de clases y M=niveles de exhaustividad"
   ]
  },
  {
   "cell_type": "code",
   "execution_count": 84,
   "metadata": {},
   "outputs": [
    {
     "data": {
      "text/html": [
       "<div>\n",
       "<style scoped>\n",
       "    .dataframe tbody tr th:only-of-type {\n",
       "        vertical-align: middle;\n",
       "    }\n",
       "\n",
       "    .dataframe tbody tr th {\n",
       "        vertical-align: top;\n",
       "    }\n",
       "\n",
       "    .dataframe thead th {\n",
       "        text-align: right;\n",
       "    }\n",
       "</style>\n",
       "<table border=\"1\" class=\"dataframe\">\n",
       "  <thead>\n",
       "    <tr style=\"text-align: right;\">\n",
       "      <th></th>\n",
       "      <th>puntuacion</th>\n",
       "      <th>categoria</th>\n",
       "    </tr>\n",
       "  </thead>\n",
       "  <tbody>\n",
       "    <tr>\n",
       "      <td>7359</td>\n",
       "      <td>0.594089</td>\n",
       "      <td>1.0</td>\n",
       "    </tr>\n",
       "    <tr>\n",
       "      <td>28033</td>\n",
       "      <td>0.521286</td>\n",
       "      <td>1.0</td>\n",
       "    </tr>\n",
       "    <tr>\n",
       "      <td>33710</td>\n",
       "      <td>0.440959</td>\n",
       "      <td>1.0</td>\n",
       "    </tr>\n",
       "    <tr>\n",
       "      <td>23669</td>\n",
       "      <td>0.434975</td>\n",
       "      <td>1.0</td>\n",
       "    </tr>\n",
       "    <tr>\n",
       "      <td>10907</td>\n",
       "      <td>0.424264</td>\n",
       "      <td>1.0</td>\n",
       "    </tr>\n",
       "    <tr>\n",
       "      <td>...</td>\n",
       "      <td>...</td>\n",
       "      <td>...</td>\n",
       "    </tr>\n",
       "    <tr>\n",
       "      <td>9412</td>\n",
       "      <td>0.006013</td>\n",
       "      <td>10.0</td>\n",
       "    </tr>\n",
       "    <tr>\n",
       "      <td>11458</td>\n",
       "      <td>0.005246</td>\n",
       "      <td>2.0</td>\n",
       "    </tr>\n",
       "    <tr>\n",
       "      <td>32040</td>\n",
       "      <td>0.005011</td>\n",
       "      <td>10.0</td>\n",
       "    </tr>\n",
       "    <tr>\n",
       "      <td>12855</td>\n",
       "      <td>0.004715</td>\n",
       "      <td>2.0</td>\n",
       "    </tr>\n",
       "    <tr>\n",
       "      <td>20726</td>\n",
       "      <td>0.003849</td>\n",
       "      <td>10.0</td>\n",
       "    </tr>\n",
       "  </tbody>\n",
       "</table>\n",
       "<p>33942 rows × 2 columns</p>\n",
       "</div>"
      ],
      "text/plain": [
       "       puntuacion  categoria\n",
       "7359     0.594089        1.0\n",
       "28033    0.521286        1.0\n",
       "33710    0.440959        1.0\n",
       "23669    0.434975        1.0\n",
       "10907    0.424264        1.0\n",
       "...           ...        ...\n",
       "9412     0.006013       10.0\n",
       "11458    0.005246        2.0\n",
       "32040    0.005011       10.0\n",
       "12855    0.004715        2.0\n",
       "20726    0.003849       10.0\n",
       "\n",
       "[33942 rows x 2 columns]"
      ]
     },
     "execution_count": 84,
     "metadata": {},
     "output_type": "execute_result"
    }
   ],
   "source": [
    "cos_sim[1]"
   ]
  },
  {
   "cell_type": "code",
   "execution_count": 435,
   "metadata": {},
   "outputs": [],
   "source": [
    "def nivelesExhaustividad(data, nivel_min = 3, nivel_max = 10):\n",
    "    #exhaustN = np.zeros(data.shape, object)\n",
    "    exhaust = []\n",
    "    \n",
    "    for nivel in range(nivel_min, nivel_max + 1):\n",
    "        exhaustN = np.zeros(data.shape, object)\n",
    "        for i, indexList in enumerate(data):\n",
    "            for j, index in enumerate(indexList):\n",
    "                exhaustN[i][j] = data[i][j][:nivel:1]\n",
    "        exhaust.append(exhaustN)\n",
    "        \n",
    "        exhaustNP = np.array(exhaust)\n",
    "        \n",
    "    return exhaustNP"
   ]
  },
  {
   "cell_type": "code",
   "execution_count": 436,
   "metadata": {},
   "outputs": [],
   "source": [
    "exhaustIndex = nivelesExhaustividad(cos)"
   ]
  },
  {
   "cell_type": "code",
   "execution_count": 437,
   "metadata": {},
   "outputs": [
    {
     "name": "stdout",
     "output_type": "stream",
     "text": [
      "[[[array([11117,  7260,  9430], dtype=int64)\n",
      "   array([ 500,  335, 8710], dtype=int64)\n",
      "   array([1889, 3528, 6884], dtype=int64)]\n",
      "  [array([ 7359, 10907,  4166], dtype=int64)\n",
      "   array([10226,  4583,  8251], dtype=int64)\n",
      "   array([ 5405, 11082,  1041], dtype=int64)]\n",
      "  [array([2140, 6511, 4817], dtype=int64)\n",
      "   array([ 171, 1603,  820], dtype=int64)\n",
      "   array([11232,  8484,  3825], dtype=int64)]\n",
      "  [array([1585, 1677, 2897], dtype=int64)\n",
      "   array([1339,  685,  943], dtype=int64)\n",
      "   array([3972, 6796, 7961], dtype=int64)]\n",
      "  [array([11232, 10451,   776], dtype=int64)\n",
      "   array([8303, 2735, 3048], dtype=int64)\n",
      "   array([3588, 8851, 1960], dtype=int64)]\n",
      "  [array([  12, 1943, 2371], dtype=int64)\n",
      "   array([7687, 9507, 2848], dtype=int64)\n",
      "   array([2695, 6769, 2799], dtype=int64)]\n",
      "  [array([10555,  6541,  3163], dtype=int64)\n",
      "   array([10291,  7816,  4960], dtype=int64)\n",
      "   array([9160, 6815,  680], dtype=int64)]\n",
      "  [array([ 4467,  6902, 10692], dtype=int64)\n",
      "   array([2434, 8150, 3386], dtype=int64)\n",
      "   array([7719, 2078, 5956], dtype=int64)]\n",
      "  [array([7996,  335, 9014], dtype=int64)\n",
      "   array([11140,  1053,  6728], dtype=int64)\n",
      "   array([10771, 11140,  1053], dtype=int64)]\n",
      "  [array([  355, 11006,  1542], dtype=int64)\n",
      "   array([1542,  713, 1461], dtype=int64)\n",
      "   array([3244, 8496, 2927], dtype=int64)]\n",
      "  [array([  12, 7098, 5436], dtype=int64)\n",
      "   array([2080, 6884, 2545], dtype=int64)\n",
      "   array([10120,  4260,    57], dtype=int64)]\n",
      "  [array([11074, 10575,  6116], dtype=int64)\n",
      "   array([10156,  5311,  7198], dtype=int64)\n",
      "   array([4962, 6754, 3287], dtype=int64)]\n",
      "  [array([9010, 3113, 5573], dtype=int64)\n",
      "   array([ 8841,  3933, 10486], dtype=int64)\n",
      "   array([ 2284,  6664, 10220], dtype=int64)]\n",
      "  [array([  31, 8781, 8270], dtype=int64)\n",
      "   array([10526,  7712,   160], dtype=int64)\n",
      "   array([6760, 9403, 5402], dtype=int64)]\n",
      "  [array([ 9001,  6484, 10548], dtype=int64)\n",
      "   array([5311, 7198, 2218], dtype=int64)\n",
      "   array([5434,  335,  407], dtype=int64)]\n",
      "  [array([ 551, 6700, 1147], dtype=int64)\n",
      "   array([8795, 5200, 5264], dtype=int64)\n",
      "   array([7978, 1410, 9327], dtype=int64)]\n",
      "  [array([6833, 2383, 9369], dtype=int64)\n",
      "   array([9650, 7183, 1452], dtype=int64)\n",
      "   array([ 8484,  4474, 10169], dtype=int64)]\n",
      "  [array([ 4860,  8253, 11201], dtype=int64)\n",
      "   array([3117, 2177,  219], dtype=int64)\n",
      "   array([10912,   786,   928], dtype=int64)]\n",
      "  [array([8601,  286, 4965], dtype=int64)\n",
      "   array([9582, 6884, 6492], dtype=int64)\n",
      "   array([6609, 8933, 4924], dtype=int64)]\n",
      "  [array([5814, 3480, 8973], dtype=int64)\n",
      "   array([8550, 8899, 8660], dtype=int64)\n",
      "   array([4053, 5482,  324], dtype=int64)]]\n",
      "\n",
      " [[array([11117,  7260,  9430,  7480], dtype=int64)\n",
      "   array([ 500,  335, 8710, 8635], dtype=int64)\n",
      "   array([1889, 3528, 6884, 9789], dtype=int64)]\n",
      "  [array([ 7359, 10907,  4166, 10383], dtype=int64)\n",
      "   array([10226,  4583,  8251,  5288], dtype=int64)\n",
      "   array([ 5405, 11082,  1041,  6644], dtype=int64)]\n",
      "  [array([2140, 6511, 4817, 9121], dtype=int64)\n",
      "   array([ 171, 1603,  820, 7683], dtype=int64)\n",
      "   array([11232,  8484,  3825,  4887], dtype=int64)]\n",
      "  [array([1585, 1677, 2897, 3245], dtype=int64)\n",
      "   array([1339,  685,  943, 7591], dtype=int64)\n",
      "   array([3972, 6796, 7961, 2371], dtype=int64)]\n",
      "  [array([11232, 10451,   776, 10622], dtype=int64)\n",
      "   array([8303, 2735, 3048, 8545], dtype=int64)\n",
      "   array([3588, 8851, 1960, 2832], dtype=int64)]\n",
      "  [array([   12,  1943,  2371, 10714], dtype=int64)\n",
      "   array([7687, 9507, 2848, 5329], dtype=int64)\n",
      "   array([2695, 6769, 2799, 4058], dtype=int64)]\n",
      "  [array([10555,  6541,  3163,  5345], dtype=int64)\n",
      "   array([10291,  7816,  4960,  4138], dtype=int64)\n",
      "   array([9160, 6815,  680, 2202], dtype=int64)]\n",
      "  [array([ 4467,  6902, 10692,  2673], dtype=int64)\n",
      "   array([2434, 8150, 3386, 9500], dtype=int64)\n",
      "   array([7719, 2078, 5956, 6106], dtype=int64)]\n",
      "  [array([7996,  335, 9014, 3093], dtype=int64)\n",
      "   array([11140,  1053,  6728,  8293], dtype=int64)\n",
      "   array([10771, 11140,  1053,  6728], dtype=int64)]\n",
      "  [array([  355, 11006,  1542,  8745], dtype=int64)\n",
      "   array([1542,  713, 1461, 7029], dtype=int64)\n",
      "   array([3244, 8496, 2927, 4070], dtype=int64)]\n",
      "  [array([   12,  7098,  5436, 10714], dtype=int64)\n",
      "   array([2080, 6884, 2545, 1467], dtype=int64)\n",
      "   array([10120,  4260,    57,  6361], dtype=int64)]\n",
      "  [array([11074, 10575,  6116,  1379], dtype=int64)\n",
      "   array([10156,  5311,  7198,  1703], dtype=int64)\n",
      "   array([4962, 6754, 3287, 6166], dtype=int64)]\n",
      "  [array([9010, 3113, 5573, 4906], dtype=int64)\n",
      "   array([ 8841,  3933, 10486, 11147], dtype=int64)\n",
      "   array([ 2284,  6664, 10220,  4248], dtype=int64)]\n",
      "  [array([  31, 8781, 8270, 5622], dtype=int64)\n",
      "   array([10526,  7712,   160,  8898], dtype=int64)\n",
      "   array([ 6760,  9403,  5402, 10633], dtype=int64)]\n",
      "  [array([ 9001,  6484, 10548,  9986], dtype=int64)\n",
      "   array([5311, 7198, 2218, 7300], dtype=int64)\n",
      "   array([5434,  335,  407, 7996], dtype=int64)]\n",
      "  [array([ 551, 6700, 1147, 2118], dtype=int64)\n",
      "   array([ 8795,  5200,  5264, 10172], dtype=int64)\n",
      "   array([7978, 1410, 9327, 4285], dtype=int64)]\n",
      "  [array([6833, 2383, 9369, 1752], dtype=int64)\n",
      "   array([ 9650,  7183,  1452, 10659], dtype=int64)\n",
      "   array([ 8484,  4474, 10169,  2130], dtype=int64)]\n",
      "  [array([ 4860,  8253, 11201,  7700], dtype=int64)\n",
      "   array([ 3117,  2177,   219, 10289], dtype=int64)\n",
      "   array([10912,   786,   928,  7674], dtype=int64)]\n",
      "  [array([8601,  286, 4965, 4725], dtype=int64)\n",
      "   array([9582, 6884, 6492, 1705], dtype=int64)\n",
      "   array([6609, 8933, 4924, 2263], dtype=int64)]\n",
      "  [array([5814, 3480, 8973, 5970], dtype=int64)\n",
      "   array([ 8550,  8899,  8660, 10392], dtype=int64)\n",
      "   array([ 4053,  5482,   324, 10169], dtype=int64)]]\n",
      "\n",
      " [[array([11117,  7260,  9430,  7480,  3749], dtype=int64)\n",
      "   array([ 500,  335, 8710, 8635, 5292], dtype=int64)\n",
      "   array([1889, 3528, 6884, 9789, 5254], dtype=int64)]\n",
      "  [array([ 7359, 10907,  4166, 10383, 10104], dtype=int64)\n",
      "   array([10226,  4583,  8251,  5288, 10697], dtype=int64)\n",
      "   array([ 5405, 11082,  1041,  6644,  1457], dtype=int64)]\n",
      "  [array([2140, 6511, 4817, 9121, 5955], dtype=int64)\n",
      "   array([ 171, 1603,  820, 7683, 3004], dtype=int64)\n",
      "   array([11232,  8484,  3825,  4887,  4138], dtype=int64)]\n",
      "  [array([1585, 1677, 2897, 3245, 5405], dtype=int64)\n",
      "   array([1339,  685,  943, 7591, 2075], dtype=int64)\n",
      "   array([3972, 6796, 7961, 2371, 7611], dtype=int64)]\n",
      "  [array([11232, 10451,   776, 10622,  5351], dtype=int64)\n",
      "   array([ 8303,  2735,  3048,  8545, 10988], dtype=int64)\n",
      "   array([3588, 8851, 1960, 2832, 8110], dtype=int64)]\n",
      "  [array([   12,  1943,  2371, 10714,  6255], dtype=int64)\n",
      "   array([7687, 9507, 2848, 5329, 9929], dtype=int64)\n",
      "   array([2695, 6769, 2799, 4058,  395], dtype=int64)]\n",
      "  [array([10555,  6541,  3163,  5345, 10615], dtype=int64)\n",
      "   array([10291,  7816,  4960,  4138,  6479], dtype=int64)\n",
      "   array([9160, 6815,  680, 2202, 1792], dtype=int64)]\n",
      "  [array([ 4467,  6902, 10692,  2673,  1967], dtype=int64)\n",
      "   array([2434, 8150, 3386, 9500, 4211], dtype=int64)\n",
      "   array([7719, 2078, 5956, 6106, 4349], dtype=int64)]\n",
      "  [array([7996,  335, 9014, 3093, 4424], dtype=int64)\n",
      "   array([11140,  1053,  6728,  8293,    95], dtype=int64)\n",
      "   array([10771, 11140,  1053,  6728,  8293], dtype=int64)]\n",
      "  [array([  355, 11006,  1542,  8745,  3298], dtype=int64)\n",
      "   array([1542,  713, 1461, 7029,   89], dtype=int64)\n",
      "   array([3244, 8496, 2927, 4070, 3463], dtype=int64)]\n",
      "  [array([   12,  7098,  5436, 10714,   640], dtype=int64)\n",
      "   array([2080, 6884, 2545, 1467, 9789], dtype=int64)\n",
      "   array([10120,  4260,    57,  6361,  7685], dtype=int64)]\n",
      "  [array([11074, 10575,  6116,  1379, 11227], dtype=int64)\n",
      "   array([10156,  5311,  7198,  1703,  9742], dtype=int64)\n",
      "   array([4962, 6754, 3287, 6166, 9509], dtype=int64)]\n",
      "  [array([9010, 3113, 5573, 4906, 1588], dtype=int64)\n",
      "   array([ 8841,  3933, 10486, 11147,    90], dtype=int64)\n",
      "   array([ 2284,  6664, 10220,  4248,  9815], dtype=int64)]\n",
      "  [array([   31,  8781,  8270,  5622, 10483], dtype=int64)\n",
      "   array([10526,  7712,   160,  8898, 10155], dtype=int64)\n",
      "   array([ 6760,  9403,  5402, 10633,  9970], dtype=int64)]\n",
      "  [array([ 9001,  6484, 10548,  9986,  2800], dtype=int64)\n",
      "   array([5311, 7198, 2218, 7300, 7944], dtype=int64)\n",
      "   array([5434,  335,  407, 7996, 9569], dtype=int64)]\n",
      "  [array([ 551, 6700, 1147, 2118, 7332], dtype=int64)\n",
      "   array([ 8795,  5200,  5264, 10172,  3660], dtype=int64)\n",
      "   array([7978, 1410, 9327, 4285, 1228], dtype=int64)]\n",
      "  [array([ 6833,  2383,  9369,  1752, 10723], dtype=int64)\n",
      "   array([ 9650,  7183,  1452, 10659,  4097], dtype=int64)\n",
      "   array([ 8484,  4474, 10169,  2130,   790], dtype=int64)]\n",
      "  [array([ 4860,  8253, 11201,  7700,  1725], dtype=int64)\n",
      "   array([ 3117,  2177,   219, 10289,  3101], dtype=int64)\n",
      "   array([10912,   786,   928,  7674,    70], dtype=int64)]\n",
      "  [array([8601,  286, 4965, 4725, 3924], dtype=int64)\n",
      "   array([9582, 6884, 6492, 1705, 9789], dtype=int64)\n",
      "   array([6609, 8933, 4924, 2263, 8495], dtype=int64)]\n",
      "  [array([5814, 3480, 8973, 5970,  727], dtype=int64)\n",
      "   array([ 8550,  8899,  8660, 10392,  3652], dtype=int64)\n",
      "   array([ 4053,  5482,   324, 10169,  8484], dtype=int64)]]\n",
      "\n",
      " [[array([11117,  7260,  9430,  7480,  3749,   586], dtype=int64)\n",
      "   array([  500,   335,  8710,  8635,  5292, 10194], dtype=int64)\n",
      "   array([ 1889,  3528,  6884,  9789,  5254, 10169], dtype=int64)]\n",
      "  [array([ 7359, 10907,  4166, 10383, 10104,  3284], dtype=int64)\n",
      "   array([10226,  4583,  8251,  5288, 10697,  6680], dtype=int64)\n",
      "   array([ 5405, 11082,  1041,  6644,  1457, 10849], dtype=int64)]\n",
      "  [array([2140, 6511, 4817, 9121, 5955, 1546], dtype=int64)\n",
      "   array([ 171, 1603,  820, 7683, 3004, 2906], dtype=int64)\n",
      "   array([11232,  8484,  3825,  4887,  4138,  4978], dtype=int64)]\n",
      "  [array([1585, 1677, 2897, 3245, 5405, 8394], dtype=int64)\n",
      "   array([1339,  685,  943, 7591, 2075, 8048], dtype=int64)\n",
      "   array([3972, 6796, 7961, 2371, 7611, 3651], dtype=int64)]\n",
      "  [array([11232, 10451,   776, 10622,  5351, 10309], dtype=int64)\n",
      "   array([ 8303,  2735,  3048,  8545, 10988,  7202], dtype=int64)\n",
      "   array([3588, 8851, 1960, 2832, 8110, 3849], dtype=int64)]\n",
      "  [array([   12,  1943,  2371, 10714,  6255,  9405], dtype=int64)\n",
      "   array([7687, 9507, 2848, 5329, 9929, 6884], dtype=int64)\n",
      "   array([2695, 6769, 2799, 4058,  395, 4666], dtype=int64)]\n",
      "  [array([10555,  6541,  3163,  5345, 10615,  2385], dtype=int64)\n",
      "   array([10291,  7816,  4960,  4138,  6479,  7323], dtype=int64)\n",
      "   array([9160, 6815,  680, 2202, 1792, 8892], dtype=int64)]\n",
      "  [array([ 4467,  6902, 10692,  2673,  1967,  8841], dtype=int64)\n",
      "   array([2434, 8150, 3386, 9500, 4211, 4506], dtype=int64)\n",
      "   array([7719, 2078, 5956, 6106, 4349, 3140], dtype=int64)]\n",
      "  [array([ 7996,   335,  9014,  3093,  4424, 10221], dtype=int64)\n",
      "   array([11140,  1053,  6728,  8293,    95, 11047], dtype=int64)\n",
      "   array([10771, 11140,  1053,  6728,  8293,  7596], dtype=int64)]\n",
      "  [array([  355, 11006,  1542,  8745,  3298,  4115], dtype=int64)\n",
      "   array([ 1542,   713,  1461,  7029,    89, 10536], dtype=int64)\n",
      "   array([3244, 8496, 2927, 4070, 3463, 2031], dtype=int64)]\n",
      "  [array([   12,  7098,  5436, 10714,   640,  6404], dtype=int64)\n",
      "   array([2080, 6884, 2545, 1467, 9789, 5963], dtype=int64)\n",
      "   array([10120,  4260,    57,  6361,  7685,  8914], dtype=int64)]\n",
      "  [array([11074, 10575,  6116,  1379, 11227,  6765], dtype=int64)\n",
      "   array([10156,  5311,  7198,  1703,  9742,  4854], dtype=int64)\n",
      "   array([4962, 6754, 3287, 6166, 9509, 6174], dtype=int64)]\n",
      "  [array([9010, 3113, 5573, 4906, 1588, 8549], dtype=int64)\n",
      "   array([ 8841,  3933, 10486, 11147,    90,  4688], dtype=int64)\n",
      "   array([ 2284,  6664, 10220,  4248,  9815,   265], dtype=int64)]\n",
      "  [array([   31,  8781,  8270,  5622, 10483, 11117], dtype=int64)\n",
      "   array([10526,  7712,   160,  8898, 10155,  2061], dtype=int64)\n",
      "   array([ 6760,  9403,  5402, 10633,  9970, 10043], dtype=int64)]\n",
      "  [array([ 9001,  6484, 10548,  9986,  2800,  4312], dtype=int64)\n",
      "   array([5311, 7198, 2218, 7300, 7944, 4854], dtype=int64)\n",
      "   array([5434,  335,  407, 7996, 9569, 8710], dtype=int64)]\n",
      "  [array([  551,  6700,  1147,  2118,  7332, 10446], dtype=int64)\n",
      "   array([ 8795,  5200,  5264, 10172,  3660,  1233], dtype=int64)\n",
      "   array([7978, 1410, 9327, 4285, 1228, 8596], dtype=int64)]\n",
      "  [array([ 6833,  2383,  9369,  1752, 10723,  5822], dtype=int64)\n",
      "   array([ 9650,  7183,  1452, 10659,  4097,  5590], dtype=int64)\n",
      "   array([ 8484,  4474, 10169,  2130,   790, 11232], dtype=int64)]\n",
      "  [array([ 4860,  8253, 11201,  7700,  1725,  7780], dtype=int64)\n",
      "   array([ 3117,  2177,   219, 10289,  3101,   226], dtype=int64)\n",
      "   array([10912,   786,   928,  7674,    70,  5680], dtype=int64)]\n",
      "  [array([8601,  286, 4965, 4725, 3924,  172], dtype=int64)\n",
      "   array([9582, 6884, 6492, 1705, 9789, 3384], dtype=int64)\n",
      "   array([6609, 8933, 4924, 2263, 8495,  574], dtype=int64)]\n",
      "  [array([5814, 3480, 8973, 5970,  727, 6056], dtype=int64)\n",
      "   array([ 8550,  8899,  8660, 10392,  3652,  9036], dtype=int64)\n",
      "   array([ 4053,  5482,   324, 10169,  8484,  7594], dtype=int64)]]\n",
      "\n",
      " [[array([11117,  7260,  9430,  7480,  3749,   586,  3010], dtype=int64)\n",
      "   array([  500,   335,  8710,  8635,  5292, 10194,  2979], dtype=int64)\n",
      "   array([ 1889,  3528,  6884,  9789,  5254, 10169, 11232], dtype=int64)]\n",
      "  [array([ 7359, 10907,  4166, 10383, 10104,  3284,  4583], dtype=int64)\n",
      "   array([10226,  4583,  8251,  5288, 10697,  6680,  7372], dtype=int64)\n",
      "   array([ 5405, 11082,  1041,  6644,  1457, 10849,  6215], dtype=int64)]\n",
      "  [array([2140, 6511, 4817, 9121, 5955, 1546, 3585], dtype=int64)\n",
      "   array([ 171, 1603,  820, 7683, 3004, 2906, 1244], dtype=int64)\n",
      "   array([11232,  8484,  3825,  4887,  4138,  4978,  8801], dtype=int64)]\n",
      "  [array([1585, 1677, 2897, 3245, 5405, 8394, 1276], dtype=int64)\n",
      "   array([1339,  685,  943, 7591, 2075, 8048,  450], dtype=int64)\n",
      "   array([3972, 6796, 7961, 2371, 7611, 3651,   12], dtype=int64)]\n",
      "  [array([11232, 10451,   776, 10622,  5351, 10309, 11184], dtype=int64)\n",
      "   array([ 8303,  2735,  3048,  8545, 10988,  7202, 10760], dtype=int64)\n",
      "   array([3588, 8851, 1960, 2832, 8110, 3849, 7599], dtype=int64)]\n",
      "  [array([   12,  1943,  2371, 10714,  6255,  9405,  7400], dtype=int64)\n",
      "   array([ 7687,  9507,  2848,  5329,  9929,  6884, 10508], dtype=int64)\n",
      "   array([2695, 6769, 2799, 4058,  395, 4666, 6864], dtype=int64)]\n",
      "  [array([10555,  6541,  3163,  5345, 10615,  2385, 10451], dtype=int64)\n",
      "   array([10291,  7816,  4960,  4138,  6479,  7323,  3883], dtype=int64)\n",
      "   array([9160, 6815,  680, 2202, 1792, 8892, 2047], dtype=int64)]\n",
      "  [array([ 4467,  6902, 10692,  2673,  1967,  8841,   713], dtype=int64)\n",
      "   array([2434, 8150, 3386, 9500, 4211, 4506, 7425], dtype=int64)\n",
      "   array([ 7719,  2078,  5956,  6106,  4349,  3140, 10483], dtype=int64)]\n",
      "  [array([ 7996,   335,  9014,  3093,  4424, 10221,  7625], dtype=int64)\n",
      "   array([11140,  1053,  6728,  8293,    95, 11047,  2877], dtype=int64)\n",
      "   array([10771, 11140,  1053,  6728,  8293,  7596, 10130], dtype=int64)]\n",
      "  [array([  355, 11006,  1542,  8745,  3298,  4115,   766], dtype=int64)\n",
      "   array([ 1542,   713,  1461,  7029,    89, 10536,  7843], dtype=int64)\n",
      "   array([3244, 8496, 2927, 4070, 3463, 2031, 7652], dtype=int64)]\n",
      "  [array([   12,  7098,  5436, 10714,   640,  6404,  8282], dtype=int64)\n",
      "   array([2080, 6884, 2545, 1467, 9789, 5963, 4304], dtype=int64)\n",
      "   array([10120,  4260,    57,  6361,  7685,  8914,  4036], dtype=int64)]\n",
      "  [array([11074, 10575,  6116,  1379, 11227,  6765,  5733], dtype=int64)\n",
      "   array([10156,  5311,  7198,  1703,  9742,  4854,  9664], dtype=int64)\n",
      "   array([ 4962,  6754,  3287,  6166,  9509,  6174, 10923], dtype=int64)]\n",
      "  [array([9010, 3113, 5573, 4906, 1588, 8549, 1467], dtype=int64)\n",
      "   array([ 8841,  3933, 10486, 11147,    90,  4688, 10776], dtype=int64)\n",
      "   array([ 2284,  6664, 10220,  4248,  9815,   265,  7175], dtype=int64)]\n",
      "  [array([   31,  8781,  8270,  5622, 10483, 11117, 10788], dtype=int64)\n",
      "   array([10526,  7712,   160,  8898, 10155,  2061,  2702], dtype=int64)\n",
      "   array([ 6760,  9403,  5402, 10633,  9970, 10043, 10890], dtype=int64)]\n",
      "  [array([ 9001,  6484, 10548,  9986,  2800,  4312,  4504], dtype=int64)\n",
      "   array([5311, 7198, 2218, 7300, 7944, 4854, 4530], dtype=int64)\n",
      "   array([5434,  335,  407, 7996, 9569, 8710, 4424], dtype=int64)]\n",
      "  [array([  551,  6700,  1147,  2118,  7332, 10446,   139], dtype=int64)\n",
      "   array([ 8795,  5200,  5264, 10172,  3660,  1233,  4885], dtype=int64)\n",
      "   array([7978, 1410, 9327, 4285, 1228, 8596, 7419], dtype=int64)]\n",
      "  [array([ 6833,  2383,  9369,  1752, 10723,  5822,  8950], dtype=int64)\n",
      "   array([ 9650,  7183,  1452, 10659,  4097,  5590,  4266], dtype=int64)\n",
      "   array([ 8484,  4474, 10169,  2130,   790, 11232,  2745], dtype=int64)]\n",
      "  [array([ 4860,  8253, 11201,  7700,  1725,  7780,  2029], dtype=int64)\n",
      "   array([ 3117,  2177,   219, 10289,  3101,   226,  9376], dtype=int64)\n",
      "   array([10912,   786,   928,  7674,    70,  5680,  8799], dtype=int64)]\n",
      "  [array([8601,  286, 4965, 4725, 3924,  172, 2901], dtype=int64)\n",
      "   array([ 9582,  6884,  6492,  1705,  9789,  3384, 11043], dtype=int64)\n",
      "   array([6609, 8933, 4924, 2263, 8495,  574, 9833], dtype=int64)]\n",
      "  [array([ 5814,  3480,  8973,  5970,   727,  6056, 10836], dtype=int64)\n",
      "   array([ 8550,  8899,  8660, 10392,  3652,  9036,  7881], dtype=int64)\n",
      "   array([ 4053,  5482,   324, 10169,  8484,  7594,  7687], dtype=int64)]]\n",
      "\n",
      " [[array([11117,  7260,  9430,  7480,  3749,   586,  3010,  9384],\n",
      "      dtype=int64)\n",
      "   array([  500,   335,  8710,  8635,  5292, 10194,  2979,   660],\n",
      "      dtype=int64)\n",
      "   array([ 1889,  3528,  6884,  9789,  5254, 10169, 11232,  2351],\n",
      "      dtype=int64)]\n",
      "  [array([ 7359, 10907,  4166, 10383, 10104,  3284,  4583,   336],\n",
      "      dtype=int64)\n",
      "   array([10226,  4583,  8251,  5288, 10697,  6680,  7372,  8229],\n",
      "      dtype=int64)\n",
      "   array([ 5405, 11082,  1041,  6644,  1457, 10849,  6215,   271],\n",
      "      dtype=int64)]\n",
      "  [array([2140, 6511, 4817, 9121, 5955, 1546, 3585, 2005], dtype=int64)\n",
      "   array([ 171, 1603,  820, 7683, 3004, 2906, 1244, 9811], dtype=int64)\n",
      "   array([11232,  8484,  3825,  4887,  4138,  4978,  8801,  4474],\n",
      "      dtype=int64)]\n",
      "  [array([1585, 1677, 2897, 3245, 5405, 8394, 1276,  234], dtype=int64)\n",
      "   array([1339,  685,  943, 7591, 2075, 8048,  450, 4223], dtype=int64)\n",
      "   array([3972, 6796, 7961, 2371, 7611, 3651,   12,  426], dtype=int64)]\n",
      "  [array([11232, 10451,   776, 10622,  5351, 10309, 11184,  8484],\n",
      "      dtype=int64)\n",
      "   array([ 8303,  2735,  3048,  8545, 10988,  7202, 10760,  8537],\n",
      "      dtype=int64)\n",
      "   array([3588, 8851, 1960, 2832, 8110, 3849, 7599, 3802], dtype=int64)]\n",
      "  [array([   12,  1943,  2371, 10714,  6255,  9405,  7400,  8282],\n",
      "      dtype=int64)\n",
      "   array([ 7687,  9507,  2848,  5329,  9929,  6884, 10508,  2186],\n",
      "      dtype=int64)\n",
      "   array([2695, 6769, 2799, 4058,  395, 4666, 6864, 6936], dtype=int64)]\n",
      "  [array([10555,  6541,  3163,  5345, 10615,  2385, 10451,   776],\n",
      "      dtype=int64)\n",
      "   array([10291,  7816,  4960,  4138,  6479,  7323,  3883, 10056],\n",
      "      dtype=int64)\n",
      "   array([9160, 6815,  680, 2202, 1792, 8892, 2047, 1206], dtype=int64)]\n",
      "  [array([ 4467,  6902, 10692,  2673,  1967,  8841,   713, 10536],\n",
      "      dtype=int64)\n",
      "   array([ 2434,  8150,  3386,  9500,  4211,  4506,  7425, 10737],\n",
      "      dtype=int64)\n",
      "   array([ 7719,  2078,  5956,  6106,  4349,  3140, 10483,  9260],\n",
      "      dtype=int64)]\n",
      "  [array([ 7996,   335,  9014,  3093,  4424, 10221,  7625,  9355],\n",
      "      dtype=int64)\n",
      "   array([11140,  1053,  6728,  8293,    95, 11047,  2877,  7596],\n",
      "      dtype=int64)\n",
      "   array([10771, 11140,  1053,  6728,  8293,  7596, 10130, 10967],\n",
      "      dtype=int64)]\n",
      "  [array([  355, 11006,  1542,  8745,  3298,  4115,   766,  3484],\n",
      "      dtype=int64)\n",
      "   array([ 1542,   713,  1461,  7029,    89, 10536,  7843,   432],\n",
      "      dtype=int64)\n",
      "   array([3244, 8496, 2927, 4070, 3463, 2031, 7652, 3615], dtype=int64)]\n",
      "  [array([   12,  7098,  5436, 10714,   640,  6404,  8282,   298],\n",
      "      dtype=int64)\n",
      "   array([2080, 6884, 2545, 1467, 9789, 5963, 4304, 8537], dtype=int64)\n",
      "   array([10120,  4260,    57,  6361,  7685,  8914,  4036,  7646],\n",
      "      dtype=int64)]\n",
      "  [array([11074, 10575,  6116,  1379, 11227,  6765,  5733,  9115],\n",
      "      dtype=int64)\n",
      "   array([10156,  5311,  7198,  1703,  9742,  4854,  9664,  1955],\n",
      "      dtype=int64)\n",
      "   array([ 4962,  6754,  3287,  6166,  9509,  6174, 10923,  6760],\n",
      "      dtype=int64)]\n",
      "  [array([9010, 3113, 5573, 4906, 1588, 8549, 1467, 2333], dtype=int64)\n",
      "   array([ 8841,  3933, 10486, 11147,    90,  4688, 10776,  3718],\n",
      "      dtype=int64)\n",
      "   array([ 2284,  6664, 10220,  4248,  9815,   265,  7175,  8970],\n",
      "      dtype=int64)]\n",
      "  [array([   31,  8781,  8270,  5622, 10483, 11117, 10788,  4602],\n",
      "      dtype=int64)\n",
      "   array([10526,  7712,   160,  8898, 10155,  2061,  2702, 10148],\n",
      "      dtype=int64)\n",
      "   array([ 6760,  9403,  5402, 10633,  9970, 10043, 10890,  7337],\n",
      "      dtype=int64)]\n",
      "  [array([ 9001,  6484, 10548,  9986,  2800,  4312,  4504,  3980],\n",
      "      dtype=int64)\n",
      "   array([5311, 7198, 2218, 7300, 7944, 4854, 4530, 1703], dtype=int64)\n",
      "   array([5434,  335,  407, 7996, 9569, 8710, 4424, 2514], dtype=int64)]\n",
      "  [array([  551,  6700,  1147,  2118,  7332, 10446,   139,  8430],\n",
      "      dtype=int64)\n",
      "   array([ 8795,  5200,  5264, 10172,  3660,  1233,  4885,  1731],\n",
      "      dtype=int64)\n",
      "   array([7978, 1410, 9327, 4285, 1228, 8596, 7419, 3692], dtype=int64)]\n",
      "  [array([ 6833,  2383,  9369,  1752, 10723,  5822,  8950,   169],\n",
      "      dtype=int64)\n",
      "   array([ 9650,  7183,  1452, 10659,  4097,  5590,  4266, 10475],\n",
      "      dtype=int64)\n",
      "   array([ 8484,  4474, 10169,  2130,   790, 11232,  2745,  4917],\n",
      "      dtype=int64)]\n",
      "  [array([ 4860,  8253, 11201,  7700,  1725,  7780,  2029,  8484],\n",
      "      dtype=int64)\n",
      "   array([ 3117,  2177,   219, 10289,  3101,   226,  9376,  1751],\n",
      "      dtype=int64)\n",
      "   array([10912,   786,   928,  7674,    70,  5680,  8799,  6442],\n",
      "      dtype=int64)]\n",
      "  [array([8601,  286, 4965, 4725, 3924,  172, 2901, 6884], dtype=int64)\n",
      "   array([ 9582,  6884,  6492,  1705,  9789,  3384, 11043,  4725],\n",
      "      dtype=int64)\n",
      "   array([6609, 8933, 4924, 2263, 8495,  574, 9833, 8498], dtype=int64)]\n",
      "  [array([ 5814,  3480,  8973,  5970,   727,  6056, 10836,  9956],\n",
      "      dtype=int64)\n",
      "   array([ 8550,  8899,  8660, 10392,  3652,  9036,  7881,   481],\n",
      "      dtype=int64)\n",
      "   array([ 4053,  5482,   324, 10169,  8484,  7594,  7687,  1705],\n",
      "      dtype=int64)]]\n",
      "\n",
      " [[array([11117,  7260,  9430,  7480,  3749,   586,  3010,  9384,  8941],\n",
      "      dtype=int64)\n",
      "   array([  500,   335,  8710,  8635,  5292, 10194,  2979,   660, 10760],\n",
      "      dtype=int64)\n",
      "   array([ 1889,  3528,  6884,  9789,  5254, 10169, 11232,  2351,  3075],\n",
      "      dtype=int64)]\n",
      "  [array([ 7359, 10907,  4166, 10383, 10104,  3284,  4583,   336,  9846],\n",
      "      dtype=int64)\n",
      "   array([10226,  4583,  8251,  5288, 10697,  6680,  7372,  8229,  5985],\n",
      "      dtype=int64)\n",
      "   array([ 5405, 11082,  1041,  6644,  1457, 10849,  6215,   271,  1725],\n",
      "      dtype=int64)]\n",
      "  [array([ 2140,  6511,  4817,  9121,  5955,  1546,  3585,  2005, 10957],\n",
      "      dtype=int64)\n",
      "   array([ 171, 1603,  820, 7683, 3004, 2906, 1244, 9811,  584], dtype=int64)\n",
      "   array([11232,  8484,  3825,  4887,  4138,  4978,  8801,  4474,  1782],\n",
      "      dtype=int64)]\n",
      "  [array([1585, 1677, 2897, 3245, 5405, 8394, 1276,  234, 1567], dtype=int64)\n",
      "   array([1339,  685,  943, 7591, 2075, 8048,  450, 4223, 5575], dtype=int64)\n",
      "   array([3972, 6796, 7961, 2371, 7611, 3651,   12,  426, 7089], dtype=int64)]\n",
      "  [array([11232, 10451,   776, 10622,  5351, 10309, 11184,  8484,  2353],\n",
      "      dtype=int64)\n",
      "   array([ 8303,  2735,  3048,  8545, 10988,  7202, 10760,  8537,   679],\n",
      "      dtype=int64)\n",
      "   array([3588, 8851, 1960, 2832, 8110, 3849, 7599, 3802, 6777], dtype=int64)]\n",
      "  [array([   12,  1943,  2371, 10714,  6255,  9405,  7400,  8282,  9361],\n",
      "      dtype=int64)\n",
      "   array([ 7687,  9507,  2848,  5329,  9929,  6884, 10508,  2186,  7318],\n",
      "      dtype=int64)\n",
      "   array([2695, 6769, 2799, 4058,  395, 4666, 6864, 6936, 6762], dtype=int64)]\n",
      "  [array([10555,  6541,  3163,  5345, 10615,  2385, 10451,   776,  2396],\n",
      "      dtype=int64)\n",
      "   array([10291,  7816,  4960,  4138,  6479,  7323,  3883, 10056,  7762],\n",
      "      dtype=int64)\n",
      "   array([9160, 6815,  680, 2202, 1792, 8892, 2047, 1206, 5941], dtype=int64)]\n",
      "  [array([ 4467,  6902, 10692,  2673,  1967,  8841,   713, 10536,  3682],\n",
      "      dtype=int64)\n",
      "   array([ 2434,  8150,  3386,  9500,  4211,  4506,  7425, 10737,  9303],\n",
      "      dtype=int64)\n",
      "   array([ 7719,  2078,  5956,  6106,  4349,  3140, 10483,  9260,  9533],\n",
      "      dtype=int64)]\n",
      "  [array([ 7996,   335,  9014,  3093,  4424, 10221,  7625,  9355,    17],\n",
      "      dtype=int64)\n",
      "   array([11140,  1053,  6728,  8293,    95, 11047,  2877,  7596,  5804],\n",
      "      dtype=int64)\n",
      "   array([10771, 11140,  1053,  6728,  8293,  7596, 10130, 10967,  6895],\n",
      "      dtype=int64)]\n",
      "  [array([  355, 11006,  1542,  8745,  3298,  4115,   766,  3484,  3995],\n",
      "      dtype=int64)\n",
      "   array([ 1542,   713,  1461,  7029,    89, 10536,  7843,   432,  1996],\n",
      "      dtype=int64)\n",
      "   array([3244, 8496, 2927, 4070, 3463, 2031, 7652, 3615, 8282], dtype=int64)]\n",
      "  [array([   12,  7098,  5436, 10714,   640,  6404,  8282,   298,  2846],\n",
      "      dtype=int64)\n",
      "   array([2080, 6884, 2545, 1467, 9789, 5963, 4304, 8537, 4965], dtype=int64)\n",
      "   array([10120,  4260,    57,  6361,  7685,  8914,  4036,  7646, 11176],\n",
      "      dtype=int64)]\n",
      "  [array([11074, 10575,  6116,  1379, 11227,  6765,  5733,  9115,  5856],\n",
      "      dtype=int64)\n",
      "   array([10156,  5311,  7198,  1703,  9742,  4854,  9664,  1955,  5939],\n",
      "      dtype=int64)\n",
      "   array([ 4962,  6754,  3287,  6166,  9509,  6174, 10923,  6760,  1479],\n",
      "      dtype=int64)]\n",
      "  [array([9010, 3113, 5573, 4906, 1588, 8549, 1467, 2333,  686], dtype=int64)\n",
      "   array([ 8841,  3933, 10486, 11147,    90,  4688, 10776,  3718,  1429],\n",
      "      dtype=int64)\n",
      "   array([ 2284,  6664, 10220,  4248,  9815,   265,  7175,  8970,  8743],\n",
      "      dtype=int64)]\n",
      "  [array([   31,  8781,  8270,  5622, 10483, 11117, 10788,  4602,  2850],\n",
      "      dtype=int64)\n",
      "   array([10526,  7712,   160,  8898, 10155,  2061,  2702, 10148,  3629],\n",
      "      dtype=int64)\n",
      "   array([ 6760,  9403,  5402, 10633,  9970, 10043, 10890,  7337,  2673],\n",
      "      dtype=int64)]\n",
      "  [array([ 9001,  6484, 10548,  9986,  2800,  4312,  4504,  3980,  7545],\n",
      "      dtype=int64)\n",
      "   array([5311, 7198, 2218, 7300, 7944, 4854, 4530, 1703, 9742], dtype=int64)\n",
      "   array([5434,  335,  407, 7996, 9569, 8710, 4424, 2514,  929], dtype=int64)]\n",
      "  [array([  551,  6700,  1147,  2118,  7332, 10446,   139,  8430,  2012],\n",
      "      dtype=int64)\n",
      "   array([ 8795,  5200,  5264, 10172,  3660,  1233,  4885,  1731,  2095],\n",
      "      dtype=int64)\n",
      "   array([7978, 1410, 9327, 4285, 1228, 8596, 7419, 3692, 7668], dtype=int64)]\n",
      "  [array([ 6833,  2383,  9369,  1752, 10723,  5822,  8950,   169,  4737],\n",
      "      dtype=int64)\n",
      "   array([ 9650,  7183,  1452, 10659,  4097,  5590,  4266, 10475,  8882],\n",
      "      dtype=int64)\n",
      "   array([ 8484,  4474, 10169,  2130,   790, 11232,  2745,  4917,  8047],\n",
      "      dtype=int64)]\n",
      "  [array([ 4860,  8253, 11201,  7700,  1725,  7780,  2029,  8484,  7175],\n",
      "      dtype=int64)\n",
      "   array([ 3117,  2177,   219, 10289,  3101,   226,  9376,  1751,  8484],\n",
      "      dtype=int64)\n",
      "   array([10912,   786,   928,  7674,    70,  5680,  8799,  6442,  6783],\n",
      "      dtype=int64)]\n",
      "  [array([8601,  286, 4965, 4725, 3924,  172, 2901, 6884, 1705], dtype=int64)\n",
      "   array([ 9582,  6884,  6492,  1705,  9789,  3384, 11043,  4725, 10147],\n",
      "      dtype=int64)\n",
      "   array([ 6609,  8933,  4924,  2263,  8495,   574,  9833,  8498, 10629],\n",
      "      dtype=int64)]\n",
      "  [array([ 5814,  3480,  8973,  5970,   727,  6056, 10836,  9956, 10458],\n",
      "      dtype=int64)\n",
      "   array([ 8550,  8899,  8660, 10392,  3652,  9036,  7881,   481,  4946],\n",
      "      dtype=int64)\n",
      "   array([ 4053,  5482,   324, 10169,  8484,  7594,  7687,  1705,  6884],\n",
      "      dtype=int64)]]\n",
      "\n",
      " [[array([11117,  7260,  9430,  7480,  3749,   586,  3010,  9384,  8941,\n",
      "        1588], dtype=int64)\n",
      "   array([  500,   335,  8710,  8635,  5292, 10194,  2979,   660, 10760,\n",
      "         394], dtype=int64)\n",
      "   array([ 1889,  3528,  6884,  9789,  5254, 10169, 11232,  2351,  3075,\n",
      "        8484], dtype=int64)]\n",
      "  [array([ 7359, 10907,  4166, 10383, 10104,  3284,  4583,   336,  9846,\n",
      "        1907], dtype=int64)\n",
      "   array([10226,  4583,  8251,  5288, 10697,  6680,  7372,  8229,  5985,\n",
      "        7133], dtype=int64)\n",
      "   array([ 5405, 11082,  1041,  6644,  1457, 10849,  6215,   271,  1725,\n",
      "        3933], dtype=int64)]\n",
      "  [array([ 2140,  6511,  4817,  9121,  5955,  1546,  3585,  2005, 10957,\n",
      "         206], dtype=int64)\n",
      "   array([ 171, 1603,  820, 7683, 3004, 2906, 1244, 9811,  584, 1547],\n",
      "      dtype=int64)\n",
      "   array([11232,  8484,  3825,  4887,  4138,  4978,  8801,  4474,  1782,\n",
      "        2540], dtype=int64)]\n",
      "  [array([1585, 1677, 2897, 3245, 5405, 8394, 1276,  234, 1567,  857],\n",
      "      dtype=int64)\n",
      "   array([1339,  685,  943, 7591, 2075, 8048,  450, 4223, 5575, 6484],\n",
      "      dtype=int64)\n",
      "   array([3972, 6796, 7961, 2371, 7611, 3651,   12,  426, 7089, 7605],\n",
      "      dtype=int64)]\n",
      "  [array([11232, 10451,   776, 10622,  5351, 10309, 11184,  8484,  2353,\n",
      "       11297], dtype=int64)\n",
      "   array([ 8303,  2735,  3048,  8545, 10988,  7202, 10760,  8537,   679,\n",
      "        5325], dtype=int64)\n",
      "   array([3588, 8851, 1960, 2832, 8110, 3849, 7599, 3802, 6777, 8298],\n",
      "      dtype=int64)]\n",
      "  [array([   12,  1943,  2371, 10714,  6255,  9405,  7400,  8282,  9361,\n",
      "        3453], dtype=int64)\n",
      "   array([ 7687,  9507,  2848,  5329,  9929,  6884, 10508,  2186,  7318,\n",
      "        3812], dtype=int64)\n",
      "   array([ 2695,  6769,  2799,  4058,   395,  4666,  6864,  6936,  6762,\n",
      "       10276], dtype=int64)]\n",
      "  [array([10555,  6541,  3163,  5345, 10615,  2385, 10451,   776,  2396,\n",
      "        8544], dtype=int64)\n",
      "   array([10291,  7816,  4960,  4138,  6479,  7323,  3883, 10056,  7762,\n",
      "        4685], dtype=int64)\n",
      "   array([ 9160,  6815,   680,  2202,  1792,  8892,  2047,  1206,  5941,\n",
      "       10210], dtype=int64)]\n",
      "  [array([ 4467,  6902, 10692,  2673,  1967,  8841,   713, 10536,  3682,\n",
      "         992], dtype=int64)\n",
      "   array([ 2434,  8150,  3386,  9500,  4211,  4506,  7425, 10737,  9303,\n",
      "        6692], dtype=int64)\n",
      "   array([ 7719,  2078,  5956,  6106,  4349,  3140, 10483,  9260,  9533,\n",
      "        7709], dtype=int64)]\n",
      "  [array([ 7996,   335,  9014,  3093,  4424, 10221,  7625,  9355,    17,\n",
      "        1799], dtype=int64)\n",
      "   array([11140,  1053,  6728,  8293,    95, 11047,  2877,  7596,  5804,\n",
      "        4554], dtype=int64)\n",
      "   array([10771, 11140,  1053,  6728,  8293,  7596, 10130, 10967,  6895,\n",
      "        8047], dtype=int64)]\n",
      "  [array([  355, 11006,  1542,  8745,  3298,  4115,   766,  3484,  3995,\n",
      "        7029], dtype=int64)\n",
      "   array([ 1542,   713,  1461,  7029,    89, 10536,  7843,   432,  1996,\n",
      "        7009], dtype=int64)\n",
      "   array([3244, 8496, 2927, 4070, 3463, 2031, 7652, 3615, 8282, 8154],\n",
      "      dtype=int64)]\n",
      "  [array([   12,  7098,  5436, 10714,   640,  6404,  8282,   298,  2846,\n",
      "        3977], dtype=int64)\n",
      "   array([ 2080,  6884,  2545,  1467,  9789,  5963,  4304,  8537,  4965,\n",
      "       10374], dtype=int64)\n",
      "   array([10120,  4260,    57,  6361,  7685,  8914,  4036,  7646, 11176,\n",
      "        4541], dtype=int64)]\n",
      "  [array([11074, 10575,  6116,  1379, 11227,  6765,  5733,  9115,  5856,\n",
      "         888], dtype=int64)\n",
      "   array([10156,  5311,  7198,  1703,  9742,  4854,  9664,  1955,  5939,\n",
      "        7300], dtype=int64)\n",
      "   array([ 4962,  6754,  3287,  6166,  9509,  6174, 10923,  6760,  1479,\n",
      "        7105], dtype=int64)]\n",
      "  [array([9010, 3113, 5573, 4906, 1588, 8549, 1467, 2333,  686, 2601],\n",
      "      dtype=int64)\n",
      "   array([ 8841,  3933, 10486, 11147,    90,  4688, 10776,  3718,  1429,\n",
      "       10380], dtype=int64)\n",
      "   array([ 2284,  6664, 10220,  4248,  9815,   265,  7175,  8970,  8743,\n",
      "        5658], dtype=int64)]\n",
      "  [array([   31,  8781,  8270,  5622, 10483, 11117, 10788,  4602,  2850,\n",
      "        3244], dtype=int64)\n",
      "   array([10526,  7712,   160,  8898, 10155,  2061,  2702, 10148,  3629,\n",
      "        8014], dtype=int64)\n",
      "   array([ 6760,  9403,  5402, 10633,  9970, 10043, 10890,  7337,  2673,\n",
      "        7538], dtype=int64)]\n",
      "  [array([ 9001,  6484, 10548,  9986,  2800,  4312,  4504,  3980,  7545,\n",
      "        5729], dtype=int64)\n",
      "   array([5311, 7198, 2218, 7300, 7944, 4854, 4530, 1703, 9742, 1955],\n",
      "      dtype=int64)\n",
      "   array([5434,  335,  407, 7996, 9569, 8710, 4424, 2514,  929, 8602],\n",
      "      dtype=int64)]\n",
      "  [array([  551,  6700,  1147,  2118,  7332, 10446,   139,  8430,  2012,\n",
      "        5340], dtype=int64)\n",
      "   array([ 8795,  5200,  5264, 10172,  3660,  1233,  4885,  1731,  2095,\n",
      "        6962], dtype=int64)\n",
      "   array([7978, 1410, 9327, 4285, 1228, 8596, 7419, 3692, 7668, 6497],\n",
      "      dtype=int64)]\n",
      "  [array([ 6833,  2383,  9369,  1752, 10723,  5822,  8950,   169,  4737,\n",
      "        1169], dtype=int64)\n",
      "   array([ 9650,  7183,  1452, 10659,  4097,  5590,  4266, 10475,  8882,\n",
      "        1767], dtype=int64)\n",
      "   array([ 8484,  4474, 10169,  2130,   790, 11232,  2745,  4917,  8047,\n",
      "         391], dtype=int64)]\n",
      "  [array([ 4860,  8253, 11201,  7700,  1725,  7780,  2029,  8484,  7175,\n",
      "       10688], dtype=int64)\n",
      "   array([ 3117,  2177,   219, 10289,  3101,   226,  9376,  1751,  8484,\n",
      "        1736], dtype=int64)\n",
      "   array([10912,   786,   928,  7674,    70,  5680,  8799,  6442,  6783,\n",
      "        8205], dtype=int64)]\n",
      "  [array([8601,  286, 4965, 4725, 3924,  172, 2901, 6884, 1705, 2599],\n",
      "      dtype=int64)\n",
      "   array([ 9582,  6884,  6492,  1705,  9789,  3384, 11043,  4725, 10147,\n",
      "         671], dtype=int64)\n",
      "   array([ 6609,  8933,  4924,  2263,  8495,   574,  9833,  8498, 10629,\n",
      "        6381], dtype=int64)]\n",
      "  [array([ 5814,  3480,  8973,  5970,   727,  6056, 10836,  9956, 10458,\n",
      "        7715], dtype=int64)\n",
      "   array([ 8550,  8899,  8660, 10392,  3652,  9036,  7881,   481,  4946,\n",
      "        9743], dtype=int64)\n",
      "   array([ 4053,  5482,   324, 10169,  8484,  7594,  7687,  1705,  6884,\n",
      "        6213], dtype=int64)]]]\n"
     ]
    }
   ],
   "source": [
    "print(exhaustIndex)"
   ]
  },
  {
   "cell_type": "code",
   "execution_count": 446,
   "metadata": {},
   "outputs": [
    {
     "data": {
      "text/plain": [
       "['DESCR', 'data', 'filenames', 'target', 'target_names']"
      ]
     },
     "execution_count": 446,
     "metadata": {},
     "output_type": "execute_result"
    }
   ],
   "source": [
    "dir(train_data.)"
   ]
  },
  {
   "cell_type": "code",
   "execution_count": 452,
   "metadata": {},
   "outputs": [],
   "source": [
    "def calcPrecision(exhaustIndex, train_data):\n",
    "    precision = np.zeros(exhaustIndex.shape, object)\n",
    "    \n",
    "    for i, nivel in enumerate(exhaustIndex):\n",
    "        for j, indexList in enumerate(nivel):\n",
    "            for k, BestIndexes in enumerate(indexList):\n",
    "                prec = 0\n",
    "                for index in BestIndexes:\n",
    "                    #Si el indice del train data coincide con la j, es bueno\n",
    "                    if(train_data[index] == j):\n",
    "                        prec += 1\n",
    "                prec /= len(BestIndexes)\n",
    "                \n",
    "                precision[i][j][k] = prec\n",
    "                \n",
    "    return precision"
   ]
  },
  {
   "cell_type": "code",
   "execution_count": 453,
   "metadata": {},
   "outputs": [],
   "source": [
    "precision = calcPrecision(exhaustIndex, train_data.target)"
   ]
  },
  {
   "cell_type": "code",
   "execution_count": 454,
   "metadata": {},
   "outputs": [
    {
     "data": {
      "text/plain": [
       "array([[[0.6666666666666666, 0.0, 1.0],\n",
       "        [1.0, 1.0, 1.0],\n",
       "        [0.3333333333333333, 0.6666666666666666, 0.3333333333333333],\n",
       "        [1.0, 1.0, 0.6666666666666666],\n",
       "        [0.0, 0.0, 0.0],\n",
       "        [0.0, 1.0, 0.3333333333333333],\n",
       "        [1.0, 1.0, 0.0],\n",
       "        [0.0, 1.0, 0.0],\n",
       "        [0.0, 1.0, 1.0],\n",
       "        [1.0, 0.6666666666666666, 0.3333333333333333],\n",
       "        [0.0, 0.0, 1.0],\n",
       "        [1.0, 0.3333333333333333, 1.0],\n",
       "        [0.6666666666666666, 0.3333333333333333, 0.6666666666666666],\n",
       "        [0.6666666666666666, 0.3333333333333333, 1.0],\n",
       "        [1.0, 0.3333333333333333, 0.0],\n",
       "        [1.0, 0.6666666666666666, 1.0],\n",
       "        [0.0, 0.6666666666666666, 0.0],\n",
       "        [0.0, 1.0, 1.0],\n",
       "        [0.0, 0.3333333333333333, 1.0],\n",
       "        [0.0, 0.0, 0.0]],\n",
       "\n",
       "       [[0.5, 0.0, 0.75],\n",
       "        [0.75, 0.75, 1.0],\n",
       "        [0.5, 0.75, 0.5],\n",
       "        [1.0, 1.0, 0.75],\n",
       "        [0.0, 0.25, 0.0],\n",
       "        [0.0, 1.0, 0.25],\n",
       "        [0.75, 0.75, 0.0],\n",
       "        [0.0, 1.0, 0.0],\n",
       "        [0.25, 1.0, 1.0],\n",
       "        [1.0, 0.75, 0.5],\n",
       "        [0.0, 0.0, 1.0],\n",
       "        [1.0, 0.25, 1.0],\n",
       "        [0.5, 0.25, 0.75],\n",
       "        [0.5, 0.5, 1.0],\n",
       "        [1.0, 0.5, 0.0],\n",
       "        [1.0, 0.5, 1.0],\n",
       "        [0.25, 0.75, 0.0],\n",
       "        [0.0, 0.75, 1.0],\n",
       "        [0.0, 0.25, 1.0],\n",
       "        [0.0, 0.0, 0.0]],\n",
       "\n",
       "       [[0.6, 0.0, 0.8],\n",
       "        [0.6, 0.6, 1.0],\n",
       "        [0.4, 0.6, 0.4],\n",
       "        [0.8, 1.0, 0.6],\n",
       "        [0.0, 0.4, 0.0],\n",
       "        [0.0, 1.0, 0.4],\n",
       "        [0.8, 0.6, 0.0],\n",
       "        [0.0, 0.8, 0.0],\n",
       "        [0.2, 1.0, 1.0],\n",
       "        [1.0, 0.6, 0.4],\n",
       "        [0.0, 0.0, 1.0],\n",
       "        [0.8, 0.2, 0.8],\n",
       "        [0.4, 0.4, 0.6],\n",
       "        [0.4, 0.4, 1.0],\n",
       "        [1.0, 0.4, 0.0],\n",
       "        [0.8, 0.6, 1.0],\n",
       "        [0.2, 0.8, 0.2],\n",
       "        [0.0, 0.8, 1.0],\n",
       "        [0.0, 0.2, 1.0],\n",
       "        [0.0, 0.0, 0.0]],\n",
       "\n",
       "       [[0.5, 0.16666666666666666, 0.6666666666666666],\n",
       "        [0.5, 0.5, 1.0],\n",
       "        [0.3333333333333333, 0.6666666666666666, 0.3333333333333333],\n",
       "        [0.6666666666666666, 0.8333333333333334, 0.6666666666666666],\n",
       "        [0.0, 0.3333333333333333, 0.0],\n",
       "        [0.16666666666666666, 0.8333333333333334, 0.5],\n",
       "        [0.8333333333333334, 0.6666666666666666, 0.0],\n",
       "        [0.0, 0.8333333333333334, 0.0],\n",
       "        [0.16666666666666666, 1.0, 1.0],\n",
       "        [1.0, 0.6666666666666666, 0.3333333333333333],\n",
       "        [0.0, 0.0, 1.0],\n",
       "        [0.8333333333333334, 0.3333333333333333, 0.6666666666666666],\n",
       "        [0.3333333333333333, 0.3333333333333333, 0.5],\n",
       "        [0.3333333333333333, 0.3333333333333333, 1.0],\n",
       "        [1.0, 0.3333333333333333, 0.0],\n",
       "        [0.8333333333333334, 0.6666666666666666, 1.0],\n",
       "        [0.3333333333333333, 0.8333333333333334, 0.16666666666666666],\n",
       "        [0.0, 0.8333333333333334, 1.0],\n",
       "        [0.0, 0.3333333333333333, 1.0],\n",
       "        [0.0, 0.0, 0.0]],\n",
       "\n",
       "       [[0.42857142857142855, 0.14285714285714285, 0.5714285714285714],\n",
       "        [0.5714285714285714, 0.42857142857142855, 0.8571428571428571],\n",
       "        [0.2857142857142857, 0.7142857142857143, 0.42857142857142855],\n",
       "        [0.5714285714285714, 0.8571428571428571, 0.5714285714285714],\n",
       "        [0.0, 0.2857142857142857, 0.0],\n",
       "        [0.14285714285714285, 0.7142857142857143, 0.42857142857142855],\n",
       "        [0.7142857142857143, 0.7142857142857143, 0.14285714285714285],\n",
       "        [0.0, 0.8571428571428571, 0.0],\n",
       "        [0.2857142857142857, 1.0, 0.8571428571428571],\n",
       "        [1.0, 0.5714285714285714, 0.2857142857142857],\n",
       "        [0.0, 0.0, 1.0],\n",
       "        [0.8571428571428571, 0.2857142857142857, 0.5714285714285714],\n",
       "        [0.2857142857142857, 0.2857142857142857, 0.42857142857142855],\n",
       "        [0.2857142857142857, 0.2857142857142857, 1.0],\n",
       "        [1.0, 0.42857142857142855, 0.0],\n",
       "        [0.8571428571428571, 0.5714285714285714, 1.0],\n",
       "        [0.42857142857142855, 0.8571428571428571, 0.14285714285714285],\n",
       "        [0.0, 0.7142857142857143, 1.0],\n",
       "        [0.0, 0.2857142857142857, 1.0],\n",
       "        [0.0, 0.0, 0.0]],\n",
       "\n",
       "       [[0.375, 0.125, 0.5],\n",
       "        [0.5, 0.375, 0.75],\n",
       "        [0.375, 0.75, 0.375],\n",
       "        [0.5, 0.75, 0.5],\n",
       "        [0.0, 0.25, 0.0],\n",
       "        [0.125, 0.625, 0.375],\n",
       "        [0.625, 0.625, 0.25],\n",
       "        [0.0, 0.875, 0.0],\n",
       "        [0.25, 1.0, 0.875],\n",
       "        [1.0, 0.5, 0.25],\n",
       "        [0.125, 0.125, 1.0],\n",
       "        [0.875, 0.375, 0.5],\n",
       "        [0.375, 0.25, 0.5],\n",
       "        [0.25, 0.25, 1.0],\n",
       "        [1.0, 0.375, 0.0],\n",
       "        [0.75, 0.5, 1.0],\n",
       "        [0.375, 0.875, 0.125],\n",
       "        [0.0, 0.75, 1.0],\n",
       "        [0.0, 0.25, 0.875],\n",
       "        [0.0, 0.0, 0.0]],\n",
       "\n",
       "       [[0.3333333333333333, 0.1111111111111111, 0.4444444444444444],\n",
       "        [0.5555555555555556, 0.4444444444444444, 0.7777777777777778],\n",
       "        [0.4444444444444444, 0.6666666666666666, 0.4444444444444444],\n",
       "        [0.4444444444444444, 0.6666666666666666, 0.4444444444444444],\n",
       "        [0.0, 0.2222222222222222, 0.0],\n",
       "        [0.1111111111111111, 0.5555555555555556, 0.4444444444444444],\n",
       "        [0.6666666666666666, 0.6666666666666666, 0.2222222222222222],\n",
       "        [0.0, 0.7777777777777778, 0.0],\n",
       "        [0.2222222222222222, 1.0, 0.8888888888888888],\n",
       "        [1.0, 0.5555555555555556, 0.2222222222222222],\n",
       "        [0.1111111111111111, 0.1111111111111111, 1.0],\n",
       "        [0.8888888888888888, 0.3333333333333333, 0.4444444444444444],\n",
       "        [0.4444444444444444, 0.2222222222222222, 0.5555555555555556],\n",
       "        [0.2222222222222222, 0.3333333333333333, 0.8888888888888888],\n",
       "        [1.0, 0.3333333333333333, 0.0],\n",
       "        [0.7777777777777778, 0.4444444444444444, 1.0],\n",
       "        [0.3333333333333333, 0.7777777777777778, 0.1111111111111111],\n",
       "        [0.0, 0.6666666666666666, 1.0],\n",
       "        [0.0, 0.2222222222222222, 0.8888888888888888],\n",
       "        [0.0, 0.0, 0.0]],\n",
       "\n",
       "       [[0.3, 0.1, 0.4],\n",
       "        [0.6, 0.4, 0.7],\n",
       "        [0.5, 0.7, 0.4],\n",
       "        [0.5, 0.6, 0.4],\n",
       "        [0.0, 0.2, 0.0],\n",
       "        [0.2, 0.6, 0.5],\n",
       "        [0.6, 0.6, 0.2],\n",
       "        [0.0, 0.8, 0.0],\n",
       "        [0.2, 1.0, 0.9],\n",
       "        [1.0, 0.5, 0.3],\n",
       "        [0.1, 0.1, 1.0],\n",
       "        [0.9, 0.3, 0.4],\n",
       "        [0.4, 0.2, 0.5],\n",
       "        [0.2, 0.4, 0.8],\n",
       "        [1.0, 0.3, 0.0],\n",
       "        [0.7, 0.5, 1.0],\n",
       "        [0.3, 0.8, 0.1],\n",
       "        [0.0, 0.6, 1.0],\n",
       "        [0.0, 0.2, 0.9],\n",
       "        [0.0, 0.0, 0.0]]], dtype=object)"
      ]
     },
     "execution_count": 454,
     "metadata": {},
     "output_type": "execute_result"
    }
   ],
   "source": [
    "precision"
   ]
  },
  {
   "cell_type": "code",
   "execution_count": null,
   "metadata": {},
   "outputs": [],
   "source": [
    "def precMedia(precisiones):\n",
    "    \n",
    "    "
   ]
  }
 ],
 "metadata": {
  "kernelspec": {
   "display_name": "Python 3",
   "language": "python",
   "name": "python3"
  },
  "language_info": {
   "codemirror_mode": {
    "name": "ipython",
    "version": 3
   },
   "file_extension": ".py",
   "mimetype": "text/x-python",
   "name": "python",
   "nbconvert_exporter": "python",
   "pygments_lexer": "ipython3",
   "version": "3.7.4"
  }
 },
 "nbformat": 4,
 "nbformat_minor": 2
}
