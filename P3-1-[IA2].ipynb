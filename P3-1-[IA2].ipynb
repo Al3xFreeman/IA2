{
 "cells": [
  {
   "cell_type": "markdown",
   "metadata": {},
   "source": [
    "### Consulta 1"
   ]
  },
  {
   "cell_type": "raw",
   "metadata": {},
   "source": [
    "SELECT ?date ?lugar ?lugarLabel\n",
    "WHERE {\n",
    "  wd:Q76364 wdt:P569 ?date;\n",
    "            wdt:P19 ?lugar.\n",
    "  \n",
    "  SERVICE wikibase:label { bd:serviceParam wikibase:language \"[AUTO_LANGUAGE],en\". }\n",
    "}"
   ]
  },
  {
   "cell_type": "markdown",
   "metadata": {},
   "source": [
    "<html><head><meta charset=\"utf-8\"></head><body><table><thead><tr><th>date</th><th>lugar</th><th>lugarLabel</th></tr></thead><tbody><tr><td>1957-09-12T00:00:00Z</td><td>http://www.wikidata.org/entity/Q1794</td><td>Fráncfort del Meno</td></tr></tbody></table></body></html>"
   ]
  },
  {
   "cell_type": "markdown",
   "metadata": {},
   "source": [
    "### Consulta 2"
   ]
  },
  {
   "cell_type": "raw",
   "metadata": {},
   "source": [
    "SELECT ?instrument ?instrumentLabel\n",
    "WHERE {\n",
    "  wd:Q76364 wdt:P1303 ?instrument.\n",
    "  \n",
    "  \n",
    "  SERVICE wikibase:label { bd:serviceParam wikibase:language \"[AUTO_LANGUAGE],en\". }\n",
    "} ORDER BY ?instrumentLabel"
   ]
  },
  {
   "cell_type": "markdown",
   "metadata": {},
   "source": [
    "<html><head><meta charset=\"utf-8\"></head><body><table><thead><tr><th>instrument</th><th>instrumentLabel</th></tr></thead><tbody><tr><td>http://www.wikidata.org/entity/Q258896</td><td>banjo</td></tr><tr><td>http://www.wikidata.org/entity/Q6607</td><td>guitarra</td></tr><tr><td>http://www.wikidata.org/entity/Q5994</td><td>piano</td></tr><tr><td>http://www.wikidata.org/entity/Q163829</td><td>sintetizador</td></tr><tr><td>http://www.wikidata.org/entity/Q52954</td><td>teclado</td></tr></tbody></table></body></html>"
   ]
  },
  {
   "cell_type": "markdown",
   "metadata": {},
   "source": [
    "### Consulta 3"
   ]
  },
  {
   "cell_type": "raw",
   "metadata": {},
   "source": [
    "SELECT ?instrument ?instrumentLabel WHERE {\n",
    "  wd:Q76364 wdt:P1303 ?instrument.\n",
    "  ?instrument wdt:P279* wd:Q57306162.\n",
    "  SERVICE wikibase:label { bd:serviceParam wikibase:language \"[AUTO_LANGUAGE],en\". }\n",
    "}\n",
    "ORDER BY (?instrumentLabel)"
   ]
  },
  {
   "cell_type": "markdown",
   "metadata": {},
   "source": [
    "<html><head><meta charset=\"utf-8\"></head><body><table><thead><tr><th>instrument</th><th>instrumentLabel</th></tr></thead><tbody><tr><td>http://www.wikidata.org/entity/Q258896</td><td>banjo</td></tr><tr><td>http://www.wikidata.org/entity/Q6607</td><td>guitarra</td></tr></tbody></table></body></html>"
   ]
  },
  {
   "cell_type": "markdown",
   "metadata": {},
   "source": [
    "### Consulta 4"
   ]
  },
  {
   "cell_type": "code",
   "execution_count": null,
   "metadata": {},
   "outputs": [],
   "source": []
  },
  {
   "cell_type": "code",
   "execution_count": null,
   "metadata": {},
   "outputs": [],
   "source": []
  },
  {
   "cell_type": "code",
   "execution_count": null,
   "metadata": {},
   "outputs": [],
   "source": []
  },
  {
   "cell_type": "raw",
   "metadata": {},
   "source": [
    "SELECT DISTINCT ?peli ?peliLabel\n",
    "WHERE {\n",
    "  ?peli wdt:P31 wd:Q11424.\n",
    "  ?peli p:P86 [ps:P86 wd:Q76364].\n",
    "  \n",
    "  SERVICE wikibase:label { bd:serviceParam wikibase:language \"[AUTO_LANGUAGE],en\". }\n",
    "} ORDER BY ?peliLabel"
   ]
  },
  {
   "cell_type": "markdown",
   "metadata": {},
   "source": [
    "<html><head><meta charset=\"utf-8\"></head><body><table><thead><tr><th>peli</th><th>peliLabel</th></tr></thead><tbody><tr><td>http://www.wikidata.org/entity/Q4749984</td><td>An Everlasting Piece</td></tr><tr><td>http://www.wikidata.org/entity/Q16155083</td><td>Batkid</td></tr><tr><td>http://www.wikidata.org/entity/Q47069744</td><td>Believer</td></tr><tr><td>http://www.wikidata.org/entity/Q1753610</td><td>Beyond Rangoon</td></tr><tr><td>http://www.wikidata.org/entity/Q583623</td><td>Burning Secret</td></tr><tr><td>http://www.wikidata.org/entity/Q3402011</td><td>Calendar Girl</td></tr><tr><td>http://www.wikidata.org/entity/Q2963312</td><td>Chicago Joe and the Showgirl</td></tr><tr><td>http://www.wikidata.org/entity/Q1192764</td><td>Chill Factor</td></tr><tr><td>http://www.wikidata.org/entity/Q4096517</td><td>Dark Obsession</td></tr><tr><td>http://www.wikidata.org/entity/Q4376535</td><td>Fools of Fortune</td></tr><tr><td>http://www.wikidata.org/entity/Q853425</td><td>I'll Do Anything</td></tr><tr><td>http://www.wikidata.org/entity/Q6928990</td><td>Mr. Morgan's Last Love</td></tr><tr><td>http://www.wikidata.org/entity/Q18511204</td><td>Nightmare at Noon</td></tr><tr><td>http://www.wikidata.org/entity/Q129288</td><td>Renaissance Man</td></tr><tr><td>http://www.wikidata.org/entity/Q57983078</td><td>Separate Vacations</td></tr><tr><td>http://www.wikidata.org/entity/Q3964671</td><td>Son of Morning</td></tr><tr><td>http://www.wikidata.org/entity/Q7702661</td><td>Terminal Exposure</td></tr><tr><td>http://www.wikidata.org/entity/Q7735390</td><td>The Fruit Machine</td></tr><tr><td>http://www.wikidata.org/entity/Q571014</td><td>The Last Days</td></tr><tr><td>http://www.wikidata.org/entity/Q2406188</td><td>The Lightship</td></tr><tr><td>http://www.wikidata.org/entity/Q85530211</td><td>The Road of Love</td></tr><tr><td>http://www.wikidata.org/entity/Q27958082</td><td>The Wind</td></tr><tr><td>http://www.wikidata.org/entity/Q4327979</td><td>The Zero Boys</td></tr><tr><td>http://www.wikidata.org/entity/Q4424430</td><td>Twister</td></tr><tr><td>http://www.wikidata.org/entity/Q7858914</td><td>Two Deaths</td></tr><tr><td>http://www.wikidata.org/entity/Q1472370</td><td>Younger and Younger</td></tr><tr><td>http://www.wikidata.org/entity/Q3023357</td><td>12 Años de esclavitud</td></tr><tr><td>http://www.wikidata.org/entity/Q1306472</td><td>A League of Their Own</td></tr><tr><td>http://www.wikidata.org/entity/Q499371</td><td>Backdraft</td></tr><tr><td>http://www.wikidata.org/entity/Q166262</td><td>Batman Begins</td></tr><tr><td>http://www.wikidata.org/entity/Q14772351</td><td>Batman v Superman: El Amanecer De La Justicia</td></tr><tr><td>http://www.wikidata.org/entity/Q135347</td><td>Bird on a Wire</td></tr><tr><td>http://www.wikidata.org/entity/Q221384</td><td>Black Hawk Down</td></tr><tr><td>http://www.wikidata.org/entity/Q1048085</td><td>Black Rain</td></tr><tr><td>http://www.wikidata.org/entity/Q21500755</td><td>Blade Runner 2049</td></tr><tr><td>http://www.wikidata.org/entity/Q61450772</td><td>Bob Esponja al Rescate</td></tr><tr><td>http://www.wikidata.org/entity/Q21534241</td><td>Bond 25</td></tr><tr><td>http://www.wikidata.org/entity/Q392915</td><td>Broken Arrow</td></tr><tr><td>http://www.wikidata.org/entity/Q15209986</td><td>Chappie</td></tr><tr><td>http://www.wikidata.org/entity/Q603696</td><td>Days of Thunder</td></tr><tr><td>http://www.wikidata.org/entity/Q211373</td><td>Driving Miss Daisy</td></tr><tr><td>http://www.wikidata.org/entity/Q60834962</td><td>Dune</td></tr><tr><td>http://www.wikidata.org/entity/Q21935651</td><td>Dunkirk</td></tr><tr><td>http://www.wikidata.org/entity/Q1148079</td><td>El Inquilino o De Repente, un Extraño.</td></tr><tr><td>http://www.wikidata.org/entity/Q160560</td><td>El código Da Vinci</td></tr><tr><td>http://www.wikidata.org/entity/Q622769</td><td>El hombre de acero</td></tr><tr><td>http://www.wikidata.org/entity/Q60296</td><td>El hombre del tiempo</td></tr><tr><td>http://www.wikidata.org/entity/Q1141706</td><td>El pacificador</td></tr><tr><td>http://www.wikidata.org/entity/Q337090</td><td>El rey Arturo: La verdadera historia que inspiró la leyenda</td></tr><tr><td>http://www.wikidata.org/entity/Q27044293</td><td>El rey león</td></tr><tr><td>http://www.wikidata.org/entity/Q207130</td><td>El último samurái</td></tr><tr><td>http://www.wikidata.org/entity/Q390299</td><td>Fanático</td></tr><tr><td>http://www.wikidata.org/entity/Q18210299</td><td>Freeheld</td></tr><tr><td>http://www.wikidata.org/entity/Q691672</td><td>Frost/Nixon</td></tr><tr><td>http://www.wikidata.org/entity/Q128518</td><td>Gladiator</td></tr><tr><td>http://www.wikidata.org/entity/Q505135</td><td>Green card</td></tr><tr><td>http://www.wikidata.org/entity/Q722682</td><td>Hannibal</td></tr><tr><td>http://www.wikidata.org/entity/Q23755544</td><td>Hidden Figures</td></tr><tr><td>http://www.wikidata.org/entity/Q15137718</td><td>Hijo de Dios</td></tr><tr><td>http://www.wikidata.org/entity/Q523197</td><td>How Do You Know</td></tr><tr><td>http://www.wikidata.org/entity/Q25188</td><td>Inception</td></tr><tr><td>http://www.wikidata.org/entity/Q18192306</td><td>Inferno</td></tr><tr><td>http://www.wikidata.org/entity/Q13417189</td><td>Interstellar</td></tr><tr><td>http://www.wikidata.org/entity/Q640762</td><td>Invencible</td></tr><tr><td>http://www.wikidata.org/entity/Q843950</td><td>It's Complicated</td></tr><tr><td>http://www.wikidata.org/entity/Q216720</td><td>La Roca</td></tr><tr><td>http://www.wikidata.org/entity/Q312394</td><td>La casa de los espíritus</td></tr><tr><td>http://www.wikidata.org/entity/Q17184103</td><td>La dama de oro</td></tr><tr><td>http://www.wikidata.org/entity/Q221491</td><td>La delgada línea roja</td></tr><tr><td>http://www.wikidata.org/entity/Q1140085</td><td>Marea roja</td></tr><tr><td>http://www.wikidata.org/entity/Q4536</td><td>Matchstick Men</td></tr><tr><td>http://www.wikidata.org/entity/Q221594</td><td>Mejor... imposible</td></tr><tr><td>http://www.wikidata.org/entity/Q505790</td><td>Misión: Imposible II</td></tr><tr><td>http://www.wikidata.org/entity/Q955389</td><td>Nueve meses</td></tr><tr><td>http://www.wikidata.org/entity/Q194413</td><td>Pearl Harbor</td></tr><tr><td>http://www.wikidata.org/entity/Q161087</td><td>Pirates of the Caribbean: Dead Man's Chest</td></tr><tr><td>http://www.wikidata.org/entity/Q46717</td><td>Pirates of the Caribbean: The Curse of the Black Pearl</td></tr><tr><td>http://www.wikidata.org/entity/Q577469</td><td>Point of No Return</td></tr><tr><td>http://www.wikidata.org/entity/Q12128282</td><td>Radio Flyer</td></tr><tr><td>http://www.wikidata.org/entity/Q188845</td><td>Rain Man</td></tr><tr><td>http://www.wikidata.org/entity/Q603865</td><td>Regarding Henry</td></tr><tr><td>http://www.wikidata.org/entity/Q1313530</td><td>Riding in Cars with Boys</td></tr><tr><td>http://www.wikidata.org/entity/Q1768437</td><td>Rush</td></tr><tr><td>http://www.wikidata.org/entity/Q1058489</td><td>Sadako 3D</td></tr><tr><td>http://www.wikidata.org/entity/Q1260289</td><td>Salto al peligro</td></tr><tr><td>http://www.wikidata.org/entity/Q200396</td><td>Sherlock Holmes</td></tr><tr><td>http://www.wikidata.org/entity/Q243643</td><td>Sherlock Holmes: juego de sombras</td></tr><tr><td>http://www.wikidata.org/entity/Q1544085</td><td>Something to Talk About</td></tr><tr><td>http://www.wikidata.org/entity/Q584766</td><td>Something's Gotta Give</td></tr><tr><td>http://www.wikidata.org/entity/Q1367647</td><td>Spanglish</td></tr><tr><td>http://www.wikidata.org/entity/Q459889</td><td>Tears of the Sun</td></tr><tr><td>http://www.wikidata.org/entity/Q4254026</td><td>The Amazing Spider-Man 2: Rise of Electro</td></tr><tr><td>http://www.wikidata.org/entity/Q856805</td><td>The Boat That Rocked</td></tr><tr><td>http://www.wikidata.org/entity/Q163872</td><td>The Dark Knight</td></tr><tr><td>http://www.wikidata.org/entity/Q189330</td><td>The Dark Knight Rises</td></tr><tr><td>http://www.wikidata.org/entity/Q1210206</td><td>The Dilemma</td></tr><tr><td>http://www.wikidata.org/entity/Q478748</td><td>The Holiday</td></tr><tr><td>http://www.wikidata.org/entity/Q18151554</td><td>The Last Face</td></tr><tr><td>http://www.wikidata.org/entity/Q150949</td><td>The Power of One</td></tr><tr><td>http://www.wikidata.org/entity/Q1475674</td><td>The Preacher's Wife</td></tr><tr><td>http://www.wikidata.org/entity/Q212804</td><td>The Ring</td></tr><tr><td>http://www.wikidata.org/entity/Q658041</td><td>Thelma y Louise</td></tr><tr><td>http://www.wikidata.org/entity/Q31202708</td><td>Top Gun: Maverick</td></tr><tr><td>http://www.wikidata.org/entity/Q1849238</td><td>Toys</td></tr><tr><td>http://www.wikidata.org/entity/Q1127709</td><td>True Romance</td></tr><tr><td>http://www.wikidata.org/entity/Q232130</td><td>Un mundo aparte</td></tr><tr><td>http://www.wikidata.org/entity/Q29163736</td><td>Viudas</td></tr><tr><td>http://www.wikidata.org/entity/Q3569395</td><td>Winter's Tale</td></tr><tr><td>http://www.wikidata.org/entity/Q33408623</td><td>Wonder Woman 1984</td></tr><tr><td>http://www.wikidata.org/entity/Q31188935</td><td>X-Men: Dark Phoenix</td></tr><tr><td>http://www.wikidata.org/entity/Q192934</td><td>Ángeles y demonios</td></tr></tbody></table></body></html>"
   ]
  },
  {
   "cell_type": "raw",
   "metadata": {},
   "source": [
    "SELECT (COUNT(?peli) as ?cantidad)\n",
    "WHERE {\n",
    "  ?peli wdt:P31 wd:Q11424.\n",
    "  ?peli p:P86 [ps:P86 wd:Q76364].\n",
    "}"
   ]
  },
  {
   "cell_type": "markdown",
   "metadata": {},
   "source": [
    "<html><head><meta charset=\"utf-8\"></head><body><table><thead><tr><th>cantidad</th></tr></thead><tbody><tr><td>111</td></tr></tbody></table></body></html>"
   ]
  },
  {
   "cell_type": "code",
   "execution_count": null,
   "metadata": {},
   "outputs": [],
   "source": []
  },
  {
   "cell_type": "code",
   "execution_count": null,
   "metadata": {},
   "outputs": [],
   "source": []
  }
 ],
 "metadata": {
  "kernelspec": {
   "display_name": "Python 3",
   "language": "python",
   "name": "python3"
  },
  "language_info": {
   "codemirror_mode": {
    "name": "ipython",
    "version": 3
   },
   "file_extension": ".py",
   "mimetype": "text/x-python",
   "name": "python",
   "nbconvert_exporter": "python",
   "pygments_lexer": "ipython3",
   "version": "3.7.4"
  }
 },
 "nbformat": 4,
 "nbformat_minor": 2
}
